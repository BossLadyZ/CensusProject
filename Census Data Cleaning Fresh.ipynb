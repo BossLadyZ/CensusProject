{
 "cells": [
  {
   "cell_type": "markdown",
   "id": "4ee498a3",
   "metadata": {},
   "source": [
    "## Fundamentals of Data Science"
   ]
  },
  {
   "cell_type": "markdown",
   "id": "084300a6",
   "metadata": {},
   "source": [
    "### Student Number: 202172030"
   ]
  },
  {
   "cell_type": "code",
   "execution_count": 1,
   "id": "ee14cdcd",
   "metadata": {},
   "outputs": [],
   "source": [
    "#import necessary libraries\n",
    "\n",
    "import pandas as pd\n",
    "import numpy as np\n",
    "import seaborn as sns\n",
    "import matplotlib.pyplot as plt\n"
   ]
  },
  {
   "cell_type": "markdown",
   "id": "f0335b84",
   "metadata": {},
   "source": [
    "# Data Cleaning\n",
    "Here, I inspect the data and notice the inconsistencies and discrepancies. This would give me the actual direction on what to clean in the data"
   ]
  },
  {
   "cell_type": "code",
   "execution_count": 2,
   "id": "a037aee2",
   "metadata": {},
   "outputs": [],
   "source": [
    "#import data\n",
    "df = pd.read_csv('census_06_2022.csv')"
   ]
  },
  {
   "cell_type": "code",
   "execution_count": 3,
   "id": "de9d6805",
   "metadata": {
    "scrolled": true
   },
   "outputs": [
    {
     "data": {
      "text/html": [
       "<div>\n",
       "<style scoped>\n",
       "    .dataframe tbody tr th:only-of-type {\n",
       "        vertical-align: middle;\n",
       "    }\n",
       "\n",
       "    .dataframe tbody tr th {\n",
       "        vertical-align: top;\n",
       "    }\n",
       "\n",
       "    .dataframe thead th {\n",
       "        text-align: right;\n",
       "    }\n",
       "</style>\n",
       "<table border=\"1\" class=\"dataframe\">\n",
       "  <thead>\n",
       "    <tr style=\"text-align: right;\">\n",
       "      <th></th>\n",
       "      <th>Unnamed: 0</th>\n",
       "      <th>House Number</th>\n",
       "      <th>Street</th>\n",
       "      <th>First Name</th>\n",
       "      <th>Surname</th>\n",
       "      <th>Age</th>\n",
       "      <th>Relationship to Head of House</th>\n",
       "      <th>Marital Status</th>\n",
       "      <th>Gender</th>\n",
       "      <th>Occupation</th>\n",
       "      <th>Infirmity</th>\n",
       "      <th>Religion</th>\n",
       "    </tr>\n",
       "  </thead>\n",
       "  <tbody>\n",
       "    <tr>\n",
       "      <th>0</th>\n",
       "      <td>0</td>\n",
       "      <td>1</td>\n",
       "      <td>Orryjar Lane</td>\n",
       "      <td>Kieran</td>\n",
       "      <td>Ward</td>\n",
       "      <td>56.0</td>\n",
       "      <td>Head</td>\n",
       "      <td>Single</td>\n",
       "      <td>Male</td>\n",
       "      <td>Careers adviser</td>\n",
       "      <td>None</td>\n",
       "      <td>Catholic</td>\n",
       "    </tr>\n",
       "    <tr>\n",
       "      <th>1</th>\n",
       "      <td>1</td>\n",
       "      <td>1</td>\n",
       "      <td>Orryjar Lane</td>\n",
       "      <td>Abdul</td>\n",
       "      <td>Pickering</td>\n",
       "      <td>43.0</td>\n",
       "      <td>None</td>\n",
       "      <td>Single</td>\n",
       "      <td>Male</td>\n",
       "      <td>Public relations account executive</td>\n",
       "      <td>None</td>\n",
       "      <td>Christian</td>\n",
       "    </tr>\n",
       "    <tr>\n",
       "      <th>2</th>\n",
       "      <td>2</td>\n",
       "      <td>2</td>\n",
       "      <td>Orryjar Lane</td>\n",
       "      <td>Rosemary</td>\n",
       "      <td>Steele</td>\n",
       "      <td>30.0</td>\n",
       "      <td>Head</td>\n",
       "      <td>Single</td>\n",
       "      <td>Female</td>\n",
       "      <td>Meteorologist</td>\n",
       "      <td>None</td>\n",
       "      <td>Christian</td>\n",
       "    </tr>\n",
       "    <tr>\n",
       "      <th>3</th>\n",
       "      <td>3</td>\n",
       "      <td>3</td>\n",
       "      <td>Orryjar Lane</td>\n",
       "      <td>Marilyn</td>\n",
       "      <td>Cooke</td>\n",
       "      <td>53.0</td>\n",
       "      <td>Head</td>\n",
       "      <td>Single</td>\n",
       "      <td>Female</td>\n",
       "      <td>Jewellery designer</td>\n",
       "      <td>None</td>\n",
       "      <td>Christian</td>\n",
       "    </tr>\n",
       "    <tr>\n",
       "      <th>4</th>\n",
       "      <td>4</td>\n",
       "      <td>4</td>\n",
       "      <td>Orryjar Lane</td>\n",
       "      <td>Samantha</td>\n",
       "      <td>Coates</td>\n",
       "      <td>63.0</td>\n",
       "      <td>Head</td>\n",
       "      <td>Single</td>\n",
       "      <td>Female</td>\n",
       "      <td>Trade mark attorney</td>\n",
       "      <td>None</td>\n",
       "      <td>None</td>\n",
       "    </tr>\n",
       "  </tbody>\n",
       "</table>\n",
       "</div>"
      ],
      "text/plain": [
       "   Unnamed: 0 House Number        Street First Name    Surname   Age  \\\n",
       "0           0            1  Orryjar Lane     Kieran       Ward  56.0   \n",
       "1           1            1  Orryjar Lane      Abdul  Pickering  43.0   \n",
       "2           2            2  Orryjar Lane   Rosemary     Steele  30.0   \n",
       "3           3            3  Orryjar Lane    Marilyn      Cooke  53.0   \n",
       "4           4            4  Orryjar Lane   Samantha     Coates  63.0   \n",
       "\n",
       "  Relationship to Head of House Marital Status  Gender  \\\n",
       "0                          Head         Single    Male   \n",
       "1                          None         Single    Male   \n",
       "2                          Head         Single  Female   \n",
       "3                          Head         Single  Female   \n",
       "4                          Head         Single  Female   \n",
       "\n",
       "                           Occupation Infirmity   Religion  \n",
       "0                     Careers adviser      None   Catholic  \n",
       "1  Public relations account executive      None  Christian  \n",
       "2                       Meteorologist      None  Christian  \n",
       "3                  Jewellery designer      None  Christian  \n",
       "4                 Trade mark attorney      None       None  "
      ]
     },
     "execution_count": 3,
     "metadata": {},
     "output_type": "execute_result"
    }
   ],
   "source": [
    "df.head()"
   ]
  },
  {
   "cell_type": "code",
   "execution_count": 4,
   "id": "1e65d791",
   "metadata": {
    "scrolled": true
   },
   "outputs": [
    {
     "name": "stdout",
     "output_type": "stream",
     "text": [
      "<class 'pandas.core.frame.DataFrame'>\n",
      "RangeIndex: 9655 entries, 0 to 9654\n",
      "Data columns (total 12 columns):\n",
      " #   Column                         Non-Null Count  Dtype  \n",
      "---  ------                         --------------  -----  \n",
      " 0   Unnamed: 0                     9655 non-null   int64  \n",
      " 1   House Number                   9655 non-null   object \n",
      " 2   Street                         9655 non-null   object \n",
      " 3   First Name                     9655 non-null   object \n",
      " 4   Surname                        9655 non-null   object \n",
      " 5   Age                            9655 non-null   float64\n",
      " 6   Relationship to Head of House  9655 non-null   object \n",
      " 7   Marital Status                 7258 non-null   object \n",
      " 8   Gender                         9655 non-null   object \n",
      " 9   Occupation                     9655 non-null   object \n",
      " 10  Infirmity                      9655 non-null   object \n",
      " 11  Religion                       7189 non-null   object \n",
      "dtypes: float64(1), int64(1), object(10)\n",
      "memory usage: 905.3+ KB\n"
     ]
    }
   ],
   "source": [
    "df.info()"
   ]
  },
  {
   "cell_type": "code",
   "execution_count": 5,
   "id": "218ef89e",
   "metadata": {},
   "outputs": [
    {
     "data": {
      "text/plain": [
       "Unnamed: 0                          0\n",
       "House Number                        0\n",
       "Street                              0\n",
       "First Name                          0\n",
       "Surname                             0\n",
       "Age                                 0\n",
       "Relationship to Head of House       0\n",
       "Marital Status                   2397\n",
       "Gender                              0\n",
       "Occupation                          0\n",
       "Infirmity                           0\n",
       "Religion                         2466\n",
       "dtype: int64"
      ]
     },
     "execution_count": 5,
     "metadata": {},
     "output_type": "execute_result"
    }
   ],
   "source": [
    "df.isna().sum()"
   ]
  },
  {
   "cell_type": "markdown",
   "id": "22c66c61",
   "metadata": {},
   "source": [
    "Immediately, I see an `Unnamed` column which has the same data as the index. So this would be dropped as it is irrelevant to the data"
   ]
  },
  {
   "cell_type": "code",
   "execution_count": 6,
   "id": "51053e7d",
   "metadata": {},
   "outputs": [],
   "source": [
    "df = df.drop(\"Unnamed: 0\", axis=1)"
   ]
  },
  {
   "cell_type": "code",
   "execution_count": 7,
   "id": "d1a09a7b",
   "metadata": {},
   "outputs": [
    {
     "data": {
      "text/html": [
       "<div>\n",
       "<style scoped>\n",
       "    .dataframe tbody tr th:only-of-type {\n",
       "        vertical-align: middle;\n",
       "    }\n",
       "\n",
       "    .dataframe tbody tr th {\n",
       "        vertical-align: top;\n",
       "    }\n",
       "\n",
       "    .dataframe thead th {\n",
       "        text-align: right;\n",
       "    }\n",
       "</style>\n",
       "<table border=\"1\" class=\"dataframe\">\n",
       "  <thead>\n",
       "    <tr style=\"text-align: right;\">\n",
       "      <th></th>\n",
       "      <th>House Number</th>\n",
       "      <th>Street</th>\n",
       "      <th>First Name</th>\n",
       "      <th>Surname</th>\n",
       "      <th>Age</th>\n",
       "      <th>Relationship to Head of House</th>\n",
       "      <th>Marital Status</th>\n",
       "      <th>Gender</th>\n",
       "      <th>Occupation</th>\n",
       "      <th>Infirmity</th>\n",
       "      <th>Religion</th>\n",
       "    </tr>\n",
       "  </thead>\n",
       "  <tbody>\n",
       "    <tr>\n",
       "      <th>0</th>\n",
       "      <td>1</td>\n",
       "      <td>Orryjar Lane</td>\n",
       "      <td>Kieran</td>\n",
       "      <td>Ward</td>\n",
       "      <td>56.0</td>\n",
       "      <td>Head</td>\n",
       "      <td>Single</td>\n",
       "      <td>Male</td>\n",
       "      <td>Careers adviser</td>\n",
       "      <td>None</td>\n",
       "      <td>Catholic</td>\n",
       "    </tr>\n",
       "    <tr>\n",
       "      <th>1</th>\n",
       "      <td>1</td>\n",
       "      <td>Orryjar Lane</td>\n",
       "      <td>Abdul</td>\n",
       "      <td>Pickering</td>\n",
       "      <td>43.0</td>\n",
       "      <td>None</td>\n",
       "      <td>Single</td>\n",
       "      <td>Male</td>\n",
       "      <td>Public relations account executive</td>\n",
       "      <td>None</td>\n",
       "      <td>Christian</td>\n",
       "    </tr>\n",
       "    <tr>\n",
       "      <th>2</th>\n",
       "      <td>2</td>\n",
       "      <td>Orryjar Lane</td>\n",
       "      <td>Rosemary</td>\n",
       "      <td>Steele</td>\n",
       "      <td>30.0</td>\n",
       "      <td>Head</td>\n",
       "      <td>Single</td>\n",
       "      <td>Female</td>\n",
       "      <td>Meteorologist</td>\n",
       "      <td>None</td>\n",
       "      <td>Christian</td>\n",
       "    </tr>\n",
       "    <tr>\n",
       "      <th>3</th>\n",
       "      <td>3</td>\n",
       "      <td>Orryjar Lane</td>\n",
       "      <td>Marilyn</td>\n",
       "      <td>Cooke</td>\n",
       "      <td>53.0</td>\n",
       "      <td>Head</td>\n",
       "      <td>Single</td>\n",
       "      <td>Female</td>\n",
       "      <td>Jewellery designer</td>\n",
       "      <td>None</td>\n",
       "      <td>Christian</td>\n",
       "    </tr>\n",
       "    <tr>\n",
       "      <th>4</th>\n",
       "      <td>4</td>\n",
       "      <td>Orryjar Lane</td>\n",
       "      <td>Samantha</td>\n",
       "      <td>Coates</td>\n",
       "      <td>63.0</td>\n",
       "      <td>Head</td>\n",
       "      <td>Single</td>\n",
       "      <td>Female</td>\n",
       "      <td>Trade mark attorney</td>\n",
       "      <td>None</td>\n",
       "      <td>None</td>\n",
       "    </tr>\n",
       "  </tbody>\n",
       "</table>\n",
       "</div>"
      ],
      "text/plain": [
       "  House Number        Street First Name    Surname   Age  \\\n",
       "0            1  Orryjar Lane     Kieran       Ward  56.0   \n",
       "1            1  Orryjar Lane      Abdul  Pickering  43.0   \n",
       "2            2  Orryjar Lane   Rosemary     Steele  30.0   \n",
       "3            3  Orryjar Lane    Marilyn      Cooke  53.0   \n",
       "4            4  Orryjar Lane   Samantha     Coates  63.0   \n",
       "\n",
       "  Relationship to Head of House Marital Status  Gender  \\\n",
       "0                          Head         Single    Male   \n",
       "1                          None         Single    Male   \n",
       "2                          Head         Single  Female   \n",
       "3                          Head         Single  Female   \n",
       "4                          Head         Single  Female   \n",
       "\n",
       "                           Occupation Infirmity   Religion  \n",
       "0                     Careers adviser      None   Catholic  \n",
       "1  Public relations account executive      None  Christian  \n",
       "2                       Meteorologist      None  Christian  \n",
       "3                  Jewellery designer      None  Christian  \n",
       "4                 Trade mark attorney      None       None  "
      ]
     },
     "execution_count": 7,
     "metadata": {},
     "output_type": "execute_result"
    }
   ],
   "source": [
    "df.head()"
   ]
  },
  {
   "cell_type": "markdown",
   "id": "3f4f7369",
   "metadata": {},
   "source": [
    "I also think \"First Name\" to \"Last Name\" as much more appropriate than \"Surname\" so I'm renaming it."
   ]
  },
  {
   "cell_type": "code",
   "execution_count": 8,
   "id": "6089b6e2",
   "metadata": {},
   "outputs": [],
   "source": [
    "df.rename(columns={\"Surname\":\"Last Name\"}, inplace=True)"
   ]
  },
  {
   "cell_type": "code",
   "execution_count": 9,
   "id": "370597e6",
   "metadata": {},
   "outputs": [
    {
     "data": {
      "text/html": [
       "<div>\n",
       "<style scoped>\n",
       "    .dataframe tbody tr th:only-of-type {\n",
       "        vertical-align: middle;\n",
       "    }\n",
       "\n",
       "    .dataframe tbody tr th {\n",
       "        vertical-align: top;\n",
       "    }\n",
       "\n",
       "    .dataframe thead th {\n",
       "        text-align: right;\n",
       "    }\n",
       "</style>\n",
       "<table border=\"1\" class=\"dataframe\">\n",
       "  <thead>\n",
       "    <tr style=\"text-align: right;\">\n",
       "      <th></th>\n",
       "      <th>House Number</th>\n",
       "      <th>Street</th>\n",
       "      <th>First Name</th>\n",
       "      <th>Last Name</th>\n",
       "      <th>Age</th>\n",
       "      <th>Relationship to Head of House</th>\n",
       "      <th>Marital Status</th>\n",
       "      <th>Gender</th>\n",
       "      <th>Occupation</th>\n",
       "      <th>Infirmity</th>\n",
       "      <th>Religion</th>\n",
       "    </tr>\n",
       "  </thead>\n",
       "  <tbody>\n",
       "    <tr>\n",
       "      <th>0</th>\n",
       "      <td>1</td>\n",
       "      <td>Orryjar Lane</td>\n",
       "      <td>Kieran</td>\n",
       "      <td>Ward</td>\n",
       "      <td>56.0</td>\n",
       "      <td>Head</td>\n",
       "      <td>Single</td>\n",
       "      <td>Male</td>\n",
       "      <td>Careers adviser</td>\n",
       "      <td>None</td>\n",
       "      <td>Catholic</td>\n",
       "    </tr>\n",
       "    <tr>\n",
       "      <th>1</th>\n",
       "      <td>1</td>\n",
       "      <td>Orryjar Lane</td>\n",
       "      <td>Abdul</td>\n",
       "      <td>Pickering</td>\n",
       "      <td>43.0</td>\n",
       "      <td>None</td>\n",
       "      <td>Single</td>\n",
       "      <td>Male</td>\n",
       "      <td>Public relations account executive</td>\n",
       "      <td>None</td>\n",
       "      <td>Christian</td>\n",
       "    </tr>\n",
       "    <tr>\n",
       "      <th>2</th>\n",
       "      <td>2</td>\n",
       "      <td>Orryjar Lane</td>\n",
       "      <td>Rosemary</td>\n",
       "      <td>Steele</td>\n",
       "      <td>30.0</td>\n",
       "      <td>Head</td>\n",
       "      <td>Single</td>\n",
       "      <td>Female</td>\n",
       "      <td>Meteorologist</td>\n",
       "      <td>None</td>\n",
       "      <td>Christian</td>\n",
       "    </tr>\n",
       "    <tr>\n",
       "      <th>3</th>\n",
       "      <td>3</td>\n",
       "      <td>Orryjar Lane</td>\n",
       "      <td>Marilyn</td>\n",
       "      <td>Cooke</td>\n",
       "      <td>53.0</td>\n",
       "      <td>Head</td>\n",
       "      <td>Single</td>\n",
       "      <td>Female</td>\n",
       "      <td>Jewellery designer</td>\n",
       "      <td>None</td>\n",
       "      <td>Christian</td>\n",
       "    </tr>\n",
       "    <tr>\n",
       "      <th>4</th>\n",
       "      <td>4</td>\n",
       "      <td>Orryjar Lane</td>\n",
       "      <td>Samantha</td>\n",
       "      <td>Coates</td>\n",
       "      <td>63.0</td>\n",
       "      <td>Head</td>\n",
       "      <td>Single</td>\n",
       "      <td>Female</td>\n",
       "      <td>Trade mark attorney</td>\n",
       "      <td>None</td>\n",
       "      <td>None</td>\n",
       "    </tr>\n",
       "  </tbody>\n",
       "</table>\n",
       "</div>"
      ],
      "text/plain": [
       "  House Number        Street First Name  Last Name   Age  \\\n",
       "0            1  Orryjar Lane     Kieran       Ward  56.0   \n",
       "1            1  Orryjar Lane      Abdul  Pickering  43.0   \n",
       "2            2  Orryjar Lane   Rosemary     Steele  30.0   \n",
       "3            3  Orryjar Lane    Marilyn      Cooke  53.0   \n",
       "4            4  Orryjar Lane   Samantha     Coates  63.0   \n",
       "\n",
       "  Relationship to Head of House Marital Status  Gender  \\\n",
       "0                          Head         Single    Male   \n",
       "1                          None         Single    Male   \n",
       "2                          Head         Single  Female   \n",
       "3                          Head         Single  Female   \n",
       "4                          Head         Single  Female   \n",
       "\n",
       "                           Occupation Infirmity   Religion  \n",
       "0                     Careers adviser      None   Catholic  \n",
       "1  Public relations account executive      None  Christian  \n",
       "2                       Meteorologist      None  Christian  \n",
       "3                  Jewellery designer      None  Christian  \n",
       "4                 Trade mark attorney      None       None  "
      ]
     },
     "execution_count": 9,
     "metadata": {},
     "output_type": "execute_result"
    }
   ],
   "source": [
    "df.head()"
   ]
  },
  {
   "cell_type": "code",
   "execution_count": 10,
   "id": "d6a50b7d",
   "metadata": {},
   "outputs": [
    {
     "name": "stdout",
     "output_type": "stream",
     "text": [
      "<class 'pandas.core.frame.DataFrame'>\n",
      "RangeIndex: 9655 entries, 0 to 9654\n",
      "Data columns (total 11 columns):\n",
      " #   Column                         Non-Null Count  Dtype  \n",
      "---  ------                         --------------  -----  \n",
      " 0   House Number                   9655 non-null   object \n",
      " 1   Street                         9655 non-null   object \n",
      " 2   First Name                     9655 non-null   object \n",
      " 3   Last Name                      9655 non-null   object \n",
      " 4   Age                            9655 non-null   float64\n",
      " 5   Relationship to Head of House  9655 non-null   object \n",
      " 6   Marital Status                 7258 non-null   object \n",
      " 7   Gender                         9655 non-null   object \n",
      " 8   Occupation                     9655 non-null   object \n",
      " 9   Infirmity                      9655 non-null   object \n",
      " 10  Religion                       7189 non-null   object \n",
      "dtypes: float64(1), object(10)\n",
      "memory usage: 829.9+ KB\n"
     ]
    }
   ],
   "source": [
    "# data overview\n",
    "\n",
    "df.info()"
   ]
  },
  {
   "cell_type": "code",
   "execution_count": 11,
   "id": "12181412",
   "metadata": {},
   "outputs": [
    {
     "data": {
      "text/plain": [
       "(9655, 11)"
      ]
     },
     "execution_count": 11,
     "metadata": {},
     "output_type": "execute_result"
    }
   ],
   "source": [
    "df.shape"
   ]
  },
  {
   "cell_type": "markdown",
   "id": "42942ffa",
   "metadata": {},
   "source": [
    "### Observations:\n",
    "\n",
    "`11 features`, 11 Columns, with `9655` entires. All features apart from `Age` have data type as object. `Age`, however, cannot be float."
   ]
  },
  {
   "cell_type": "code",
   "execution_count": 12,
   "id": "ddc6971c",
   "metadata": {},
   "outputs": [
    {
     "data": {
      "text/plain": [
       "House Number                        0\n",
       "Street                              0\n",
       "First Name                          0\n",
       "Last Name                           0\n",
       "Age                                 0\n",
       "Relationship to Head of House       0\n",
       "Marital Status                   2397\n",
       "Gender                              0\n",
       "Occupation                          0\n",
       "Infirmity                           0\n",
       "Religion                         2466\n",
       "dtype: int64"
      ]
     },
     "execution_count": 12,
     "metadata": {},
     "output_type": "execute_result"
    }
   ],
   "source": [
    "#check for null values\n",
    "df.isna().sum()"
   ]
  },
  {
   "cell_type": "markdown",
   "id": "242e97d4",
   "metadata": {},
   "source": [
    "### Observations:\n",
    "\n",
    "`Marital Status` and `Religion` have `2397` and `2466` numbers of missing values respectively. All other features have no missing values."
   ]
  },
  {
   "cell_type": "markdown",
   "id": "c1724450",
   "metadata": {},
   "source": [
    "### Features Inspection and Cleaning"
   ]
  },
  {
   "cell_type": "markdown",
   "id": "15b325cd",
   "metadata": {},
   "source": [
    "### House Number:\n"
   ]
  },
  {
   "cell_type": "code",
   "execution_count": 13,
   "id": "f525d002",
   "metadata": {
    "scrolled": true
   },
   "outputs": [
    {
     "data": {
      "text/plain": [
       "array(['1', '2', '3', '4', '5', '6', '7', '8', '9', '10', '11', '12',\n",
       "       '13', '14', '15', '16', '17', '18', '19', '20', '21', '22', '23',\n",
       "       '24', '25', '26', '27', '28', '29', '30', '31', '32', '33', '34',\n",
       "       '35', '36', '37', '38', '39', '40', '41', '42', '43', '44', '45',\n",
       "       '46', '47', '48', '49', '50', '51', '52', '53', '54', '55', '56',\n",
       "       '57', '58', '59', '60', '61', '62', '63', '64', '65', '66', '67',\n",
       "       '68', '69', '70', '71', '72', '73', '74', '75', '76', '77', '78',\n",
       "       '79', '80', '81', '82', '83', '84', '85', '86', '87', '88', '89',\n",
       "       '90', '91', '92', '93', '94', '95', '96', '97', '98', '99', '100',\n",
       "       '101', '102', '103', '104', '105', '106', '107', '108', '109',\n",
       "       '110', '111', '112', '113', '114', '115', '116', '117', '118',\n",
       "       '119', '120', '121', '122', '123', '124', '125', '126', '127',\n",
       "       '128', '129', '130', '131', '132', '133', '134', '135', '136',\n",
       "       '137', '138', '139', '140', '141', '142', '143', '144', '145',\n",
       "       '146', '147', '148', '149', '150', '151', '152', '153', '154',\n",
       "       '155', '156', '157', '158', '159', '160', '161', '162', '163',\n",
       "       '164', '165', '166', '167', '168', '169', '170', '171', '172',\n",
       "       'eight'], dtype=object)"
      ]
     },
     "execution_count": 13,
     "metadata": {},
     "output_type": "execute_result"
    }
   ],
   "source": [
    "df['House Number'].unique()"
   ]
  },
  {
   "cell_type": "markdown",
   "id": "0b0768d5",
   "metadata": {},
   "source": [
    "#### Observations:\n",
    "House Number is `string` and has one value recorded as words instead of figures. `eight` instead of `8`"
   ]
  },
  {
   "cell_type": "code",
   "execution_count": 14,
   "id": "be5a52ad",
   "metadata": {},
   "outputs": [],
   "source": [
    "#change words to figure\n",
    "\n",
    "df.loc[df['House Number'] == 'eight', 'House Number'] = 8"
   ]
  },
  {
   "cell_type": "code",
   "execution_count": 15,
   "id": "2df6bdaa",
   "metadata": {},
   "outputs": [],
   "source": [
    "#change data type to integer\n",
    "df['House Number'] = df['House Number'].astype(int)"
   ]
  },
  {
   "cell_type": "code",
   "execution_count": 16,
   "id": "30b63730",
   "metadata": {
    "scrolled": true
   },
   "outputs": [
    {
     "data": {
      "text/plain": [
       "array([  1,   2,   3,   4,   5,   6,   7,   8,   9,  10,  11,  12,  13,\n",
       "        14,  15,  16,  17,  18,  19,  20,  21,  22,  23,  24,  25,  26,\n",
       "        27,  28,  29,  30,  31,  32,  33,  34,  35,  36,  37,  38,  39,\n",
       "        40,  41,  42,  43,  44,  45,  46,  47,  48,  49,  50,  51,  52,\n",
       "        53,  54,  55,  56,  57,  58,  59,  60,  61,  62,  63,  64,  65,\n",
       "        66,  67,  68,  69,  70,  71,  72,  73,  74,  75,  76,  77,  78,\n",
       "        79,  80,  81,  82,  83,  84,  85,  86,  87,  88,  89,  90,  91,\n",
       "        92,  93,  94,  95,  96,  97,  98,  99, 100, 101, 102, 103, 104,\n",
       "       105, 106, 107, 108, 109, 110, 111, 112, 113, 114, 115, 116, 117,\n",
       "       118, 119, 120, 121, 122, 123, 124, 125, 126, 127, 128, 129, 130,\n",
       "       131, 132, 133, 134, 135, 136, 137, 138, 139, 140, 141, 142, 143,\n",
       "       144, 145, 146, 147, 148, 149, 150, 151, 152, 153, 154, 155, 156,\n",
       "       157, 158, 159, 160, 161, 162, 163, 164, 165, 166, 167, 168, 169,\n",
       "       170, 171, 172])"
      ]
     },
     "execution_count": 16,
     "metadata": {},
     "output_type": "execute_result"
    }
   ],
   "source": [
    "df['House Number'].unique()"
   ]
  },
  {
   "cell_type": "code",
   "execution_count": 17,
   "id": "a5a1819a",
   "metadata": {},
   "outputs": [
    {
     "data": {
      "text/plain": [
       "0"
      ]
     },
     "execution_count": 17,
     "metadata": {},
     "output_type": "execute_result"
    }
   ],
   "source": [
    "df['House Number'].isna().sum()"
   ]
  },
  {
   "cell_type": "markdown",
   "id": "6aecdf3d",
   "metadata": {},
   "source": [
    "`House Number` column is now cleaned."
   ]
  },
  {
   "cell_type": "markdown",
   "id": "61430a8a",
   "metadata": {},
   "source": [
    "### Street:"
   ]
  },
  {
   "cell_type": "code",
   "execution_count": 18,
   "id": "4359d93d",
   "metadata": {
    "scrolled": true
   },
   "outputs": [
    {
     "data": {
      "text/plain": [
       "array(['Orryjar Lane', 'Protectorate Manors', 'West Road',\n",
       "       'Wood Extensions', 'Dumnonianet Drive', 'Ali Harbors',\n",
       "       'Hill Street', 'Clayton Lake', 'Spider Avenue', 'Ashton Corner',\n",
       "       'Snapdragonbarrier Drive', 'Walker Oval', 'St.Mark Terrace',\n",
       "       'Ball Rest', 'Hodgson Mountain', 'Tamarisk Street',\n",
       "       'Clearwater Lodge', 'Foxglovepull Drive', 'Repton Drive',\n",
       "       'Wembley Junction', 'Weston Point', 'Barrett Circles', 'Bond Burg',\n",
       "       'Wells Avenue', 'St.Matthew Valleys', 'Rogers Lodge',\n",
       "       'Pilgrim Drive', 'Black Causeway', 'Coconut Lane', 'John Avenue',\n",
       "       'Kelly Knoll', 'Mason Drive', 'Taylor Flat', 'Brickcharm Street',\n",
       "       'Lynch Streets', 'Cooper Lane', 'Testamentcurl Street',\n",
       "       'Rogers Field', 'Southampton Wells', 'Todd Canyon',\n",
       "       'Kestrelshy Lane', 'Tegid Drive', 'Brass Centers',\n",
       "       'Pinewood Course', 'Queen Road', 'Stirlingtun Road',\n",
       "       'Fisher Drive', 'Repton Crest', 'Pillarfix Street',\n",
       "       'Charity Avenue', 'Repton Street', 'Jones Spring',\n",
       "       'Coniferhatch Drive', 'Newcastle Pine', 'Farthing Club',\n",
       "       'Bishop Avenue', 'Wolverine Forges', 'Butler Road', 'Brass Pine',\n",
       "       'Randall Throughway', 'June Lane', 'Tiger Street',\n",
       "       'William Squares', 'Capricorn Common', 'Roberts Crescent',\n",
       "       'Sandy Avenue', 'Mahogany Drive', 'Glasgow Drive',\n",
       "       \"O'Sullivan Avenue\", 'Ring Street', 'Bentley Forges', 'Steel Road',\n",
       "       'Equinoxbait Road', 'Pendragon Avenue', 'Palmer Drive',\n",
       "       'Wolverine Drive', 'Parker Stream', 'Canary Glen',\n",
       "       'Hutchinson Rest', 'Wales Parks', 'Sagittarius Glen',\n",
       "       'Dublin Oval', 'Lee Road', 'Simpson Lakes', 'Stone Extensions',\n",
       "       'Cumberland Street', 'Clementine Avenue', 'Walker Corner',\n",
       "       'Outer Road', 'Protectorate Skyway', 'England Tower',\n",
       "       'Robinson Cottage', 'Marshall Rectory', 'Inverness Fortress',\n",
       "       'James Commune', 'Bastille Keep', 'Reindeer Commune', 'Hill Barn',\n",
       "       'Barry Rectory', 'Lyons Abbey', 'Fletcher Granary',\n",
       "       'Brightwater Haven', 'Edwards Manorhouse', 'Memorial Citadel',\n",
       "       'Armagh Longhouse'], dtype=object)"
      ]
     },
     "execution_count": 18,
     "metadata": {},
     "output_type": "execute_result"
    }
   ],
   "source": [
    "df['Street'].unique()"
   ]
  },
  {
   "cell_type": "code",
   "execution_count": 19,
   "id": "cce49280",
   "metadata": {},
   "outputs": [
    {
     "data": {
      "text/plain": [
       "0"
      ]
     },
     "execution_count": 19,
     "metadata": {},
     "output_type": "execute_result"
    }
   ],
   "source": [
    "df['Street'].isna().sum()"
   ]
  },
  {
   "cell_type": "code",
   "execution_count": 20,
   "id": "a445d70f",
   "metadata": {},
   "outputs": [
    {
     "data": {
      "text/plain": [
       "0"
      ]
     },
     "execution_count": 20,
     "metadata": {},
     "output_type": "execute_result"
    }
   ],
   "source": [
    "df.loc[df['Street']== ' ', 'Street'].sum()"
   ]
  },
  {
   "cell_type": "markdown",
   "id": "64c4252c",
   "metadata": {},
   "source": [
    "#### Observations\n",
    "\n",
    "No invalidity or inconsistenies observed."
   ]
  },
  {
   "cell_type": "markdown",
   "id": "4dee48aa",
   "metadata": {},
   "source": [
    "### First Name:"
   ]
  },
  {
   "cell_type": "code",
   "execution_count": 21,
   "id": "68f74691",
   "metadata": {},
   "outputs": [
    {
     "data": {
      "text/plain": [
       "array(['Kieran', 'Abdul', 'Rosemary', 'Marilyn', 'Samantha', 'Phillip',\n",
       "       'Douglas', 'Louise', 'Jade', 'Mathew', 'Annette', 'William',\n",
       "       'Claire', 'Ellie', 'Rhys', 'Chelsea', 'Joshua', 'Lynn', 'Valerie',\n",
       "       'Dylan', 'Diane', 'John', 'Julie', 'Jacob', 'Gary', 'Katherine',\n",
       "       'Sophie', 'Damian', 'Christopher', 'Frederick', 'Charles', 'Eric',\n",
       "       'Gareth', 'Clive', 'Kathleen', 'Lindsey', 'Sam', 'Benjamin',\n",
       "       'June', 'Leah', 'Paul', 'Linda', 'Joseph', 'Suzanne', 'Laura',\n",
       "       'Justin', 'Bruce', 'Alex', 'Geoffrey', 'Paula', 'Luke', 'Natalie',\n",
       "       'Joe', 'Wayne', 'Lesley', 'Josephine', 'Jessica', 'Simon', 'Sian',\n",
       "       'Caroline', 'Max', 'Malcolm', 'Joyce', 'Georgia', 'Graham',\n",
       "       'Grace', 'Terence', 'Judith', 'Lewis', 'Dean', 'Margaret',\n",
       "       'Sylvia', 'Gordon', 'Martin', 'Joanne', 'Cameron', 'Geraldine',\n",
       "       'Jake', 'Trevor', 'Sarah', 'Elliot', 'Maurice', 'Ruth', 'Denise',\n",
       "       'Anna', 'Yvonne', 'Dorothy', 'Bernard', 'Jack', 'Jill', 'Jeremy',\n",
       "       'Donna', 'Catherine', 'Lawrence', 'Chloe', 'Kathryn', 'Roger',\n",
       "       'Roy', 'Tina', 'Lorraine', 'Patrick', 'Carl', 'Shane', 'Graeme',\n",
       "       'Terry', 'Stephen', 'Alison', 'Dominic', 'Rita', 'Mitchell',\n",
       "       'Allan', 'Marian', 'Callum', 'Kerry', 'Kate', 'Rachael', 'Diana',\n",
       "       'Sally', 'Toby', 'Samuel', 'James', 'Mark', 'Stacey', 'Shannon',\n",
       "       'Gerard', 'Kayleigh', 'Megan', 'Damien', 'Timothy', 'Barry',\n",
       "       'Joan', 'Jemma', 'Frank', 'Jennifer', 'Holly', 'Glenn', 'Michelle',\n",
       "       'Elliott', 'Melissa', 'Ross', 'Bryan', 'Leslie', 'Angela', 'Kelly',\n",
       "       'Craig', 'Charlotte', 'Matthew', 'Carole', 'Emily', 'Connor',\n",
       "       'Gerald', 'Brandon', 'Marc', 'Jason', 'Beverley', 'Charlie',\n",
       "       'Jayne', 'Michael', 'Hannah', 'Hazel', 'Amelia', 'Jean', 'Hollie',\n",
       "       'Ronald', 'Daniel', 'Pamela', 'Cheryl', 'Bethany', 'Antony',\n",
       "       'Dennis', 'Zoe', 'Christine', 'Molly', 'Jacqueline', 'Marcus',\n",
       "       'Danny', 'Naomi', 'Jane', 'Owen', 'Dale', 'Susan', 'Denis',\n",
       "       'Marie', 'Mohammed', 'Dawn', 'Nathan', 'Sean', 'Clare', 'Clifford',\n",
       "       'Georgina', 'Helen', 'Gemma', 'Martyn', 'Mandy', 'Ricky', 'Lee',\n",
       "       'Adam', 'Tom', 'Hilary', 'Harry', 'Conor', 'Lucy', 'Amy',\n",
       "       'Harriet', 'Ann', 'Paige', 'Keith', 'Katie', 'Arthur', 'Patricia',\n",
       "       'Philip', 'Eileen', 'Sharon', 'Russell', 'Nicholas', 'Scott',\n",
       "       'Hugh', 'Sara', 'Gregory', 'Katy', 'David', 'Jodie', 'Julian',\n",
       "       'Nicola', 'Christian', 'Beth', 'Deborah', 'Jenna', 'Stanley',\n",
       "       'Wendy', 'Joel', 'Mary', 'Reece', 'Jonathan', 'Albert', 'Glen',\n",
       "       'Julia', 'Shaun', 'Hayley', 'Duncan', 'Bethan', 'Leigh', 'Rachel',\n",
       "       'Andrea', 'Fiona', 'Howard', 'Vanessa', 'Anne', 'Alexander',\n",
       "       'Liam', 'Kevin', 'Lydia', 'Olivia', 'Robert', 'Derek', 'Lauren',\n",
       "       'Declan', 'Jordan', 'Charlene', 'Kim', 'Carol', 'Pauline',\n",
       "       'Jeffrey', 'Guy', 'Aaron', 'George', 'Norman', 'Frances',\n",
       "       'Bradley', 'Aimee', 'Tony', 'Donald', 'Danielle', 'Lisa',\n",
       "       'Kimberley', 'Steven', 'Marion', 'Tracy', 'Mohamed', 'Lynda',\n",
       "       'Anthony', 'Ryan', 'Barbara', 'Alexandra', 'Shirley', 'Garry',\n",
       "       'Amanda', 'Melanie', 'Alice', 'Maria', 'Maureen', 'Jasmine',\n",
       "       'Stewart', 'Jamie', 'Vincent', 'Henry', 'Amber', 'Robin', 'Nigel',\n",
       "       'Rosie', 'Colin', 'Sandra', 'Iain', 'Victoria', 'Irene', 'Alan',\n",
       "       'Kenneth', 'Gavin', 'Raymond', 'Gail', 'Neil', 'Jay', 'Gillian',\n",
       "       'Lynne', 'Kyle', 'Ben', 'Peter', 'Brenda', 'Emma', 'Janice',\n",
       "       'Rebecca', 'Richard', 'Tracey', 'Leanne', 'Joanna', 'Edward',\n",
       "       'Elaine', 'Carly', 'Teresa', 'Natasha', 'Josh', 'Kirsty', 'Brian',\n",
       "       'Nicole', 'Heather', 'Louis', 'Stephanie', 'Andrew', 'Victor',\n",
       "       'Francesca', 'Debra', 'Billy', 'Karen', 'Francis', 'Carolyn',\n",
       "       'Brett', 'Ashley', 'Leonard', 'Adrian', 'Karl', 'Oliver',\n",
       "       'Elizabeth', 'Eleanor', 'Janet', 'Leon', 'Ashleigh', 'Abbie',\n",
       "       'Thomas', 'Stuart', 'Sheila', 'Abigail', 'Mohammad', 'Darren',\n",
       "       'Ian', ' '], dtype=object)"
      ]
     },
     "execution_count": 21,
     "metadata": {},
     "output_type": "execute_result"
    }
   ],
   "source": [
    "df['First Name'].unique()"
   ]
  },
  {
   "cell_type": "markdown",
   "id": "60ee13a0",
   "metadata": {},
   "source": [
    "#### Observations:\n",
    "\n",
    "There are empty values entered in the first name column."
   ]
  },
  {
   "cell_type": "code",
   "execution_count": 22,
   "id": "927d90c0",
   "metadata": {},
   "outputs": [
    {
     "data": {
      "text/html": [
       "<div>\n",
       "<style scoped>\n",
       "    .dataframe tbody tr th:only-of-type {\n",
       "        vertical-align: middle;\n",
       "    }\n",
       "\n",
       "    .dataframe tbody tr th {\n",
       "        vertical-align: top;\n",
       "    }\n",
       "\n",
       "    .dataframe thead th {\n",
       "        text-align: right;\n",
       "    }\n",
       "</style>\n",
       "<table border=\"1\" class=\"dataframe\">\n",
       "  <thead>\n",
       "    <tr style=\"text-align: right;\">\n",
       "      <th></th>\n",
       "      <th>House Number</th>\n",
       "      <th>Street</th>\n",
       "      <th>First Name</th>\n",
       "      <th>Last Name</th>\n",
       "      <th>Age</th>\n",
       "      <th>Relationship to Head of House</th>\n",
       "      <th>Marital Status</th>\n",
       "      <th>Gender</th>\n",
       "      <th>Occupation</th>\n",
       "      <th>Infirmity</th>\n",
       "      <th>Religion</th>\n",
       "    </tr>\n",
       "  </thead>\n",
       "  <tbody>\n",
       "    <tr>\n",
       "      <th>4395</th>\n",
       "      <td>14</td>\n",
       "      <td>Todd Canyon</td>\n",
       "      <td></td>\n",
       "      <td>Howells</td>\n",
       "      <td>3.0</td>\n",
       "      <td>Daughter</td>\n",
       "      <td>NaN</td>\n",
       "      <td>Female</td>\n",
       "      <td>Child</td>\n",
       "      <td>None</td>\n",
       "      <td>NaN</td>\n",
       "    </tr>\n",
       "    <tr>\n",
       "      <th>9103</th>\n",
       "      <td>36</td>\n",
       "      <td>Stone Extensions</td>\n",
       "      <td></td>\n",
       "      <td>Begum</td>\n",
       "      <td>19.0</td>\n",
       "      <td>Wife</td>\n",
       "      <td>Married</td>\n",
       "      <td>Female</td>\n",
       "      <td>University Student</td>\n",
       "      <td>None</td>\n",
       "      <td>None</td>\n",
       "    </tr>\n",
       "  </tbody>\n",
       "</table>\n",
       "</div>"
      ],
      "text/plain": [
       "      House Number            Street First Name Last Name   Age  \\\n",
       "4395            14       Todd Canyon              Howells   3.0   \n",
       "9103            36  Stone Extensions                Begum  19.0   \n",
       "\n",
       "     Relationship to Head of House Marital Status  Gender          Occupation  \\\n",
       "4395                      Daughter            NaN  Female               Child   \n",
       "9103                          Wife        Married  Female  University Student   \n",
       "\n",
       "     Infirmity Religion  \n",
       "4395      None      NaN  \n",
       "9103      None     None  "
      ]
     },
     "execution_count": 22,
     "metadata": {},
     "output_type": "execute_result"
    }
   ],
   "source": [
    "df.loc[df['First Name'] == ' ' ]"
   ]
  },
  {
   "cell_type": "markdown",
   "id": "74ad5a74",
   "metadata": {},
   "source": [
    "Two entries have no `First Name`. There are no correlation bewteen these two data entries too, as they do not have the same address nor belong to the same age group. Checking the `Last Name` and `House Number` column might help"
   ]
  },
  {
   "cell_type": "code",
   "execution_count": 23,
   "id": "1674b904",
   "metadata": {
    "scrolled": true
   },
   "outputs": [
    {
     "data": {
      "text/html": [
       "<div>\n",
       "<style scoped>\n",
       "    .dataframe tbody tr th:only-of-type {\n",
       "        vertical-align: middle;\n",
       "    }\n",
       "\n",
       "    .dataframe tbody tr th {\n",
       "        vertical-align: top;\n",
       "    }\n",
       "\n",
       "    .dataframe thead th {\n",
       "        text-align: right;\n",
       "    }\n",
       "</style>\n",
       "<table border=\"1\" class=\"dataframe\">\n",
       "  <thead>\n",
       "    <tr style=\"text-align: right;\">\n",
       "      <th></th>\n",
       "      <th>House Number</th>\n",
       "      <th>Street</th>\n",
       "      <th>First Name</th>\n",
       "      <th>Last Name</th>\n",
       "      <th>Age</th>\n",
       "      <th>Relationship to Head of House</th>\n",
       "      <th>Marital Status</th>\n",
       "      <th>Gender</th>\n",
       "      <th>Occupation</th>\n",
       "      <th>Infirmity</th>\n",
       "      <th>Religion</th>\n",
       "    </tr>\n",
       "  </thead>\n",
       "  <tbody>\n",
       "    <tr>\n",
       "      <th>4393</th>\n",
       "      <td>14</td>\n",
       "      <td>Todd Canyon</td>\n",
       "      <td>Ruth</td>\n",
       "      <td>Howells</td>\n",
       "      <td>25.0</td>\n",
       "      <td>Head</td>\n",
       "      <td>Single</td>\n",
       "      <td>Female</td>\n",
       "      <td>Police officer</td>\n",
       "      <td>None</td>\n",
       "      <td>Sikh</td>\n",
       "    </tr>\n",
       "    <tr>\n",
       "      <th>4394</th>\n",
       "      <td>14</td>\n",
       "      <td>Todd Canyon</td>\n",
       "      <td>Georgia</td>\n",
       "      <td>Howells</td>\n",
       "      <td>7.0</td>\n",
       "      <td>Daughter</td>\n",
       "      <td>NaN</td>\n",
       "      <td>Female</td>\n",
       "      <td>Student</td>\n",
       "      <td>None</td>\n",
       "      <td>NaN</td>\n",
       "    </tr>\n",
       "    <tr>\n",
       "      <th>4395</th>\n",
       "      <td>14</td>\n",
       "      <td>Todd Canyon</td>\n",
       "      <td></td>\n",
       "      <td>Howells</td>\n",
       "      <td>3.0</td>\n",
       "      <td>Daughter</td>\n",
       "      <td>NaN</td>\n",
       "      <td>Female</td>\n",
       "      <td>Child</td>\n",
       "      <td>None</td>\n",
       "      <td>NaN</td>\n",
       "    </tr>\n",
       "  </tbody>\n",
       "</table>\n",
       "</div>"
      ],
      "text/plain": [
       "      House Number       Street First Name Last Name   Age  \\\n",
       "4393            14  Todd Canyon       Ruth   Howells  25.0   \n",
       "4394            14  Todd Canyon    Georgia   Howells   7.0   \n",
       "4395            14  Todd Canyon              Howells   3.0   \n",
       "\n",
       "     Relationship to Head of House Marital Status  Gender      Occupation  \\\n",
       "4393                          Head         Single  Female  Police officer   \n",
       "4394                      Daughter            NaN  Female         Student   \n",
       "4395                      Daughter            NaN  Female           Child   \n",
       "\n",
       "     Infirmity Religion  \n",
       "4393      None     Sikh  \n",
       "4394      None      NaN  \n",
       "4395      None      NaN  "
      ]
     },
     "execution_count": 23,
     "metadata": {},
     "output_type": "execute_result"
    }
   ],
   "source": [
    "df.loc[(df['House Number'] == 14) & (df['Last Name'] == 'Howells')]"
   ]
  },
  {
   "cell_type": "markdown",
   "id": "65bc4164",
   "metadata": {},
   "source": [
    "We could assume that the person whose first name is empty is the child of the head of the 'Howells' house. To maintain the `validity` of our data, we might ascribe to the child a name, say `Beth`"
   ]
  },
  {
   "cell_type": "code",
   "execution_count": 24,
   "id": "d344240b",
   "metadata": {},
   "outputs": [],
   "source": [
    "df.loc[(df['First Name'] == ' ') & (df['Last Name'] == 'Howells'), 'First Name'] = 'Beth'"
   ]
  },
  {
   "cell_type": "code",
   "execution_count": 25,
   "id": "bc50d411",
   "metadata": {
    "scrolled": true
   },
   "outputs": [
    {
     "data": {
      "text/html": [
       "<div>\n",
       "<style scoped>\n",
       "    .dataframe tbody tr th:only-of-type {\n",
       "        vertical-align: middle;\n",
       "    }\n",
       "\n",
       "    .dataframe tbody tr th {\n",
       "        vertical-align: top;\n",
       "    }\n",
       "\n",
       "    .dataframe thead th {\n",
       "        text-align: right;\n",
       "    }\n",
       "</style>\n",
       "<table border=\"1\" class=\"dataframe\">\n",
       "  <thead>\n",
       "    <tr style=\"text-align: right;\">\n",
       "      <th></th>\n",
       "      <th>House Number</th>\n",
       "      <th>Street</th>\n",
       "      <th>First Name</th>\n",
       "      <th>Last Name</th>\n",
       "      <th>Age</th>\n",
       "      <th>Relationship to Head of House</th>\n",
       "      <th>Marital Status</th>\n",
       "      <th>Gender</th>\n",
       "      <th>Occupation</th>\n",
       "      <th>Infirmity</th>\n",
       "      <th>Religion</th>\n",
       "    </tr>\n",
       "  </thead>\n",
       "  <tbody>\n",
       "    <tr>\n",
       "      <th>9103</th>\n",
       "      <td>36</td>\n",
       "      <td>Stone Extensions</td>\n",
       "      <td></td>\n",
       "      <td>Begum</td>\n",
       "      <td>19.0</td>\n",
       "      <td>Wife</td>\n",
       "      <td>Married</td>\n",
       "      <td>Female</td>\n",
       "      <td>University Student</td>\n",
       "      <td>None</td>\n",
       "      <td>None</td>\n",
       "    </tr>\n",
       "  </tbody>\n",
       "</table>\n",
       "</div>"
      ],
      "text/plain": [
       "      House Number            Street First Name Last Name   Age  \\\n",
       "9103            36  Stone Extensions                Begum  19.0   \n",
       "\n",
       "     Relationship to Head of House Marital Status  Gender          Occupation  \\\n",
       "9103                          Wife        Married  Female  University Student   \n",
       "\n",
       "     Infirmity Religion  \n",
       "9103      None     None  "
      ]
     },
     "execution_count": 25,
     "metadata": {},
     "output_type": "execute_result"
    }
   ],
   "source": [
    "df.loc[df['First Name'] == ' ' ]"
   ]
  },
  {
   "cell_type": "markdown",
   "id": "565cd3a1",
   "metadata": {},
   "source": [
    "Inspecting the other entry with empty `First Name`"
   ]
  },
  {
   "cell_type": "code",
   "execution_count": 26,
   "id": "e5adb2ed",
   "metadata": {},
   "outputs": [
    {
     "data": {
      "text/html": [
       "<div>\n",
       "<style scoped>\n",
       "    .dataframe tbody tr th:only-of-type {\n",
       "        vertical-align: middle;\n",
       "    }\n",
       "\n",
       "    .dataframe tbody tr th {\n",
       "        vertical-align: top;\n",
       "    }\n",
       "\n",
       "    .dataframe thead th {\n",
       "        text-align: right;\n",
       "    }\n",
       "</style>\n",
       "<table border=\"1\" class=\"dataframe\">\n",
       "  <thead>\n",
       "    <tr style=\"text-align: right;\">\n",
       "      <th></th>\n",
       "      <th>House Number</th>\n",
       "      <th>Street</th>\n",
       "      <th>First Name</th>\n",
       "      <th>Last Name</th>\n",
       "      <th>Age</th>\n",
       "      <th>Relationship to Head of House</th>\n",
       "      <th>Marital Status</th>\n",
       "      <th>Gender</th>\n",
       "      <th>Occupation</th>\n",
       "      <th>Infirmity</th>\n",
       "      <th>Religion</th>\n",
       "    </tr>\n",
       "  </thead>\n",
       "  <tbody>\n",
       "    <tr>\n",
       "      <th>9102</th>\n",
       "      <td>36</td>\n",
       "      <td>Stone Extensions</td>\n",
       "      <td>Connor</td>\n",
       "      <td>Begum</td>\n",
       "      <td>21.0</td>\n",
       "      <td>Head</td>\n",
       "      <td>Married</td>\n",
       "      <td>Male</td>\n",
       "      <td>University Student</td>\n",
       "      <td>None</td>\n",
       "      <td>None</td>\n",
       "    </tr>\n",
       "    <tr>\n",
       "      <th>9103</th>\n",
       "      <td>36</td>\n",
       "      <td>Stone Extensions</td>\n",
       "      <td></td>\n",
       "      <td>Begum</td>\n",
       "      <td>19.0</td>\n",
       "      <td>Wife</td>\n",
       "      <td>Married</td>\n",
       "      <td>Female</td>\n",
       "      <td>University Student</td>\n",
       "      <td>None</td>\n",
       "      <td>None</td>\n",
       "    </tr>\n",
       "  </tbody>\n",
       "</table>\n",
       "</div>"
      ],
      "text/plain": [
       "      House Number            Street First Name Last Name   Age  \\\n",
       "9102            36  Stone Extensions     Connor     Begum  21.0   \n",
       "9103            36  Stone Extensions                Begum  19.0   \n",
       "\n",
       "     Relationship to Head of House Marital Status  Gender          Occupation  \\\n",
       "9102                          Head        Married    Male  University Student   \n",
       "9103                          Wife        Married  Female  University Student   \n",
       "\n",
       "     Infirmity Religion  \n",
       "9102      None     None  \n",
       "9103      None     None  "
      ]
     },
     "execution_count": 26,
     "metadata": {},
     "output_type": "execute_result"
    }
   ],
   "source": [
    "df.loc[(df['House Number'] == 36) & (df['Last Name'] == 'Begum')]"
   ]
  },
  {
   "cell_type": "markdown",
   "id": "4e194fe0",
   "metadata": {},
   "source": [
    "Here we see the Head is Connor and his Wife is the one with the empty 'First Name'. We may ascribe to her a name say ' Jessy' just so our data is `complete` and `valid`. These steps would not affect our analysis in any way. We just need to ensure that the data is **Valid** and **Complete**"
   ]
  },
  {
   "cell_type": "code",
   "execution_count": 27,
   "id": "189cee96",
   "metadata": {},
   "outputs": [],
   "source": [
    "df.loc[(df['First Name'] == ' ') & (df['Last Name'] == 'Begum'), 'First Name'] = 'Jessy'"
   ]
  },
  {
   "cell_type": "code",
   "execution_count": 28,
   "id": "313e7b25",
   "metadata": {
    "scrolled": true
   },
   "outputs": [
    {
     "data": {
      "text/plain": [
       "0"
      ]
     },
     "execution_count": 28,
     "metadata": {},
     "output_type": "execute_result"
    }
   ],
   "source": [
    "df.loc[df['First Name'] == ' ', 'First Name' ].sum()"
   ]
  },
  {
   "cell_type": "code",
   "execution_count": 29,
   "id": "5ed5497f",
   "metadata": {},
   "outputs": [
    {
     "data": {
      "text/plain": [
       "0"
      ]
     },
     "execution_count": 29,
     "metadata": {},
     "output_type": "execute_result"
    }
   ],
   "source": [
    "df['First Name'].isna().sum()"
   ]
  },
  {
   "cell_type": "markdown",
   "id": "0988fbc6",
   "metadata": {},
   "source": [
    "`First Name` is hereby cleaned"
   ]
  },
  {
   "cell_type": "markdown",
   "id": "28af7d66",
   "metadata": {},
   "source": [
    "### Last Name:"
   ]
  },
  {
   "cell_type": "code",
   "execution_count": 30,
   "id": "f8d4f598",
   "metadata": {},
   "outputs": [
    {
     "data": {
      "text/plain": [
       "array(['Ward', 'Pickering', 'Steele', 'Cooke', 'Coates', 'Dale', 'Thomas',\n",
       "       'Mitchell', 'Young', 'Wilkinson', 'Allen', 'Jackson', 'Kerr',\n",
       "       'Williams', 'Collins', 'Lee', 'Read', 'Long', 'Turner', 'Murray',\n",
       "       'Holmes', 'Lewis', 'Richards', 'Byrne', 'Khan', \"O'Brien\", 'Fox',\n",
       "       'Boyle-Barker', 'Taylor', 'Roberts-Taylor', 'Shah', 'Carr',\n",
       "       'Thompson', 'Davies-Thompson', 'Davies', 'Atkinson', 'Walsh',\n",
       "       'Wells', 'Webb', 'Hall', 'North', 'Williamson', 'Woods', 'Brown',\n",
       "       'Warner', 'Baker', 'Norton', 'Elliott', 'Long-Elliott', 'Rice',\n",
       "       'Hope', 'Lloyd', 'Burton', 'Graham', 'Chapman', 'Skinner',\n",
       "       'Simpson', 'Metcalfe', 'Cole', 'Bird', 'Kaur', 'Frost', 'Wood',\n",
       "       'Shaw', 'Fry', 'Marshall', 'Dixon', 'Gallagher', 'Moore', 'Newman',\n",
       "       'Burns', 'Cartwright', 'Ellis', \"O'Connor\", 'Wilson', 'Hopkins',\n",
       "       'Morton', 'Porter', 'McCarthy', 'Price', 'Jones', 'Ross', 'Gordon',\n",
       "       'Smith', 'Lynch', 'Blackburn', 'Short', 'Hill', 'Morgan', 'Miller',\n",
       "       'Phillips', 'Rees', 'Hussain', 'Ali', 'Johnson', 'Harvey',\n",
       "       'Pearce', 'Noble', 'Perkins', 'Willis', 'Hunter', 'Bennett',\n",
       "       'Stone', 'Curtis', 'Lucas', 'Nicholls', 'Murphy', 'Payne',\n",
       "       'Hamilton', 'Evans', 'Martin', 'Andrews', 'Matthews', 'Watts',\n",
       "       'Nolan', 'McDonald', 'Warren-McDonald', 'Watson', 'Morris',\n",
       "       'Sharpe', 'Watkins', 'Brooks', 'Begum', 'Pearson', 'Anderson',\n",
       "       'Ahmed', 'Fleming', 'Barnett', 'Green', 'Stanley', 'Clarke',\n",
       "       'Cooper', 'Wall', 'Osborne', 'Farrell', 'Reid-Dixon', 'Austin',\n",
       "       'Powell-Williams', 'Dawson', 'Booth', 'Fowler-Davies', 'Brookes',\n",
       "       'Richardson', 'Wyatt', 'Scott', 'Clark', 'Harrison', 'Robinson',\n",
       "       'Sutton', 'Kelly', 'Poole', 'Ball', 'Sinclair', 'Bell', 'Lowe',\n",
       "       'Harding', 'Gray', 'Power', 'Wall-Power', 'Knight',\n",
       "       'Edwards-Evans', 'Fletcher', 'Mills', 'Hughes-Warner', 'Day',\n",
       "       'Russell', 'Daniels', 'Jenkins', 'Lees', 'Fisher', 'Todd',\n",
       "       'Foster', 'Gregory', 'Harris', 'Mason', 'Ryan', 'Stewart', 'Rowe',\n",
       "       'Cox', 'Dodd', 'Rose', 'Nicholson', 'Hardy', 'Chambers', 'Coleman',\n",
       "       'Singh', 'Smart', 'Wright', 'Bryan', 'Butler', 'Foster-Evans',\n",
       "       'Robertson', 'Hayes', 'Thomson', 'Lawrence', 'Thompson-Murphy',\n",
       "       'Spencer', 'Hancock', 'Sharp', 'Miles', 'Forster', 'Abbott',\n",
       "       'Walker', 'Kirby', 'Powell', 'Hurst', 'Lambert', 'Bailey', 'Patel',\n",
       "       'Watts-Bennett', 'Winter', 'Nelson-Winter', 'Lewis-Nelson-Winter',\n",
       "       'Doyle', 'Stevens', 'Donnelly', 'Kemp', 'Wallace', 'Grant',\n",
       "       'Alexander', 'Chandler', 'Gardiner', 'Henderson', 'Palmer',\n",
       "       'Charlton', 'Reid', 'Patterson', 'Hale', 'Buckley',\n",
       "       'Richardson-Cartwright', 'Bentley', 'Schofield', 'Bull', 'Howard',\n",
       "       'Parker', 'Chan', 'McLean', 'Berry', 'Holden', 'Sanders', 'Gill',\n",
       "       'Hyde', 'Webster', 'Bevan', 'Freeman', 'Perry', 'Adams', 'Parkes',\n",
       "       'Reynolds', 'Storey', 'Jennings', 'Ford', 'Cross', 'Davidson',\n",
       "       'Bolton', 'Barnes', 'Benson', 'Bates', 'Thomas-Andrews', 'Holt',\n",
       "       'Rogers', 'McKenzie', 'Hawkins', 'Morrison-Lewis', 'Connor',\n",
       "       'Quinn', 'Houghton', 'Barry', 'Clements', 'Walton', 'Wallis',\n",
       "       'Barrett', 'Burke', 'Faulkner', 'Wheeler', 'Rowley', 'Parkin',\n",
       "       'Rahman', 'Swift', 'Johnston', 'Arnold', 'Griffin', 'Carr-Carter',\n",
       "       'Hunt-Rogers', 'Whittaker', 'Francis', 'Knowles', 'May',\n",
       "       'Humphreys', 'Nelson', 'Stokes', 'Armstrong', 'Edwards', 'Kent',\n",
       "       'Howell', 'Leonard', 'Robson', 'Davison', 'Henry', 'Wilkins',\n",
       "       'Lyons', 'Harper', 'Parsons', 'Vaughan', 'Howarth', 'Whitehead',\n",
       "       'Woodward', 'Shepherd', 'Haynes', 'Dunn', 'Fuller', 'Brady',\n",
       "       'Moss', 'Newton', 'Hunt', 'Moran', 'Bradshaw', 'Hughes', 'Little',\n",
       "       'Garner', 'Marsden', 'Dickinson', 'Kirk', 'Oliver', 'Gough',\n",
       "       'Gibson', 'Manning', 'Hewitt', 'Owen', 'Baxter', 'Bradley',\n",
       "       'Warren', 'Hargreaves', 'Roberts-Brown', 'Dennis', 'Lamb',\n",
       "       'Goodwin', 'Mellor-Williams', 'Peters', 'Pugh', 'Pugh-Davies',\n",
       "       'Franklin', 'White', 'Hartley', 'Gardner', 'Mann', 'Yates',\n",
       "       'Field', 'Marsh', 'Weston', 'Spencer-Miles', 'Humphries', 'Hart',\n",
       "       'Connolly', 'Clayton', 'King', 'Howells', 'Browne', 'West',\n",
       "       'Roberts', 'Middleton', 'Griffiths', 'Birch', 'Hammond', 'Jarvis',\n",
       "       'Walters', 'Carpenter', 'Hanson', 'Norman', 'Giles', 'Stephens',\n",
       "       'Mellor', 'Blake', 'Dyer', 'Khan-Thomson', 'Savage', 'Nash',\n",
       "       'James', 'Welch', 'Summers', 'Hutchinson', 'Gould', 'Ashton',\n",
       "       'Carter', 'Mistry', 'Ferguson', 'Kennedy', 'Riley', 'Sims',\n",
       "       'Campbell', 'Tucker-Doherty', 'Lawson', 'Cameron', 'Randall',\n",
       "       'Page', 'Shaw-Barnes', 'Craig', 'Cook', 'Dobson', 'Baxter-Dobson',\n",
       "       'Iqbal', 'Fraser', 'Higgins', 'Bond', 'Jordan', 'Sykes', 'Lord',\n",
       "       'Kay', 'George', 'Archer', 'Brennan', 'Tucker', 'Miah',\n",
       "       'Lewis-Ford', 'Joyce', 'Martin-Griffiths', 'Collier', 'Wade',\n",
       "       'Greenwood', 'Bibi', 'Carroll', 'Carroll-Sharpe', 'Black',\n",
       "       'Barlow', 'Finch', 'Barnes-Abbott', 'Byrne-Robertson',\n",
       "       'Black-White', 'Barton', 'Reed', \"O'Neill-Evans\", 'Talbot',\n",
       "       'Patel-Davies', 'Duncan', \"O'Sullivan\", 'Duffy', 'Begum-Jones',\n",
       "       'Townsend', 'Rhodes', 'Waters', 'Patel-Wood', 'Holloway', 'Hicks',\n",
       "       'Flynn', 'Hooper', 'Allan', 'Law', 'Boyle-Craig',\n",
       "       'Stevenson-Boyle-Craig', \"O'Neill-Gibson\", 'Horton', 'Reeves',\n",
       "       'Davis', 'Khan-Griffiths', 'Cook-Graham', 'Thornton', 'Glover',\n",
       "       'Akhtar', \"O'Neill\", 'Slater', 'Saunders', 'Holland', 'Hayward',\n",
       "       'Anderson-Wilson', 'Peacock', 'Kelly-Norton', 'Smith-Hall',\n",
       "       'Nixon', 'Pritchard', 'Morley', 'Davies-Austin', 'Lucas-Thornton',\n",
       "       'Price-Nolan', 'Sanderson', 'Barber', 'Hudson', 'Hilton-Williams',\n",
       "       'Hunt-Matthews', 'Reynolds-Jones', 'Parry', 'Baldwin', 'Herbert',\n",
       "       'Adams-Baxter', 'Fowler', 'Burgess', 'Martin-Bradley', 'Tomlinson',\n",
       "       'Dean', 'Briggs', 'Simmons', 'Hilton', 'Hilton-Gibson', 'Potter',\n",
       "       'Coles', 'Myers', 'Bowen-Hall', 'Walker-Hughes', 'Chamberlain',\n",
       "       'Bartlett', 'Ward-Smith', 'Singh-Black', 'Rowe-Khan',\n",
       "       'Patel-Mason', 'Turnbull', 'Atkins', 'Banks', 'Edwards-Williams',\n",
       "       'Parkinson', 'Bryant', 'Norris', 'Farmer', 'Wong', 'Pratt',\n",
       "       'French', 'Davis-Wilson', 'Blake-Gray', 'Morrison', 'Macdonald',\n",
       "       'Stevenson', 'Whitehouse', 'Bruce', 'Gibbs', 'Goddard', 'Daly',\n",
       "       'Martin-Bell', 'Gilbert', 'Porter-Palmer', 'Shepherd-Evans',\n",
       "       'Miller-Day', ' ', \"Parkes-O'Sullivan\", 'Smith-Davies', 'Barker',\n",
       "       'Preston', 'Fitzgerald', 'Pope', 'Knight-Lamb', 'John',\n",
       "       'Smith-Thompson', 'Miller-Norton', 'Jones-Walker', 'King-Thompson',\n",
       "       'Jones-Gibson', 'Doherty', 'Naylor', 'Mahmood', 'Burrows',\n",
       "       'Burrows-Ryan', 'Hobbs', 'Bray', 'Edwards-Powell', 'Fox-Parry',\n",
       "       'Fox-Webb', 'Douglas', 'Foster-Simpson', 'Khan-Holt', 'Bowen',\n",
       "       'Clarke-Hewitt', 'Richards-Thomas', 'Sullivan', 'Tyler', 'Pollard',\n",
       "       'Walker-Murray', 'George-McCarthy', 'Little-Lawson', 'Cunningham',\n",
       "       'White-Stone', 'Marsh-Turner', 'Pugh-West', 'Kelly-Kay',\n",
       "       'Ross-Mason', 'Leach', \"O'Donnell\", 'Howe', 'Boyle', 'Ward-Cooper',\n",
       "       'Bishop', 'Norris-Reed', 'Butcher', 'Coleman-Bradshaw',\n",
       "       'Bibi-Smith', 'Miah-Wilson', 'Walsh-Cook', 'Lane-Brooks',\n",
       "       'Robinson-Hewitt', 'Lane', 'Townsend-Oliver', 'Gallagher-Price',\n",
       "       'Owens', \"Morris-O'Brien\", 'Williams-Lawson', 'Hanson-Arnold',\n",
       "       'Edwards-Gill', 'Sheppard', 'Flynn-Smith', 'Johnson-Johnson',\n",
       "       'Thorpe', 'Vincent', 'Mason-Burgess', 'Ingram', 'White-Hughes',\n",
       "       'Heath', 'Watts-Burrows', 'Hudson-Page', 'Bartlett-Sullivan',\n",
       "       'Smith-Reed', 'Clark-Perry', 'Crawford', 'Griffiths-Kay',\n",
       "       'Jackson-Todd', 'Hodgson', 'Walker-Hudson', 'Fox-Bull',\n",
       "       'Stephenson', 'Simpson-Anderson', 'Burgess-Barker',\n",
       "       'Fowler-Kennedy', 'Adams-Ryan', 'Gardiner-Price',\n",
       "       'Barber-Nicholls', 'Bell-Ryan', 'Shaw-Kelly', 'Elliott-Begum',\n",
       "       'McDonald-Long', 'Mills-Stewart', 'Gill-Grant', 'Wilson-Gardiner',\n",
       "       'Benson-Smith', 'Kelly-Hall', 'Smith-Mann', 'Evans-Smith',\n",
       "       'Barrett-Ford', 'Godfrey', 'John-Fletcher', 'Lee-Gregory',\n",
       "       'Bailey-McDonald', 'Davey', 'Chadwick', 'Goodwin-Shepherd',\n",
       "       'Edwards-Barnes', 'Farmer-Marsh', 'Gregory-Parker',\n",
       "       'Williams-Jones', 'Clarke-Taylor', 'Newman-Gough', 'Kemp-Hughes',\n",
       "       'Conway', 'Wilson-Hanson', 'Ford-Morris', 'Roberts-Ryan',\n",
       "       'Davis-Smith', 'Moore-Douglas'], dtype=object)"
      ]
     },
     "execution_count": 30,
     "metadata": {},
     "output_type": "execute_result"
    }
   ],
   "source": [
    "df['Last Name'].unique()"
   ]
  },
  {
   "cell_type": "code",
   "execution_count": 31,
   "id": "7d342229",
   "metadata": {},
   "outputs": [
    {
     "data": {
      "text/plain": [
       "0"
      ]
     },
     "execution_count": 31,
     "metadata": {},
     "output_type": "execute_result"
    }
   ],
   "source": [
    "df['Last Name'].isna().sum()"
   ]
  },
  {
   "cell_type": "code",
   "execution_count": 32,
   "id": "27eee1cf",
   "metadata": {},
   "outputs": [
    {
     "data": {
      "text/html": [
       "<div>\n",
       "<style scoped>\n",
       "    .dataframe tbody tr th:only-of-type {\n",
       "        vertical-align: middle;\n",
       "    }\n",
       "\n",
       "    .dataframe tbody tr th {\n",
       "        vertical-align: top;\n",
       "    }\n",
       "\n",
       "    .dataframe thead th {\n",
       "        text-align: right;\n",
       "    }\n",
       "</style>\n",
       "<table border=\"1\" class=\"dataframe\">\n",
       "  <thead>\n",
       "    <tr style=\"text-align: right;\">\n",
       "      <th></th>\n",
       "      <th>House Number</th>\n",
       "      <th>Street</th>\n",
       "      <th>First Name</th>\n",
       "      <th>Last Name</th>\n",
       "      <th>Age</th>\n",
       "      <th>Relationship to Head of House</th>\n",
       "      <th>Marital Status</th>\n",
       "      <th>Gender</th>\n",
       "      <th>Occupation</th>\n",
       "      <th>Infirmity</th>\n",
       "      <th>Religion</th>\n",
       "    </tr>\n",
       "  </thead>\n",
       "  <tbody>\n",
       "    <tr>\n",
       "      <th>4129</th>\n",
       "      <td>5</td>\n",
       "      <td>Rogers Field</td>\n",
       "      <td>Joseph</td>\n",
       "      <td></td>\n",
       "      <td>10.0</td>\n",
       "      <td>Son</td>\n",
       "      <td>NaN</td>\n",
       "      <td>Male</td>\n",
       "      <td>Student</td>\n",
       "      <td>None</td>\n",
       "      <td>NaN</td>\n",
       "    </tr>\n",
       "  </tbody>\n",
       "</table>\n",
       "</div>"
      ],
      "text/plain": [
       "      House Number        Street First Name Last Name   Age  \\\n",
       "4129             5  Rogers Field     Joseph            10.0   \n",
       "\n",
       "     Relationship to Head of House Marital Status Gender Occupation Infirmity  \\\n",
       "4129                           Son            NaN   Male    Student      None   \n",
       "\n",
       "     Religion  \n",
       "4129      NaN  "
      ]
     },
     "execution_count": 32,
     "metadata": {},
     "output_type": "execute_result"
    }
   ],
   "source": [
    "df.loc[df['Last Name'] == ' ']"
   ]
  },
  {
   "cell_type": "markdown",
   "id": "95d72dc8",
   "metadata": {},
   "source": [
    "#### Observations:\n",
    "\n",
    "Empty Data was entered. To fill the data, we need to check Address and see the Last Name that occurs in that Address."
   ]
  },
  {
   "cell_type": "code",
   "execution_count": 33,
   "id": "6dfb92c1",
   "metadata": {},
   "outputs": [
    {
     "data": {
      "text/html": [
       "<div>\n",
       "<style scoped>\n",
       "    .dataframe tbody tr th:only-of-type {\n",
       "        vertical-align: middle;\n",
       "    }\n",
       "\n",
       "    .dataframe tbody tr th {\n",
       "        vertical-align: top;\n",
       "    }\n",
       "\n",
       "    .dataframe thead th {\n",
       "        text-align: right;\n",
       "    }\n",
       "</style>\n",
       "<table border=\"1\" class=\"dataframe\">\n",
       "  <thead>\n",
       "    <tr style=\"text-align: right;\">\n",
       "      <th></th>\n",
       "      <th>House Number</th>\n",
       "      <th>Street</th>\n",
       "      <th>First Name</th>\n",
       "      <th>Last Name</th>\n",
       "      <th>Age</th>\n",
       "      <th>Relationship to Head of House</th>\n",
       "      <th>Marital Status</th>\n",
       "      <th>Gender</th>\n",
       "      <th>Occupation</th>\n",
       "      <th>Infirmity</th>\n",
       "      <th>Religion</th>\n",
       "    </tr>\n",
       "  </thead>\n",
       "  <tbody>\n",
       "    <tr>\n",
       "      <th>4127</th>\n",
       "      <td>5</td>\n",
       "      <td>Rogers Field</td>\n",
       "      <td>Pauline</td>\n",
       "      <td>Mason</td>\n",
       "      <td>40.0</td>\n",
       "      <td>Head</td>\n",
       "      <td>Married</td>\n",
       "      <td>Female</td>\n",
       "      <td>Podiatrist</td>\n",
       "      <td>None</td>\n",
       "      <td>Catholic</td>\n",
       "    </tr>\n",
       "    <tr>\n",
       "      <th>4128</th>\n",
       "      <td>5</td>\n",
       "      <td>Rogers Field</td>\n",
       "      <td>Cameron</td>\n",
       "      <td>Mason</td>\n",
       "      <td>43.0</td>\n",
       "      <td>Husband</td>\n",
       "      <td>Married</td>\n",
       "      <td>Male</td>\n",
       "      <td>Programmer, multimedia</td>\n",
       "      <td>None</td>\n",
       "      <td>None</td>\n",
       "    </tr>\n",
       "    <tr>\n",
       "      <th>4129</th>\n",
       "      <td>5</td>\n",
       "      <td>Rogers Field</td>\n",
       "      <td>Joseph</td>\n",
       "      <td></td>\n",
       "      <td>10.0</td>\n",
       "      <td>Son</td>\n",
       "      <td>NaN</td>\n",
       "      <td>Male</td>\n",
       "      <td>Student</td>\n",
       "      <td>None</td>\n",
       "      <td>NaN</td>\n",
       "    </tr>\n",
       "  </tbody>\n",
       "</table>\n",
       "</div>"
      ],
      "text/plain": [
       "      House Number        Street First Name Last Name   Age  \\\n",
       "4127             5  Rogers Field    Pauline     Mason  40.0   \n",
       "4128             5  Rogers Field    Cameron     Mason  43.0   \n",
       "4129             5  Rogers Field     Joseph            10.0   \n",
       "\n",
       "     Relationship to Head of House Marital Status  Gender  \\\n",
       "4127                          Head        Married  Female   \n",
       "4128                       Husband        Married    Male   \n",
       "4129                           Son            NaN    Male   \n",
       "\n",
       "                  Occupation Infirmity  Religion  \n",
       "4127              Podiatrist      None  Catholic  \n",
       "4128  Programmer, multimedia      None      None  \n",
       "4129                 Student      None       NaN  "
      ]
     },
     "execution_count": 33,
     "metadata": {},
     "output_type": "execute_result"
    }
   ],
   "source": [
    "df.loc[(df['House Number'] == 5) & (df['Street'] == 'Rogers Field')]"
   ]
  },
  {
   "cell_type": "markdown",
   "id": "54481ca1",
   "metadata": {},
   "source": [
    "Here we see a family ie according to the `Relationship to the Head of House` column and the last Name here is `Mason`. Therefore, the empty Last Name entry here should be `Mason`"
   ]
  },
  {
   "cell_type": "code",
   "execution_count": 34,
   "id": "47c66dab",
   "metadata": {},
   "outputs": [],
   "source": [
    "df.loc[(df['Last Name'] == ' '), 'Last Name'] = 'Mason'"
   ]
  },
  {
   "cell_type": "code",
   "execution_count": 35,
   "id": "2754eeaa",
   "metadata": {},
   "outputs": [
    {
     "data": {
      "text/html": [
       "<div>\n",
       "<style scoped>\n",
       "    .dataframe tbody tr th:only-of-type {\n",
       "        vertical-align: middle;\n",
       "    }\n",
       "\n",
       "    .dataframe tbody tr th {\n",
       "        vertical-align: top;\n",
       "    }\n",
       "\n",
       "    .dataframe thead th {\n",
       "        text-align: right;\n",
       "    }\n",
       "</style>\n",
       "<table border=\"1\" class=\"dataframe\">\n",
       "  <thead>\n",
       "    <tr style=\"text-align: right;\">\n",
       "      <th></th>\n",
       "      <th>House Number</th>\n",
       "      <th>Street</th>\n",
       "      <th>First Name</th>\n",
       "      <th>Last Name</th>\n",
       "      <th>Age</th>\n",
       "      <th>Relationship to Head of House</th>\n",
       "      <th>Marital Status</th>\n",
       "      <th>Gender</th>\n",
       "      <th>Occupation</th>\n",
       "      <th>Infirmity</th>\n",
       "      <th>Religion</th>\n",
       "    </tr>\n",
       "  </thead>\n",
       "  <tbody>\n",
       "    <tr>\n",
       "      <th>4127</th>\n",
       "      <td>5</td>\n",
       "      <td>Rogers Field</td>\n",
       "      <td>Pauline</td>\n",
       "      <td>Mason</td>\n",
       "      <td>40.0</td>\n",
       "      <td>Head</td>\n",
       "      <td>Married</td>\n",
       "      <td>Female</td>\n",
       "      <td>Podiatrist</td>\n",
       "      <td>None</td>\n",
       "      <td>Catholic</td>\n",
       "    </tr>\n",
       "    <tr>\n",
       "      <th>4128</th>\n",
       "      <td>5</td>\n",
       "      <td>Rogers Field</td>\n",
       "      <td>Cameron</td>\n",
       "      <td>Mason</td>\n",
       "      <td>43.0</td>\n",
       "      <td>Husband</td>\n",
       "      <td>Married</td>\n",
       "      <td>Male</td>\n",
       "      <td>Programmer, multimedia</td>\n",
       "      <td>None</td>\n",
       "      <td>None</td>\n",
       "    </tr>\n",
       "    <tr>\n",
       "      <th>4129</th>\n",
       "      <td>5</td>\n",
       "      <td>Rogers Field</td>\n",
       "      <td>Joseph</td>\n",
       "      <td>Mason</td>\n",
       "      <td>10.0</td>\n",
       "      <td>Son</td>\n",
       "      <td>NaN</td>\n",
       "      <td>Male</td>\n",
       "      <td>Student</td>\n",
       "      <td>None</td>\n",
       "      <td>NaN</td>\n",
       "    </tr>\n",
       "  </tbody>\n",
       "</table>\n",
       "</div>"
      ],
      "text/plain": [
       "      House Number        Street First Name Last Name   Age  \\\n",
       "4127             5  Rogers Field    Pauline     Mason  40.0   \n",
       "4128             5  Rogers Field    Cameron     Mason  43.0   \n",
       "4129             5  Rogers Field     Joseph     Mason  10.0   \n",
       "\n",
       "     Relationship to Head of House Marital Status  Gender  \\\n",
       "4127                          Head        Married  Female   \n",
       "4128                       Husband        Married    Male   \n",
       "4129                           Son            NaN    Male   \n",
       "\n",
       "                  Occupation Infirmity  Religion  \n",
       "4127              Podiatrist      None  Catholic  \n",
       "4128  Programmer, multimedia      None      None  \n",
       "4129                 Student      None       NaN  "
      ]
     },
     "execution_count": 35,
     "metadata": {},
     "output_type": "execute_result"
    }
   ],
   "source": [
    "df.loc[(df['House Number'] == 5) & (df['Street'] == 'Rogers Field')]"
   ]
  },
  {
   "cell_type": "markdown",
   "id": "a6a796d2",
   "metadata": {},
   "source": [
    "`Last Name` is hereby cleaned. "
   ]
  },
  {
   "cell_type": "markdown",
   "id": "27dd21fa",
   "metadata": {},
   "source": [
    "\n",
    "### Age:"
   ]
  },
  {
   "cell_type": "code",
   "execution_count": 36,
   "id": "2dc0bcfb",
   "metadata": {},
   "outputs": [
    {
     "data": {
      "text/plain": [
       "array([ 56.        ,  43.        ,  30.        ,  53.        ,\n",
       "        63.        ,  52.        ,  64.        ,  57.        ,\n",
       "        24.        ,  20.        ,  13.        ,  11.        ,\n",
       "         9.        ,  45.        ,  60.        ,  55.        ,\n",
       "        31.        ,  49.        ,  50.        ,  19.        ,\n",
       "        21.        ,  26.        ,  25.        ,  59.        ,\n",
       "        46.        ,  41.        ,  14.        ,  16.        ,\n",
       "        47.        ,  22.        ,  15.        ,  72.        ,\n",
       "        68.        ,  66.        ,  33.        ,  35.        ,\n",
       "         5.        ,   2.        ,  86.        ,  37.        ,\n",
       "        18.        ,  32.        ,  51.        ,  71.        ,\n",
       "        74.        ,  29.        ,   4.        ,  77.        ,\n",
       "        83.        ,  65.        ,  79.        ,  40.        ,\n",
       "        58.        ,  39.        ,  36.        ,  34.        ,\n",
       "        73.        ,  38.        ,  27.        ,  12.        ,\n",
       "         7.        ,   8.        ,  81.        ,  80.        ,\n",
       "        61.        ,  67.        ,  23.        ,  42.        ,\n",
       "        10.        ,  76.        ,  84.        ,  28.        ,\n",
       "        17.        ,  69.        ,  62.        ,   6.        ,\n",
       "         0.        ,  48.        ,  54.        ,  44.        ,\n",
       "         3.        ,  72.04654485,  73.04654485,   1.        ,\n",
       "        75.        ,  96.        ,  78.        ,  94.        ,\n",
       "        91.        ,  98.        , 102.        ,  70.        ,\n",
       "        85.        ,  89.        ,  87.        ,  82.        ,\n",
       "        95.        , 103.        ,  97.        ,  88.        ,\n",
       "       100.        ,  78.14375872,  90.        ,  92.        ,\n",
       "        66.38656872,  68.38656872,  58.62728711,  62.62728711,\n",
       "        69.11349969,  68.11349969,  99.        ,  73.95582723,\n",
       "        71.95582723,  66.33700147])"
      ]
     },
     "execution_count": 36,
     "metadata": {},
     "output_type": "execute_result"
    }
   ],
   "source": [
    "df['Age'].unique()"
   ]
  },
  {
   "cell_type": "markdown",
   "id": "7a328259",
   "metadata": {},
   "source": [
    "#### Observations:\n",
    "Age has `float` entries. Age cannot be float. This would make the values invalid. Hence we have to clean."
   ]
  },
  {
   "cell_type": "code",
   "execution_count": 37,
   "id": "8458de0b",
   "metadata": {},
   "outputs": [],
   "source": [
    "df['Age'] = df['Age'].astype(int)"
   ]
  },
  {
   "cell_type": "code",
   "execution_count": 38,
   "id": "3ba368ce",
   "metadata": {
    "scrolled": false
   },
   "outputs": [
    {
     "data": {
      "text/plain": [
       "array([ 56,  43,  30,  53,  63,  52,  64,  57,  24,  20,  13,  11,   9,\n",
       "        45,  60,  55,  31,  49,  50,  19,  21,  26,  25,  59,  46,  41,\n",
       "        14,  16,  47,  22,  15,  72,  68,  66,  33,  35,   5,   2,  86,\n",
       "        37,  18,  32,  51,  71,  74,  29,   4,  77,  83,  65,  79,  40,\n",
       "        58,  39,  36,  34,  73,  38,  27,  12,   7,   8,  81,  80,  61,\n",
       "        67,  23,  42,  10,  76,  84,  28,  17,  69,  62,   6,   0,  48,\n",
       "        54,  44,   3,   1,  75,  96,  78,  94,  91,  98, 102,  70,  85,\n",
       "        89,  87,  82,  95, 103,  97,  88, 100,  90,  92,  99])"
      ]
     },
     "execution_count": 38,
     "metadata": {},
     "output_type": "execute_result"
    }
   ],
   "source": [
    "df['Age'].unique()"
   ]
  },
  {
   "cell_type": "code",
   "execution_count": 39,
   "id": "ddf808af",
   "metadata": {},
   "outputs": [
    {
     "data": {
      "image/png": "[encoded data removed]",
      "text/plain": [
       "<Figure size 2000x800 with 2 Axes>"
      ]
     },
     "metadata": {},
     "output_type": "display_data"
    }
   ],
   "source": [
    "#Age distribution\n",
    "fig, axes = plt.subplots(figsize=(20,8), ncols=2, nrows=1)\n",
    "\n",
    "ax1 = sns.histplot(df['Age'], ax=axes[0])\n",
    "ax2 = sns.boxplot(x='Age', data=df, ax=axes[1])\n",
    "\n",
    "plt.show()"
   ]
  },
  {
   "cell_type": "code",
   "execution_count": 40,
   "id": "5d2134d3",
   "metadata": {
    "scrolled": true
   },
   "outputs": [
    {
     "data": {
      "text/plain": [
       "0"
      ]
     },
     "execution_count": 40,
     "metadata": {},
     "output_type": "execute_result"
    }
   ],
   "source": [
    "df['Age'].isna().sum()"
   ]
  },
  {
   "cell_type": "code",
   "execution_count": 41,
   "id": "1dffe75a",
   "metadata": {},
   "outputs": [
    {
     "data": {
      "text/plain": [
       "0"
      ]
     },
     "execution_count": 41,
     "metadata": {},
     "output_type": "execute_result"
    }
   ],
   "source": [
    "df.loc[df['Age'] == ' ', 'Age'].sum()"
   ]
  },
  {
   "cell_type": "markdown",
   "id": "59066594",
   "metadata": {},
   "source": [
    "`Age` is hereby cleaned."
   ]
  },
  {
   "cell_type": "markdown",
   "id": "8b60301f",
   "metadata": {},
   "source": [
    "### Relationship to Head of House:"
   ]
  },
  {
   "cell_type": "code",
   "execution_count": 42,
   "id": "9f38d644",
   "metadata": {
    "scrolled": true
   },
   "outputs": [
    {
     "data": {
      "text/plain": [
       "array(['Head', 'None', 'Daughter', 'Son', 'Husband', 'Partner', 'Wife',\n",
       "       'Lodger', 'Grandson', 'Granddaughter', 'Sibling', 'Adopted Son',\n",
       "       'Nephew', 'Neice', 'Step-Son', 'Visitor', 'Cousin',\n",
       "       'Step-Daughter', 'Adopted Grandson', 'Adopted Daughter',\n",
       "       'Adopted Granddaughter', 'Daughter-in-law', ' '], dtype=object)"
      ]
     },
     "execution_count": 42,
     "metadata": {},
     "output_type": "execute_result"
    }
   ],
   "source": [
    "df['Relationship to Head of House'].unique()"
   ]
  },
  {
   "cell_type": "code",
   "execution_count": 43,
   "id": "2e017189",
   "metadata": {},
   "outputs": [
    {
     "data": {
      "text/plain": [
       "0"
      ]
     },
     "execution_count": 43,
     "metadata": {},
     "output_type": "execute_result"
    }
   ],
   "source": [
    "df['Relationship to Head of House'].isna().sum()"
   ]
  },
  {
   "cell_type": "markdown",
   "id": "d07c51b2",
   "metadata": {},
   "source": [
    "#### Observations:\n",
    "Here, we see `None` values and `empty` data entries."
   ]
  },
  {
   "cell_type": "code",
   "execution_count": 44,
   "id": "ae681284",
   "metadata": {},
   "outputs": [
    {
     "data": {
      "text/plain": [
       "     1\n",
       "Name: Relationship to Head of House, dtype: int64"
      ]
     },
     "execution_count": 44,
     "metadata": {},
     "output_type": "execute_result"
    }
   ],
   "source": [
    "df.loc[df['Relationship to Head of House'] == ' ', 'Relationship to Head of House'].value_counts()"
   ]
  },
  {
   "cell_type": "code",
   "execution_count": 45,
   "id": "36e5af9b",
   "metadata": {},
   "outputs": [
    {
     "data": {
      "text/html": [
       "<div>\n",
       "<style scoped>\n",
       "    .dataframe tbody tr th:only-of-type {\n",
       "        vertical-align: middle;\n",
       "    }\n",
       "\n",
       "    .dataframe tbody tr th {\n",
       "        vertical-align: top;\n",
       "    }\n",
       "\n",
       "    .dataframe thead th {\n",
       "        text-align: right;\n",
       "    }\n",
       "</style>\n",
       "<table border=\"1\" class=\"dataframe\">\n",
       "  <thead>\n",
       "    <tr style=\"text-align: right;\">\n",
       "      <th></th>\n",
       "      <th>House Number</th>\n",
       "      <th>Street</th>\n",
       "      <th>First Name</th>\n",
       "      <th>Last Name</th>\n",
       "      <th>Age</th>\n",
       "      <th>Relationship to Head of House</th>\n",
       "      <th>Marital Status</th>\n",
       "      <th>Gender</th>\n",
       "      <th>Occupation</th>\n",
       "      <th>Infirmity</th>\n",
       "      <th>Religion</th>\n",
       "    </tr>\n",
       "  </thead>\n",
       "  <tbody>\n",
       "    <tr>\n",
       "      <th>6030</th>\n",
       "      <td>29</td>\n",
       "      <td>Randall Throughway</td>\n",
       "      <td>Shaun</td>\n",
       "      <td>Jones</td>\n",
       "      <td>76</td>\n",
       "      <td></td>\n",
       "      <td>Married</td>\n",
       "      <td>Male</td>\n",
       "      <td>Retired Media buyer</td>\n",
       "      <td>None</td>\n",
       "      <td>None</td>\n",
       "    </tr>\n",
       "  </tbody>\n",
       "</table>\n",
       "</div>"
      ],
      "text/plain": [
       "      House Number              Street First Name Last Name  Age  \\\n",
       "6030            29  Randall Throughway      Shaun     Jones   76   \n",
       "\n",
       "     Relationship to Head of House Marital Status Gender           Occupation  \\\n",
       "6030                                      Married   Male  Retired Media buyer   \n",
       "\n",
       "     Infirmity Religion  \n",
       "6030      None     None  "
      ]
     },
     "execution_count": 45,
     "metadata": {},
     "output_type": "execute_result"
    }
   ],
   "source": [
    "df.loc[df['Relationship to Head of House'] == ' ']"
   ]
  },
  {
   "cell_type": "markdown",
   "id": "1fa9fffd",
   "metadata": {},
   "source": [
    "To ascertain the Relationship of this entry to Head of House, I check the data entered for people living in the same address as them and in relation to the Last Name."
   ]
  },
  {
   "cell_type": "code",
   "execution_count": 46,
   "id": "1da46ee9",
   "metadata": {},
   "outputs": [
    {
     "data": {
      "text/html": [
       "<div>\n",
       "<style scoped>\n",
       "    .dataframe tbody tr th:only-of-type {\n",
       "        vertical-align: middle;\n",
       "    }\n",
       "\n",
       "    .dataframe tbody tr th {\n",
       "        vertical-align: top;\n",
       "    }\n",
       "\n",
       "    .dataframe thead th {\n",
       "        text-align: right;\n",
       "    }\n",
       "</style>\n",
       "<table border=\"1\" class=\"dataframe\">\n",
       "  <thead>\n",
       "    <tr style=\"text-align: right;\">\n",
       "      <th></th>\n",
       "      <th>House Number</th>\n",
       "      <th>Street</th>\n",
       "      <th>First Name</th>\n",
       "      <th>Last Name</th>\n",
       "      <th>Age</th>\n",
       "      <th>Relationship to Head of House</th>\n",
       "      <th>Marital Status</th>\n",
       "      <th>Gender</th>\n",
       "      <th>Occupation</th>\n",
       "      <th>Infirmity</th>\n",
       "      <th>Religion</th>\n",
       "    </tr>\n",
       "  </thead>\n",
       "  <tbody>\n",
       "    <tr>\n",
       "      <th>6029</th>\n",
       "      <td>29</td>\n",
       "      <td>Randall Throughway</td>\n",
       "      <td>Katherine</td>\n",
       "      <td>Jones</td>\n",
       "      <td>74</td>\n",
       "      <td>Head</td>\n",
       "      <td>Married</td>\n",
       "      <td>Female</td>\n",
       "      <td>Retired Housing manager/officer</td>\n",
       "      <td>None</td>\n",
       "      <td>None</td>\n",
       "    </tr>\n",
       "    <tr>\n",
       "      <th>6030</th>\n",
       "      <td>29</td>\n",
       "      <td>Randall Throughway</td>\n",
       "      <td>Shaun</td>\n",
       "      <td>Jones</td>\n",
       "      <td>76</td>\n",
       "      <td></td>\n",
       "      <td>Married</td>\n",
       "      <td>Male</td>\n",
       "      <td>Retired Media buyer</td>\n",
       "      <td>None</td>\n",
       "      <td>None</td>\n",
       "    </tr>\n",
       "  </tbody>\n",
       "</table>\n",
       "</div>"
      ],
      "text/plain": [
       "      House Number              Street First Name Last Name  Age  \\\n",
       "6029            29  Randall Throughway  Katherine     Jones   74   \n",
       "6030            29  Randall Throughway      Shaun     Jones   76   \n",
       "\n",
       "     Relationship to Head of House Marital Status  Gender  \\\n",
       "6029                          Head        Married  Female   \n",
       "6030                                      Married    Male   \n",
       "\n",
       "                           Occupation Infirmity Religion  \n",
       "6029  Retired Housing manager/officer      None     None  \n",
       "6030              Retired Media buyer      None     None  "
      ]
     },
     "execution_count": 46,
     "metadata": {},
     "output_type": "execute_result"
    }
   ],
   "source": [
    "df.loc[(df['House Number'] == 29) & (df['Last Name'] == 'Jones') & (df['Street'] == 'Randall Throughway')]"
   ]
  },
  {
   "cell_type": "markdown",
   "id": "2ae3770e",
   "metadata": {},
   "source": [
    "Here, I see the age group and occupation. With the woman being the `Head` here, The man with the data entry empty certainly is the Husband. Hence I replaced the empty data in that column with `Husband`"
   ]
  },
  {
   "cell_type": "code",
   "execution_count": 47,
   "id": "e1a0684c",
   "metadata": {},
   "outputs": [],
   "source": [
    "df.loc[df['Relationship to Head of House'] == ' ', 'Relationship to Head of House'] = 'Husband'"
   ]
  },
  {
   "cell_type": "code",
   "execution_count": 48,
   "id": "904a7de0",
   "metadata": {},
   "outputs": [
    {
     "data": {
      "text/plain": [
       "0"
      ]
     },
     "execution_count": 48,
     "metadata": {},
     "output_type": "execute_result"
    }
   ],
   "source": [
    "df.loc[df['Relationship to Head of House'] == ' ', 'Relationship to Head of House'].sum()"
   ]
  },
  {
   "cell_type": "markdown",
   "id": "80900c9c",
   "metadata": {},
   "source": [
    "We move to `None` values."
   ]
  },
  {
   "cell_type": "code",
   "execution_count": 49,
   "id": "3de4fd07",
   "metadata": {},
   "outputs": [
    {
     "data": {
      "text/plain": [
       "None    705\n",
       "Name: Relationship to Head of House, dtype: int64"
      ]
     },
     "execution_count": 49,
     "metadata": {},
     "output_type": "execute_result"
    }
   ],
   "source": [
    "df.loc[df['Relationship to Head of House'] == 'None', 'Relationship to Head of House'].value_counts()"
   ]
  },
  {
   "cell_type": "markdown",
   "id": "0ce551fd",
   "metadata": {},
   "source": [
    "`705` entries with `None` value. To ascertain the consistency of this data, I check `Age` column. According to the assignment, anyone older than 18 can be 'Head'. However, I also need to be sure I am not ascribing two Heads to a household."
   ]
  },
  {
   "cell_type": "code",
   "execution_count": 50,
   "id": "a781dbea",
   "metadata": {},
   "outputs": [
    {
     "data": {
      "text/plain": [
       "None    698\n",
       "Name: Relationship to Head of House, dtype: int64"
      ]
     },
     "execution_count": 50,
     "metadata": {},
     "output_type": "execute_result"
    }
   ],
   "source": [
    "df.loc[(df['Relationship to Head of House'] == 'None') & (df['Age'] >= 18), 'Relationship to Head of House'].value_counts()"
   ]
  },
  {
   "cell_type": "code",
   "execution_count": 51,
   "id": "28da7687",
   "metadata": {},
   "outputs": [
    {
     "data": {
      "text/html": [
       "<div>\n",
       "<style scoped>\n",
       "    .dataframe tbody tr th:only-of-type {\n",
       "        vertical-align: middle;\n",
       "    }\n",
       "\n",
       "    .dataframe tbody tr th {\n",
       "        vertical-align: top;\n",
       "    }\n",
       "\n",
       "    .dataframe thead th {\n",
       "        text-align: right;\n",
       "    }\n",
       "</style>\n",
       "<table border=\"1\" class=\"dataframe\">\n",
       "  <thead>\n",
       "    <tr style=\"text-align: right;\">\n",
       "      <th></th>\n",
       "      <th>House Number</th>\n",
       "      <th>Street</th>\n",
       "      <th>First Name</th>\n",
       "      <th>Last Name</th>\n",
       "      <th>Age</th>\n",
       "      <th>Relationship to Head of House</th>\n",
       "      <th>Marital Status</th>\n",
       "      <th>Gender</th>\n",
       "      <th>Occupation</th>\n",
       "      <th>Infirmity</th>\n",
       "      <th>Religion</th>\n",
       "    </tr>\n",
       "  </thead>\n",
       "  <tbody>\n",
       "    <tr>\n",
       "      <th>1</th>\n",
       "      <td>1</td>\n",
       "      <td>Orryjar Lane</td>\n",
       "      <td>Abdul</td>\n",
       "      <td>Pickering</td>\n",
       "      <td>43</td>\n",
       "      <td>None</td>\n",
       "      <td>Single</td>\n",
       "      <td>Male</td>\n",
       "      <td>Public relations account executive</td>\n",
       "      <td>None</td>\n",
       "      <td>Christian</td>\n",
       "    </tr>\n",
       "    <tr>\n",
       "      <th>5</th>\n",
       "      <td>4</td>\n",
       "      <td>Orryjar Lane</td>\n",
       "      <td>Phillip</td>\n",
       "      <td>Dale</td>\n",
       "      <td>52</td>\n",
       "      <td>None</td>\n",
       "      <td>Single</td>\n",
       "      <td>Male</td>\n",
       "      <td>Retail merchandiser</td>\n",
       "      <td>None</td>\n",
       "      <td>Christian</td>\n",
       "    </tr>\n",
       "    <tr>\n",
       "      <th>29</th>\n",
       "      <td>15</td>\n",
       "      <td>Orryjar Lane</td>\n",
       "      <td>Frederick</td>\n",
       "      <td>Thomas</td>\n",
       "      <td>46</td>\n",
       "      <td>None</td>\n",
       "      <td>Single</td>\n",
       "      <td>Male</td>\n",
       "      <td>Scientific laboratory technician</td>\n",
       "      <td>None</td>\n",
       "      <td>Jewish</td>\n",
       "    </tr>\n",
       "    <tr>\n",
       "      <th>30</th>\n",
       "      <td>15</td>\n",
       "      <td>Orryjar Lane</td>\n",
       "      <td>Charles</td>\n",
       "      <td>Holmes</td>\n",
       "      <td>49</td>\n",
       "      <td>None</td>\n",
       "      <td>Single</td>\n",
       "      <td>Male</td>\n",
       "      <td>Cabin crew</td>\n",
       "      <td>None</td>\n",
       "      <td>Catholic</td>\n",
       "    </tr>\n",
       "    <tr>\n",
       "      <th>64</th>\n",
       "      <td>27</td>\n",
       "      <td>Orryjar Lane</td>\n",
       "      <td>Simon</td>\n",
       "      <td>Atkinson</td>\n",
       "      <td>19</td>\n",
       "      <td>None</td>\n",
       "      <td>Single</td>\n",
       "      <td>Male</td>\n",
       "      <td>University Student</td>\n",
       "      <td>None</td>\n",
       "      <td>Methodist</td>\n",
       "    </tr>\n",
       "    <tr>\n",
       "      <th>...</th>\n",
       "      <td>...</td>\n",
       "      <td>...</td>\n",
       "      <td>...</td>\n",
       "      <td>...</td>\n",
       "      <td>...</td>\n",
       "      <td>...</td>\n",
       "      <td>...</td>\n",
       "      <td>...</td>\n",
       "      <td>...</td>\n",
       "      <td>...</td>\n",
       "      <td>...</td>\n",
       "    </tr>\n",
       "    <tr>\n",
       "      <th>9510</th>\n",
       "      <td>4</td>\n",
       "      <td>Protectorate Skyway</td>\n",
       "      <td>Jeremy</td>\n",
       "      <td>Shaw</td>\n",
       "      <td>60</td>\n",
       "      <td>None</td>\n",
       "      <td>Single</td>\n",
       "      <td>Male</td>\n",
       "      <td>Chief Executive Officer</td>\n",
       "      <td>None</td>\n",
       "      <td>Christian</td>\n",
       "    </tr>\n",
       "    <tr>\n",
       "      <th>9511</th>\n",
       "      <td>4</td>\n",
       "      <td>Protectorate Skyway</td>\n",
       "      <td>Conor</td>\n",
       "      <td>Owen</td>\n",
       "      <td>47</td>\n",
       "      <td>None</td>\n",
       "      <td>Single</td>\n",
       "      <td>Male</td>\n",
       "      <td>Dance movement psychotherapist</td>\n",
       "      <td>None</td>\n",
       "      <td>Methodist</td>\n",
       "    </tr>\n",
       "    <tr>\n",
       "      <th>9512</th>\n",
       "      <td>4</td>\n",
       "      <td>Protectorate Skyway</td>\n",
       "      <td>Jodie</td>\n",
       "      <td>Webb</td>\n",
       "      <td>26</td>\n",
       "      <td>None</td>\n",
       "      <td>Single</td>\n",
       "      <td>Female</td>\n",
       "      <td>Agricultural consultant</td>\n",
       "      <td>None</td>\n",
       "      <td>Catholic</td>\n",
       "    </tr>\n",
       "    <tr>\n",
       "      <th>9513</th>\n",
       "      <td>4</td>\n",
       "      <td>Protectorate Skyway</td>\n",
       "      <td>Joshua</td>\n",
       "      <td>Barnes</td>\n",
       "      <td>56</td>\n",
       "      <td>None</td>\n",
       "      <td>Single</td>\n",
       "      <td>Male</td>\n",
       "      <td>Sales professional, IT</td>\n",
       "      <td>None</td>\n",
       "      <td>Christian</td>\n",
       "    </tr>\n",
       "    <tr>\n",
       "      <th>9543</th>\n",
       "      <td>10</td>\n",
       "      <td>Protectorate Skyway</td>\n",
       "      <td>Maureen</td>\n",
       "      <td>Brown</td>\n",
       "      <td>20</td>\n",
       "      <td>None</td>\n",
       "      <td>Single</td>\n",
       "      <td>Female</td>\n",
       "      <td>University Student</td>\n",
       "      <td>None</td>\n",
       "      <td>Christian</td>\n",
       "    </tr>\n",
       "  </tbody>\n",
       "</table>\n",
       "<p>698 rows × 11 columns</p>\n",
       "</div>"
      ],
      "text/plain": [
       "      House Number               Street First Name  Last Name  Age  \\\n",
       "1                1         Orryjar Lane      Abdul  Pickering   43   \n",
       "5                4         Orryjar Lane    Phillip       Dale   52   \n",
       "29              15         Orryjar Lane  Frederick     Thomas   46   \n",
       "30              15         Orryjar Lane    Charles     Holmes   49   \n",
       "64              27         Orryjar Lane      Simon   Atkinson   19   \n",
       "...            ...                  ...        ...        ...  ...   \n",
       "9510             4  Protectorate Skyway     Jeremy       Shaw   60   \n",
       "9511             4  Protectorate Skyway      Conor       Owen   47   \n",
       "9512             4  Protectorate Skyway      Jodie       Webb   26   \n",
       "9513             4  Protectorate Skyway     Joshua     Barnes   56   \n",
       "9543            10  Protectorate Skyway    Maureen      Brown   20   \n",
       "\n",
       "     Relationship to Head of House Marital Status  Gender  \\\n",
       "1                             None         Single    Male   \n",
       "5                             None         Single    Male   \n",
       "29                            None         Single    Male   \n",
       "30                            None         Single    Male   \n",
       "64                            None         Single    Male   \n",
       "...                            ...            ...     ...   \n",
       "9510                          None         Single    Male   \n",
       "9511                          None         Single    Male   \n",
       "9512                          None         Single  Female   \n",
       "9513                          None         Single    Male   \n",
       "9543                          None         Single  Female   \n",
       "\n",
       "                              Occupation Infirmity   Religion  \n",
       "1     Public relations account executive      None  Christian  \n",
       "5                    Retail merchandiser      None  Christian  \n",
       "29      Scientific laboratory technician      None     Jewish  \n",
       "30                            Cabin crew      None   Catholic  \n",
       "64                    University Student      None  Methodist  \n",
       "...                                  ...       ...        ...  \n",
       "9510             Chief Executive Officer      None  Christian  \n",
       "9511      Dance movement psychotherapist      None  Methodist  \n",
       "9512             Agricultural consultant      None   Catholic  \n",
       "9513              Sales professional, IT      None  Christian  \n",
       "9543                  University Student      None  Christian  \n",
       "\n",
       "[698 rows x 11 columns]"
      ]
     },
     "execution_count": 51,
     "metadata": {},
     "output_type": "execute_result"
    }
   ],
   "source": [
    "df.loc[(df['Relationship to Head of House'] == 'None') & (df['Age'] >= 18)]"
   ]
  },
  {
   "cell_type": "code",
   "execution_count": 52,
   "id": "f43f6405",
   "metadata": {},
   "outputs": [
    {
     "data": {
      "text/html": [
       "<div>\n",
       "<style scoped>\n",
       "    .dataframe tbody tr th:only-of-type {\n",
       "        vertical-align: middle;\n",
       "    }\n",
       "\n",
       "    .dataframe tbody tr th {\n",
       "        vertical-align: top;\n",
       "    }\n",
       "\n",
       "    .dataframe thead th {\n",
       "        text-align: right;\n",
       "    }\n",
       "</style>\n",
       "<table border=\"1\" class=\"dataframe\">\n",
       "  <thead>\n",
       "    <tr style=\"text-align: right;\">\n",
       "      <th></th>\n",
       "      <th>House Number</th>\n",
       "      <th>Street</th>\n",
       "      <th>First Name</th>\n",
       "      <th>Last Name</th>\n",
       "      <th>Age</th>\n",
       "      <th>Relationship to Head of House</th>\n",
       "      <th>Marital Status</th>\n",
       "      <th>Gender</th>\n",
       "      <th>Occupation</th>\n",
       "      <th>Infirmity</th>\n",
       "      <th>Religion</th>\n",
       "    </tr>\n",
       "  </thead>\n",
       "  <tbody>\n",
       "    <tr>\n",
       "      <th>1875</th>\n",
       "      <td>28</td>\n",
       "      <td>Hodgson Mountain</td>\n",
       "      <td>Leigh</td>\n",
       "      <td>Tucker</td>\n",
       "      <td>15</td>\n",
       "      <td>None</td>\n",
       "      <td>NaN</td>\n",
       "      <td>Male</td>\n",
       "      <td>Student</td>\n",
       "      <td>None</td>\n",
       "      <td>NaN</td>\n",
       "    </tr>\n",
       "    <tr>\n",
       "      <th>2598</th>\n",
       "      <td>43</td>\n",
       "      <td>Barrett Circles</td>\n",
       "      <td>Carole</td>\n",
       "      <td>Wilson</td>\n",
       "      <td>10</td>\n",
       "      <td>None</td>\n",
       "      <td>NaN</td>\n",
       "      <td>Female</td>\n",
       "      <td>Student</td>\n",
       "      <td>None</td>\n",
       "      <td>NaN</td>\n",
       "    </tr>\n",
       "    <tr>\n",
       "      <th>2599</th>\n",
       "      <td>43</td>\n",
       "      <td>Barrett Circles</td>\n",
       "      <td>Nathan</td>\n",
       "      <td>Anderson-Wilson</td>\n",
       "      <td>9</td>\n",
       "      <td>None</td>\n",
       "      <td>NaN</td>\n",
       "      <td>Male</td>\n",
       "      <td>Student</td>\n",
       "      <td>None</td>\n",
       "      <td>NaN</td>\n",
       "    </tr>\n",
       "    <tr>\n",
       "      <th>4404</th>\n",
       "      <td>15</td>\n",
       "      <td>Todd Canyon</td>\n",
       "      <td>Laura</td>\n",
       "      <td>Ward</td>\n",
       "      <td>9</td>\n",
       "      <td>None</td>\n",
       "      <td>NaN</td>\n",
       "      <td>Female</td>\n",
       "      <td>Student</td>\n",
       "      <td>None</td>\n",
       "      <td>NaN</td>\n",
       "    </tr>\n",
       "    <tr>\n",
       "      <th>4405</th>\n",
       "      <td>15</td>\n",
       "      <td>Todd Canyon</td>\n",
       "      <td>Clifford</td>\n",
       "      <td>Ward</td>\n",
       "      <td>7</td>\n",
       "      <td>None</td>\n",
       "      <td>NaN</td>\n",
       "      <td>Male</td>\n",
       "      <td>Student</td>\n",
       "      <td>None</td>\n",
       "      <td>NaN</td>\n",
       "    </tr>\n",
       "    <tr>\n",
       "      <th>4406</th>\n",
       "      <td>15</td>\n",
       "      <td>Todd Canyon</td>\n",
       "      <td>Jemma</td>\n",
       "      <td>Ward</td>\n",
       "      <td>3</td>\n",
       "      <td>None</td>\n",
       "      <td>NaN</td>\n",
       "      <td>Female</td>\n",
       "      <td>Child</td>\n",
       "      <td>None</td>\n",
       "      <td>NaN</td>\n",
       "    </tr>\n",
       "    <tr>\n",
       "      <th>4407</th>\n",
       "      <td>15</td>\n",
       "      <td>Todd Canyon</td>\n",
       "      <td>Kimberley</td>\n",
       "      <td>Ward</td>\n",
       "      <td>3</td>\n",
       "      <td>None</td>\n",
       "      <td>NaN</td>\n",
       "      <td>Female</td>\n",
       "      <td>Child</td>\n",
       "      <td>None</td>\n",
       "      <td>NaN</td>\n",
       "    </tr>\n",
       "  </tbody>\n",
       "</table>\n",
       "</div>"
      ],
      "text/plain": [
       "      House Number            Street First Name        Last Name  Age  \\\n",
       "1875            28  Hodgson Mountain      Leigh           Tucker   15   \n",
       "2598            43   Barrett Circles     Carole           Wilson   10   \n",
       "2599            43   Barrett Circles     Nathan  Anderson-Wilson    9   \n",
       "4404            15       Todd Canyon      Laura             Ward    9   \n",
       "4405            15       Todd Canyon   Clifford             Ward    7   \n",
       "4406            15       Todd Canyon      Jemma             Ward    3   \n",
       "4407            15       Todd Canyon  Kimberley             Ward    3   \n",
       "\n",
       "     Relationship to Head of House Marital Status  Gender Occupation  \\\n",
       "1875                          None            NaN    Male    Student   \n",
       "2598                          None            NaN  Female    Student   \n",
       "2599                          None            NaN    Male    Student   \n",
       "4404                          None            NaN  Female    Student   \n",
       "4405                          None            NaN    Male    Student   \n",
       "4406                          None            NaN  Female      Child   \n",
       "4407                          None            NaN  Female      Child   \n",
       "\n",
       "     Infirmity Religion  \n",
       "1875      None      NaN  \n",
       "2598      None      NaN  \n",
       "2599      None      NaN  \n",
       "4404      None      NaN  \n",
       "4405      None      NaN  \n",
       "4406      None      NaN  \n",
       "4407      None      NaN  "
      ]
     },
     "execution_count": 52,
     "metadata": {},
     "output_type": "execute_result"
    }
   ],
   "source": [
    "df.loc[(df['Relationship to Head of House'] == 'None') & (df['Age'] < 18)]"
   ]
  },
  {
   "cell_type": "markdown",
   "id": "06d1a458",
   "metadata": {},
   "source": [
    "People here are either children or students and so they could be categorised as `Daughter` or `Son`"
   ]
  },
  {
   "cell_type": "code",
   "execution_count": 53,
   "id": "53107a94",
   "metadata": {},
   "outputs": [
    {
     "data": {
      "text/html": [
       "<div>\n",
       "<style scoped>\n",
       "    .dataframe tbody tr th:only-of-type {\n",
       "        vertical-align: middle;\n",
       "    }\n",
       "\n",
       "    .dataframe tbody tr th {\n",
       "        vertical-align: top;\n",
       "    }\n",
       "\n",
       "    .dataframe thead th {\n",
       "        text-align: right;\n",
       "    }\n",
       "</style>\n",
       "<table border=\"1\" class=\"dataframe\">\n",
       "  <thead>\n",
       "    <tr style=\"text-align: right;\">\n",
       "      <th></th>\n",
       "      <th>House Number</th>\n",
       "      <th>Street</th>\n",
       "      <th>First Name</th>\n",
       "      <th>Last Name</th>\n",
       "      <th>Age</th>\n",
       "      <th>Relationship to Head of House</th>\n",
       "      <th>Marital Status</th>\n",
       "      <th>Gender</th>\n",
       "      <th>Occupation</th>\n",
       "      <th>Infirmity</th>\n",
       "      <th>Religion</th>\n",
       "    </tr>\n",
       "  </thead>\n",
       "  <tbody>\n",
       "    <tr>\n",
       "      <th>1873</th>\n",
       "      <td>28</td>\n",
       "      <td>Hodgson Mountain</td>\n",
       "      <td>Clive</td>\n",
       "      <td>Tucker</td>\n",
       "      <td>52</td>\n",
       "      <td>None</td>\n",
       "      <td>Married</td>\n",
       "      <td>Male</td>\n",
       "      <td>Commercial art gallery manager</td>\n",
       "      <td>None</td>\n",
       "      <td>Christian</td>\n",
       "    </tr>\n",
       "    <tr>\n",
       "      <th>1874</th>\n",
       "      <td>28</td>\n",
       "      <td>Hodgson Mountain</td>\n",
       "      <td>Beth</td>\n",
       "      <td>Tucker</td>\n",
       "      <td>51</td>\n",
       "      <td>None</td>\n",
       "      <td>Married</td>\n",
       "      <td>Female</td>\n",
       "      <td>Geographical information systems officer</td>\n",
       "      <td>None</td>\n",
       "      <td>Christian</td>\n",
       "    </tr>\n",
       "    <tr>\n",
       "      <th>1875</th>\n",
       "      <td>28</td>\n",
       "      <td>Hodgson Mountain</td>\n",
       "      <td>Leigh</td>\n",
       "      <td>Tucker</td>\n",
       "      <td>15</td>\n",
       "      <td>None</td>\n",
       "      <td>NaN</td>\n",
       "      <td>Male</td>\n",
       "      <td>Student</td>\n",
       "      <td>None</td>\n",
       "      <td>NaN</td>\n",
       "    </tr>\n",
       "  </tbody>\n",
       "</table>\n",
       "</div>"
      ],
      "text/plain": [
       "      House Number            Street First Name Last Name  Age  \\\n",
       "1873            28  Hodgson Mountain      Clive    Tucker   52   \n",
       "1874            28  Hodgson Mountain       Beth    Tucker   51   \n",
       "1875            28  Hodgson Mountain      Leigh    Tucker   15   \n",
       "\n",
       "     Relationship to Head of House Marital Status  Gender  \\\n",
       "1873                          None        Married    Male   \n",
       "1874                          None        Married  Female   \n",
       "1875                          None            NaN    Male   \n",
       "\n",
       "                                    Occupation Infirmity   Religion  \n",
       "1873            Commercial art gallery manager      None  Christian  \n",
       "1874  Geographical information systems officer      None  Christian  \n",
       "1875                                   Student      None        NaN  "
      ]
     },
     "execution_count": 53,
     "metadata": {},
     "output_type": "execute_result"
    }
   ],
   "source": [
    "df.loc[(df['Street'] == 'Hodgson Mountain') & (df['House Number'] == 28) & (df['Last Name'] == 'Tucker')]"
   ]
  },
  {
   "cell_type": "code",
   "execution_count": 54,
   "id": "d7976bc3",
   "metadata": {},
   "outputs": [
    {
     "data": {
      "text/html": [
       "<div>\n",
       "<style scoped>\n",
       "    .dataframe tbody tr th:only-of-type {\n",
       "        vertical-align: middle;\n",
       "    }\n",
       "\n",
       "    .dataframe tbody tr th {\n",
       "        vertical-align: top;\n",
       "    }\n",
       "\n",
       "    .dataframe thead th {\n",
       "        text-align: right;\n",
       "    }\n",
       "</style>\n",
       "<table border=\"1\" class=\"dataframe\">\n",
       "  <thead>\n",
       "    <tr style=\"text-align: right;\">\n",
       "      <th></th>\n",
       "      <th>House Number</th>\n",
       "      <th>Street</th>\n",
       "      <th>First Name</th>\n",
       "      <th>Last Name</th>\n",
       "      <th>Age</th>\n",
       "      <th>Relationship to Head of House</th>\n",
       "      <th>Marital Status</th>\n",
       "      <th>Gender</th>\n",
       "      <th>Occupation</th>\n",
       "      <th>Infirmity</th>\n",
       "      <th>Religion</th>\n",
       "    </tr>\n",
       "  </thead>\n",
       "  <tbody>\n",
       "    <tr>\n",
       "      <th>1873</th>\n",
       "      <td>28</td>\n",
       "      <td>Hodgson Mountain</td>\n",
       "      <td>Clive</td>\n",
       "      <td>Tucker</td>\n",
       "      <td>52</td>\n",
       "      <td>None</td>\n",
       "      <td>Married</td>\n",
       "      <td>Male</td>\n",
       "      <td>Commercial art gallery manager</td>\n",
       "      <td>None</td>\n",
       "      <td>Christian</td>\n",
       "    </tr>\n",
       "    <tr>\n",
       "      <th>1874</th>\n",
       "      <td>28</td>\n",
       "      <td>Hodgson Mountain</td>\n",
       "      <td>Beth</td>\n",
       "      <td>Tucker</td>\n",
       "      <td>51</td>\n",
       "      <td>None</td>\n",
       "      <td>Married</td>\n",
       "      <td>Female</td>\n",
       "      <td>Geographical information systems officer</td>\n",
       "      <td>None</td>\n",
       "      <td>Christian</td>\n",
       "    </tr>\n",
       "    <tr>\n",
       "      <th>1875</th>\n",
       "      <td>28</td>\n",
       "      <td>Hodgson Mountain</td>\n",
       "      <td>Leigh</td>\n",
       "      <td>Tucker</td>\n",
       "      <td>15</td>\n",
       "      <td>None</td>\n",
       "      <td>NaN</td>\n",
       "      <td>Male</td>\n",
       "      <td>Student</td>\n",
       "      <td>None</td>\n",
       "      <td>NaN</td>\n",
       "    </tr>\n",
       "  </tbody>\n",
       "</table>\n",
       "</div>"
      ],
      "text/plain": [
       "      House Number            Street First Name Last Name  Age  \\\n",
       "1873            28  Hodgson Mountain      Clive    Tucker   52   \n",
       "1874            28  Hodgson Mountain       Beth    Tucker   51   \n",
       "1875            28  Hodgson Mountain      Leigh    Tucker   15   \n",
       "\n",
       "     Relationship to Head of House Marital Status  Gender  \\\n",
       "1873                          None        Married    Male   \n",
       "1874                          None        Married  Female   \n",
       "1875                          None            NaN    Male   \n",
       "\n",
       "                                    Occupation Infirmity   Religion  \n",
       "1873            Commercial art gallery manager      None  Christian  \n",
       "1874  Geographical information systems officer      None  Christian  \n",
       "1875                                   Student      None        NaN  "
      ]
     },
     "execution_count": 54,
     "metadata": {},
     "output_type": "execute_result"
    }
   ],
   "source": [
    "df.loc[(df['Street'] == 'Hodgson Mountain')& (df['Last Name'] == 'Tucker')]"
   ]
  },
  {
   "cell_type": "markdown",
   "id": "3a26dee7",
   "metadata": {},
   "source": [
    "Here we see that the `Tucker` family have `Relationship to Head of House` as None. Hence this will be filled appropraitely."
   ]
  },
  {
   "cell_type": "code",
   "execution_count": 55,
   "id": "f2f9dc9e",
   "metadata": {},
   "outputs": [],
   "source": [
    "df.loc[(df['Street'] == 'Hodgson Mountain')& (df['Last Name'] == 'Tucker') & (df['Age'] < 18), 'Relationship to Head of House'] = 'Son'"
   ]
  },
  {
   "cell_type": "code",
   "execution_count": 56,
   "id": "e0b4659c",
   "metadata": {},
   "outputs": [
    {
     "data": {
      "text/html": [
       "<div>\n",
       "<style scoped>\n",
       "    .dataframe tbody tr th:only-of-type {\n",
       "        vertical-align: middle;\n",
       "    }\n",
       "\n",
       "    .dataframe tbody tr th {\n",
       "        vertical-align: top;\n",
       "    }\n",
       "\n",
       "    .dataframe thead th {\n",
       "        text-align: right;\n",
       "    }\n",
       "</style>\n",
       "<table border=\"1\" class=\"dataframe\">\n",
       "  <thead>\n",
       "    <tr style=\"text-align: right;\">\n",
       "      <th></th>\n",
       "      <th>House Number</th>\n",
       "      <th>Street</th>\n",
       "      <th>First Name</th>\n",
       "      <th>Last Name</th>\n",
       "      <th>Age</th>\n",
       "      <th>Relationship to Head of House</th>\n",
       "      <th>Marital Status</th>\n",
       "      <th>Gender</th>\n",
       "      <th>Occupation</th>\n",
       "      <th>Infirmity</th>\n",
       "      <th>Religion</th>\n",
       "    </tr>\n",
       "  </thead>\n",
       "  <tbody>\n",
       "    <tr>\n",
       "      <th>1873</th>\n",
       "      <td>28</td>\n",
       "      <td>Hodgson Mountain</td>\n",
       "      <td>Clive</td>\n",
       "      <td>Tucker</td>\n",
       "      <td>52</td>\n",
       "      <td>None</td>\n",
       "      <td>Married</td>\n",
       "      <td>Male</td>\n",
       "      <td>Commercial art gallery manager</td>\n",
       "      <td>None</td>\n",
       "      <td>Christian</td>\n",
       "    </tr>\n",
       "    <tr>\n",
       "      <th>1874</th>\n",
       "      <td>28</td>\n",
       "      <td>Hodgson Mountain</td>\n",
       "      <td>Beth</td>\n",
       "      <td>Tucker</td>\n",
       "      <td>51</td>\n",
       "      <td>None</td>\n",
       "      <td>Married</td>\n",
       "      <td>Female</td>\n",
       "      <td>Geographical information systems officer</td>\n",
       "      <td>None</td>\n",
       "      <td>Christian</td>\n",
       "    </tr>\n",
       "    <tr>\n",
       "      <th>1875</th>\n",
       "      <td>28</td>\n",
       "      <td>Hodgson Mountain</td>\n",
       "      <td>Leigh</td>\n",
       "      <td>Tucker</td>\n",
       "      <td>15</td>\n",
       "      <td>Son</td>\n",
       "      <td>NaN</td>\n",
       "      <td>Male</td>\n",
       "      <td>Student</td>\n",
       "      <td>None</td>\n",
       "      <td>NaN</td>\n",
       "    </tr>\n",
       "  </tbody>\n",
       "</table>\n",
       "</div>"
      ],
      "text/plain": [
       "      House Number            Street First Name Last Name  Age  \\\n",
       "1873            28  Hodgson Mountain      Clive    Tucker   52   \n",
       "1874            28  Hodgson Mountain       Beth    Tucker   51   \n",
       "1875            28  Hodgson Mountain      Leigh    Tucker   15   \n",
       "\n",
       "     Relationship to Head of House Marital Status  Gender  \\\n",
       "1873                          None        Married    Male   \n",
       "1874                          None        Married  Female   \n",
       "1875                           Son            NaN    Male   \n",
       "\n",
       "                                    Occupation Infirmity   Religion  \n",
       "1873            Commercial art gallery manager      None  Christian  \n",
       "1874  Geographical information systems officer      None  Christian  \n",
       "1875                                   Student      None        NaN  "
      ]
     },
     "execution_count": 56,
     "metadata": {},
     "output_type": "execute_result"
    }
   ],
   "source": [
    "df.loc[(df['Street'] == 'Hodgson Mountain')& (df['Last Name'] == 'Tucker')]"
   ]
  },
  {
   "cell_type": "markdown",
   "id": "13212418",
   "metadata": {},
   "source": [
    "And the `Male` as `Head`, and the Female as `Wife`"
   ]
  },
  {
   "cell_type": "code",
   "execution_count": 57,
   "id": "b6a35853",
   "metadata": {},
   "outputs": [],
   "source": [
    "df.loc[(df['Street'] == 'Hodgson Mountain')& (df['Last Name'] == 'Tucker') & (df['Age'] > 18) & (df['Gender'] == 'Male'), 'Relationship to Head of House'] = 'Head'\n",
    "\n",
    "df.loc[(df['Street'] == 'Hodgson Mountain')& (df['Last Name'] == 'Tucker') & (df['Age'] > 18) & (df['Gender'] == 'Female'), 'Relationship to Head of House'] = 'Wife'"
   ]
  },
  {
   "cell_type": "code",
   "execution_count": 58,
   "id": "8005feab",
   "metadata": {},
   "outputs": [
    {
     "data": {
      "text/html": [
       "<div>\n",
       "<style scoped>\n",
       "    .dataframe tbody tr th:only-of-type {\n",
       "        vertical-align: middle;\n",
       "    }\n",
       "\n",
       "    .dataframe tbody tr th {\n",
       "        vertical-align: top;\n",
       "    }\n",
       "\n",
       "    .dataframe thead th {\n",
       "        text-align: right;\n",
       "    }\n",
       "</style>\n",
       "<table border=\"1\" class=\"dataframe\">\n",
       "  <thead>\n",
       "    <tr style=\"text-align: right;\">\n",
       "      <th></th>\n",
       "      <th>House Number</th>\n",
       "      <th>Street</th>\n",
       "      <th>First Name</th>\n",
       "      <th>Last Name</th>\n",
       "      <th>Age</th>\n",
       "      <th>Relationship to Head of House</th>\n",
       "      <th>Marital Status</th>\n",
       "      <th>Gender</th>\n",
       "      <th>Occupation</th>\n",
       "      <th>Infirmity</th>\n",
       "      <th>Religion</th>\n",
       "    </tr>\n",
       "  </thead>\n",
       "  <tbody>\n",
       "    <tr>\n",
       "      <th>1873</th>\n",
       "      <td>28</td>\n",
       "      <td>Hodgson Mountain</td>\n",
       "      <td>Clive</td>\n",
       "      <td>Tucker</td>\n",
       "      <td>52</td>\n",
       "      <td>Head</td>\n",
       "      <td>Married</td>\n",
       "      <td>Male</td>\n",
       "      <td>Commercial art gallery manager</td>\n",
       "      <td>None</td>\n",
       "      <td>Christian</td>\n",
       "    </tr>\n",
       "    <tr>\n",
       "      <th>1874</th>\n",
       "      <td>28</td>\n",
       "      <td>Hodgson Mountain</td>\n",
       "      <td>Beth</td>\n",
       "      <td>Tucker</td>\n",
       "      <td>51</td>\n",
       "      <td>Wife</td>\n",
       "      <td>Married</td>\n",
       "      <td>Female</td>\n",
       "      <td>Geographical information systems officer</td>\n",
       "      <td>None</td>\n",
       "      <td>Christian</td>\n",
       "    </tr>\n",
       "    <tr>\n",
       "      <th>1875</th>\n",
       "      <td>28</td>\n",
       "      <td>Hodgson Mountain</td>\n",
       "      <td>Leigh</td>\n",
       "      <td>Tucker</td>\n",
       "      <td>15</td>\n",
       "      <td>Son</td>\n",
       "      <td>NaN</td>\n",
       "      <td>Male</td>\n",
       "      <td>Student</td>\n",
       "      <td>None</td>\n",
       "      <td>NaN</td>\n",
       "    </tr>\n",
       "  </tbody>\n",
       "</table>\n",
       "</div>"
      ],
      "text/plain": [
       "      House Number            Street First Name Last Name  Age  \\\n",
       "1873            28  Hodgson Mountain      Clive    Tucker   52   \n",
       "1874            28  Hodgson Mountain       Beth    Tucker   51   \n",
       "1875            28  Hodgson Mountain      Leigh    Tucker   15   \n",
       "\n",
       "     Relationship to Head of House Marital Status  Gender  \\\n",
       "1873                          Head        Married    Male   \n",
       "1874                          Wife        Married  Female   \n",
       "1875                           Son            NaN    Male   \n",
       "\n",
       "                                    Occupation Infirmity   Religion  \n",
       "1873            Commercial art gallery manager      None  Christian  \n",
       "1874  Geographical information systems officer      None  Christian  \n",
       "1875                                   Student      None        NaN  "
      ]
     },
     "execution_count": 58,
     "metadata": {},
     "output_type": "execute_result"
    }
   ],
   "source": [
    "df.loc[(df['Street'] == 'Hodgson Mountain')& (df['Last Name'] == 'Tucker')]"
   ]
  },
  {
   "cell_type": "code",
   "execution_count": 59,
   "id": "fcb3253b",
   "metadata": {},
   "outputs": [
    {
     "data": {
      "text/html": [
       "<div>\n",
       "<style scoped>\n",
       "    .dataframe tbody tr th:only-of-type {\n",
       "        vertical-align: middle;\n",
       "    }\n",
       "\n",
       "    .dataframe tbody tr th {\n",
       "        vertical-align: top;\n",
       "    }\n",
       "\n",
       "    .dataframe thead th {\n",
       "        text-align: right;\n",
       "    }\n",
       "</style>\n",
       "<table border=\"1\" class=\"dataframe\">\n",
       "  <thead>\n",
       "    <tr style=\"text-align: right;\">\n",
       "      <th></th>\n",
       "      <th>House Number</th>\n",
       "      <th>Street</th>\n",
       "      <th>First Name</th>\n",
       "      <th>Last Name</th>\n",
       "      <th>Age</th>\n",
       "      <th>Relationship to Head of House</th>\n",
       "      <th>Marital Status</th>\n",
       "      <th>Gender</th>\n",
       "      <th>Occupation</th>\n",
       "      <th>Infirmity</th>\n",
       "      <th>Religion</th>\n",
       "    </tr>\n",
       "  </thead>\n",
       "  <tbody>\n",
       "    <tr>\n",
       "      <th>2598</th>\n",
       "      <td>43</td>\n",
       "      <td>Barrett Circles</td>\n",
       "      <td>Carole</td>\n",
       "      <td>Wilson</td>\n",
       "      <td>10</td>\n",
       "      <td>None</td>\n",
       "      <td>NaN</td>\n",
       "      <td>Female</td>\n",
       "      <td>Student</td>\n",
       "      <td>None</td>\n",
       "      <td>NaN</td>\n",
       "    </tr>\n",
       "    <tr>\n",
       "      <th>2599</th>\n",
       "      <td>43</td>\n",
       "      <td>Barrett Circles</td>\n",
       "      <td>Nathan</td>\n",
       "      <td>Anderson-Wilson</td>\n",
       "      <td>9</td>\n",
       "      <td>None</td>\n",
       "      <td>NaN</td>\n",
       "      <td>Male</td>\n",
       "      <td>Student</td>\n",
       "      <td>None</td>\n",
       "      <td>NaN</td>\n",
       "    </tr>\n",
       "    <tr>\n",
       "      <th>4404</th>\n",
       "      <td>15</td>\n",
       "      <td>Todd Canyon</td>\n",
       "      <td>Laura</td>\n",
       "      <td>Ward</td>\n",
       "      <td>9</td>\n",
       "      <td>None</td>\n",
       "      <td>NaN</td>\n",
       "      <td>Female</td>\n",
       "      <td>Student</td>\n",
       "      <td>None</td>\n",
       "      <td>NaN</td>\n",
       "    </tr>\n",
       "    <tr>\n",
       "      <th>4405</th>\n",
       "      <td>15</td>\n",
       "      <td>Todd Canyon</td>\n",
       "      <td>Clifford</td>\n",
       "      <td>Ward</td>\n",
       "      <td>7</td>\n",
       "      <td>None</td>\n",
       "      <td>NaN</td>\n",
       "      <td>Male</td>\n",
       "      <td>Student</td>\n",
       "      <td>None</td>\n",
       "      <td>NaN</td>\n",
       "    </tr>\n",
       "    <tr>\n",
       "      <th>4406</th>\n",
       "      <td>15</td>\n",
       "      <td>Todd Canyon</td>\n",
       "      <td>Jemma</td>\n",
       "      <td>Ward</td>\n",
       "      <td>3</td>\n",
       "      <td>None</td>\n",
       "      <td>NaN</td>\n",
       "      <td>Female</td>\n",
       "      <td>Child</td>\n",
       "      <td>None</td>\n",
       "      <td>NaN</td>\n",
       "    </tr>\n",
       "    <tr>\n",
       "      <th>4407</th>\n",
       "      <td>15</td>\n",
       "      <td>Todd Canyon</td>\n",
       "      <td>Kimberley</td>\n",
       "      <td>Ward</td>\n",
       "      <td>3</td>\n",
       "      <td>None</td>\n",
       "      <td>NaN</td>\n",
       "      <td>Female</td>\n",
       "      <td>Child</td>\n",
       "      <td>None</td>\n",
       "      <td>NaN</td>\n",
       "    </tr>\n",
       "  </tbody>\n",
       "</table>\n",
       "</div>"
      ],
      "text/plain": [
       "      House Number           Street First Name        Last Name  Age  \\\n",
       "2598            43  Barrett Circles     Carole           Wilson   10   \n",
       "2599            43  Barrett Circles     Nathan  Anderson-Wilson    9   \n",
       "4404            15      Todd Canyon      Laura             Ward    9   \n",
       "4405            15      Todd Canyon   Clifford             Ward    7   \n",
       "4406            15      Todd Canyon      Jemma             Ward    3   \n",
       "4407            15      Todd Canyon  Kimberley             Ward    3   \n",
       "\n",
       "     Relationship to Head of House Marital Status  Gender Occupation  \\\n",
       "2598                          None            NaN  Female    Student   \n",
       "2599                          None            NaN    Male    Student   \n",
       "4404                          None            NaN  Female    Student   \n",
       "4405                          None            NaN    Male    Student   \n",
       "4406                          None            NaN  Female      Child   \n",
       "4407                          None            NaN  Female      Child   \n",
       "\n",
       "     Infirmity Religion  \n",
       "2598      None      NaN  \n",
       "2599      None      NaN  \n",
       "4404      None      NaN  \n",
       "4405      None      NaN  \n",
       "4406      None      NaN  \n",
       "4407      None      NaN  "
      ]
     },
     "execution_count": 59,
     "metadata": {},
     "output_type": "execute_result"
    }
   ],
   "source": [
    "df.loc[(df['Relationship to Head of House'] == 'None') & (df['Age'] < 18)]"
   ]
  },
  {
   "cell_type": "code",
   "execution_count": 60,
   "id": "6e68c68b",
   "metadata": {},
   "outputs": [
    {
     "data": {
      "text/html": [
       "<div>\n",
       "<style scoped>\n",
       "    .dataframe tbody tr th:only-of-type {\n",
       "        vertical-align: middle;\n",
       "    }\n",
       "\n",
       "    .dataframe tbody tr th {\n",
       "        vertical-align: top;\n",
       "    }\n",
       "\n",
       "    .dataframe thead th {\n",
       "        text-align: right;\n",
       "    }\n",
       "</style>\n",
       "<table border=\"1\" class=\"dataframe\">\n",
       "  <thead>\n",
       "    <tr style=\"text-align: right;\">\n",
       "      <th></th>\n",
       "      <th>House Number</th>\n",
       "      <th>Street</th>\n",
       "      <th>First Name</th>\n",
       "      <th>Last Name</th>\n",
       "      <th>Age</th>\n",
       "      <th>Relationship to Head of House</th>\n",
       "      <th>Marital Status</th>\n",
       "      <th>Gender</th>\n",
       "      <th>Occupation</th>\n",
       "      <th>Infirmity</th>\n",
       "      <th>Religion</th>\n",
       "    </tr>\n",
       "  </thead>\n",
       "  <tbody>\n",
       "    <tr>\n",
       "      <th>4402</th>\n",
       "      <td>15</td>\n",
       "      <td>Todd Canyon</td>\n",
       "      <td>Donna</td>\n",
       "      <td>Ward</td>\n",
       "      <td>49</td>\n",
       "      <td>None</td>\n",
       "      <td>Married</td>\n",
       "      <td>Female</td>\n",
       "      <td>Corporate investment banker</td>\n",
       "      <td>None</td>\n",
       "      <td>None</td>\n",
       "    </tr>\n",
       "    <tr>\n",
       "      <th>4403</th>\n",
       "      <td>15</td>\n",
       "      <td>Todd Canyon</td>\n",
       "      <td>Keith</td>\n",
       "      <td>Ward</td>\n",
       "      <td>54</td>\n",
       "      <td>None</td>\n",
       "      <td>Married</td>\n",
       "      <td>Male</td>\n",
       "      <td>Retail buyer</td>\n",
       "      <td>None</td>\n",
       "      <td>None</td>\n",
       "    </tr>\n",
       "    <tr>\n",
       "      <th>4404</th>\n",
       "      <td>15</td>\n",
       "      <td>Todd Canyon</td>\n",
       "      <td>Laura</td>\n",
       "      <td>Ward</td>\n",
       "      <td>9</td>\n",
       "      <td>None</td>\n",
       "      <td>NaN</td>\n",
       "      <td>Female</td>\n",
       "      <td>Student</td>\n",
       "      <td>None</td>\n",
       "      <td>NaN</td>\n",
       "    </tr>\n",
       "    <tr>\n",
       "      <th>4405</th>\n",
       "      <td>15</td>\n",
       "      <td>Todd Canyon</td>\n",
       "      <td>Clifford</td>\n",
       "      <td>Ward</td>\n",
       "      <td>7</td>\n",
       "      <td>None</td>\n",
       "      <td>NaN</td>\n",
       "      <td>Male</td>\n",
       "      <td>Student</td>\n",
       "      <td>None</td>\n",
       "      <td>NaN</td>\n",
       "    </tr>\n",
       "    <tr>\n",
       "      <th>4406</th>\n",
       "      <td>15</td>\n",
       "      <td>Todd Canyon</td>\n",
       "      <td>Jemma</td>\n",
       "      <td>Ward</td>\n",
       "      <td>3</td>\n",
       "      <td>None</td>\n",
       "      <td>NaN</td>\n",
       "      <td>Female</td>\n",
       "      <td>Child</td>\n",
       "      <td>None</td>\n",
       "      <td>NaN</td>\n",
       "    </tr>\n",
       "    <tr>\n",
       "      <th>4407</th>\n",
       "      <td>15</td>\n",
       "      <td>Todd Canyon</td>\n",
       "      <td>Kimberley</td>\n",
       "      <td>Ward</td>\n",
       "      <td>3</td>\n",
       "      <td>None</td>\n",
       "      <td>NaN</td>\n",
       "      <td>Female</td>\n",
       "      <td>Child</td>\n",
       "      <td>None</td>\n",
       "      <td>NaN</td>\n",
       "    </tr>\n",
       "  </tbody>\n",
       "</table>\n",
       "</div>"
      ],
      "text/plain": [
       "      House Number       Street First Name Last Name  Age  \\\n",
       "4402            15  Todd Canyon      Donna      Ward   49   \n",
       "4403            15  Todd Canyon      Keith      Ward   54   \n",
       "4404            15  Todd Canyon      Laura      Ward    9   \n",
       "4405            15  Todd Canyon   Clifford      Ward    7   \n",
       "4406            15  Todd Canyon      Jemma      Ward    3   \n",
       "4407            15  Todd Canyon  Kimberley      Ward    3   \n",
       "\n",
       "     Relationship to Head of House Marital Status  Gender  \\\n",
       "4402                          None        Married  Female   \n",
       "4403                          None        Married    Male   \n",
       "4404                          None            NaN  Female   \n",
       "4405                          None            NaN    Male   \n",
       "4406                          None            NaN  Female   \n",
       "4407                          None            NaN  Female   \n",
       "\n",
       "                       Occupation Infirmity Religion  \n",
       "4402  Corporate investment banker      None     None  \n",
       "4403                 Retail buyer      None     None  \n",
       "4404                      Student      None      NaN  \n",
       "4405                      Student      None      NaN  \n",
       "4406                        Child      None      NaN  \n",
       "4407                        Child      None      NaN  "
      ]
     },
     "execution_count": 60,
     "metadata": {},
     "output_type": "execute_result"
    }
   ],
   "source": [
    "df.loc[(df['Street'] == 'Todd Canyon') &(df['House Number'] == 15) & (df['Last Name'] == 'Ward')]"
   ]
  },
  {
   "cell_type": "markdown",
   "id": "25455a49",
   "metadata": {},
   "source": [
    "We see here the data of the family of `Ward` and so the data would be cleaned appropraitely."
   ]
  },
  {
   "cell_type": "code",
   "execution_count": 61,
   "id": "6b7fee0a",
   "metadata": {},
   "outputs": [],
   "source": [
    "df.loc[(df['Street'] == 'Todd Canyon') &(df['House Number'] == 15) & (df['Last Name'] == 'Ward') & (df['Age'] > 18) & (df['Gender'] == 'Male'), 'Relationship to Head of House'] = 'Head'\n",
    "\n",
    "df.loc[(df['Street'] == 'Todd Canyon') &(df['House Number'] == 15) & (df['Last Name'] == 'Ward') & (df['Age'] > 18) & (df['Gender'] == 'Female'), 'Relationship to Head of House'] = 'Wife'"
   ]
  },
  {
   "cell_type": "code",
   "execution_count": 62,
   "id": "fb693086",
   "metadata": {},
   "outputs": [
    {
     "data": {
      "text/html": [
       "<div>\n",
       "<style scoped>\n",
       "    .dataframe tbody tr th:only-of-type {\n",
       "        vertical-align: middle;\n",
       "    }\n",
       "\n",
       "    .dataframe tbody tr th {\n",
       "        vertical-align: top;\n",
       "    }\n",
       "\n",
       "    .dataframe thead th {\n",
       "        text-align: right;\n",
       "    }\n",
       "</style>\n",
       "<table border=\"1\" class=\"dataframe\">\n",
       "  <thead>\n",
       "    <tr style=\"text-align: right;\">\n",
       "      <th></th>\n",
       "      <th>House Number</th>\n",
       "      <th>Street</th>\n",
       "      <th>First Name</th>\n",
       "      <th>Last Name</th>\n",
       "      <th>Age</th>\n",
       "      <th>Relationship to Head of House</th>\n",
       "      <th>Marital Status</th>\n",
       "      <th>Gender</th>\n",
       "      <th>Occupation</th>\n",
       "      <th>Infirmity</th>\n",
       "      <th>Religion</th>\n",
       "    </tr>\n",
       "  </thead>\n",
       "  <tbody>\n",
       "    <tr>\n",
       "      <th>4402</th>\n",
       "      <td>15</td>\n",
       "      <td>Todd Canyon</td>\n",
       "      <td>Donna</td>\n",
       "      <td>Ward</td>\n",
       "      <td>49</td>\n",
       "      <td>Wife</td>\n",
       "      <td>Married</td>\n",
       "      <td>Female</td>\n",
       "      <td>Corporate investment banker</td>\n",
       "      <td>None</td>\n",
       "      <td>None</td>\n",
       "    </tr>\n",
       "    <tr>\n",
       "      <th>4403</th>\n",
       "      <td>15</td>\n",
       "      <td>Todd Canyon</td>\n",
       "      <td>Keith</td>\n",
       "      <td>Ward</td>\n",
       "      <td>54</td>\n",
       "      <td>Head</td>\n",
       "      <td>Married</td>\n",
       "      <td>Male</td>\n",
       "      <td>Retail buyer</td>\n",
       "      <td>None</td>\n",
       "      <td>None</td>\n",
       "    </tr>\n",
       "    <tr>\n",
       "      <th>4404</th>\n",
       "      <td>15</td>\n",
       "      <td>Todd Canyon</td>\n",
       "      <td>Laura</td>\n",
       "      <td>Ward</td>\n",
       "      <td>9</td>\n",
       "      <td>None</td>\n",
       "      <td>NaN</td>\n",
       "      <td>Female</td>\n",
       "      <td>Student</td>\n",
       "      <td>None</td>\n",
       "      <td>NaN</td>\n",
       "    </tr>\n",
       "    <tr>\n",
       "      <th>4405</th>\n",
       "      <td>15</td>\n",
       "      <td>Todd Canyon</td>\n",
       "      <td>Clifford</td>\n",
       "      <td>Ward</td>\n",
       "      <td>7</td>\n",
       "      <td>None</td>\n",
       "      <td>NaN</td>\n",
       "      <td>Male</td>\n",
       "      <td>Student</td>\n",
       "      <td>None</td>\n",
       "      <td>NaN</td>\n",
       "    </tr>\n",
       "    <tr>\n",
       "      <th>4406</th>\n",
       "      <td>15</td>\n",
       "      <td>Todd Canyon</td>\n",
       "      <td>Jemma</td>\n",
       "      <td>Ward</td>\n",
       "      <td>3</td>\n",
       "      <td>None</td>\n",
       "      <td>NaN</td>\n",
       "      <td>Female</td>\n",
       "      <td>Child</td>\n",
       "      <td>None</td>\n",
       "      <td>NaN</td>\n",
       "    </tr>\n",
       "    <tr>\n",
       "      <th>4407</th>\n",
       "      <td>15</td>\n",
       "      <td>Todd Canyon</td>\n",
       "      <td>Kimberley</td>\n",
       "      <td>Ward</td>\n",
       "      <td>3</td>\n",
       "      <td>None</td>\n",
       "      <td>NaN</td>\n",
       "      <td>Female</td>\n",
       "      <td>Child</td>\n",
       "      <td>None</td>\n",
       "      <td>NaN</td>\n",
       "    </tr>\n",
       "  </tbody>\n",
       "</table>\n",
       "</div>"
      ],
      "text/plain": [
       "      House Number       Street First Name Last Name  Age  \\\n",
       "4402            15  Todd Canyon      Donna      Ward   49   \n",
       "4403            15  Todd Canyon      Keith      Ward   54   \n",
       "4404            15  Todd Canyon      Laura      Ward    9   \n",
       "4405            15  Todd Canyon   Clifford      Ward    7   \n",
       "4406            15  Todd Canyon      Jemma      Ward    3   \n",
       "4407            15  Todd Canyon  Kimberley      Ward    3   \n",
       "\n",
       "     Relationship to Head of House Marital Status  Gender  \\\n",
       "4402                          Wife        Married  Female   \n",
       "4403                          Head        Married    Male   \n",
       "4404                          None            NaN  Female   \n",
       "4405                          None            NaN    Male   \n",
       "4406                          None            NaN  Female   \n",
       "4407                          None            NaN  Female   \n",
       "\n",
       "                       Occupation Infirmity Religion  \n",
       "4402  Corporate investment banker      None     None  \n",
       "4403                 Retail buyer      None     None  \n",
       "4404                      Student      None      NaN  \n",
       "4405                      Student      None      NaN  \n",
       "4406                        Child      None      NaN  \n",
       "4407                        Child      None      NaN  "
      ]
     },
     "execution_count": 62,
     "metadata": {},
     "output_type": "execute_result"
    }
   ],
   "source": [
    "df.loc[(df['Street'] == 'Todd Canyon') &(df['House Number'] == 15) & (df['Last Name'] == 'Ward')]"
   ]
  },
  {
   "cell_type": "code",
   "execution_count": 63,
   "id": "4dcb1792",
   "metadata": {},
   "outputs": [],
   "source": [
    "df.loc[(df['Street'] == 'Todd Canyon') &(df['House Number'] == 15) & (df['Last Name'] == 'Ward') & (df['Age'] < 18) & (df['Gender'] == 'Male'), 'Relationship to Head of House'] = 'Son'\n",
    "\n",
    "df.loc[(df['Street'] == 'Todd Canyon') &(df['House Number'] == 15) & (df['Last Name'] == 'Ward') & (df['Age'] < 18) & (df['Gender'] == 'Female'), 'Relationship to Head of House'] = 'Daughter'"
   ]
  },
  {
   "cell_type": "code",
   "execution_count": 64,
   "id": "e8b6dd9b",
   "metadata": {},
   "outputs": [
    {
     "data": {
      "text/html": [
       "<div>\n",
       "<style scoped>\n",
       "    .dataframe tbody tr th:only-of-type {\n",
       "        vertical-align: middle;\n",
       "    }\n",
       "\n",
       "    .dataframe tbody tr th {\n",
       "        vertical-align: top;\n",
       "    }\n",
       "\n",
       "    .dataframe thead th {\n",
       "        text-align: right;\n",
       "    }\n",
       "</style>\n",
       "<table border=\"1\" class=\"dataframe\">\n",
       "  <thead>\n",
       "    <tr style=\"text-align: right;\">\n",
       "      <th></th>\n",
       "      <th>House Number</th>\n",
       "      <th>Street</th>\n",
       "      <th>First Name</th>\n",
       "      <th>Last Name</th>\n",
       "      <th>Age</th>\n",
       "      <th>Relationship to Head of House</th>\n",
       "      <th>Marital Status</th>\n",
       "      <th>Gender</th>\n",
       "      <th>Occupation</th>\n",
       "      <th>Infirmity</th>\n",
       "      <th>Religion</th>\n",
       "    </tr>\n",
       "  </thead>\n",
       "  <tbody>\n",
       "    <tr>\n",
       "      <th>4402</th>\n",
       "      <td>15</td>\n",
       "      <td>Todd Canyon</td>\n",
       "      <td>Donna</td>\n",
       "      <td>Ward</td>\n",
       "      <td>49</td>\n",
       "      <td>Wife</td>\n",
       "      <td>Married</td>\n",
       "      <td>Female</td>\n",
       "      <td>Corporate investment banker</td>\n",
       "      <td>None</td>\n",
       "      <td>None</td>\n",
       "    </tr>\n",
       "    <tr>\n",
       "      <th>4403</th>\n",
       "      <td>15</td>\n",
       "      <td>Todd Canyon</td>\n",
       "      <td>Keith</td>\n",
       "      <td>Ward</td>\n",
       "      <td>54</td>\n",
       "      <td>Head</td>\n",
       "      <td>Married</td>\n",
       "      <td>Male</td>\n",
       "      <td>Retail buyer</td>\n",
       "      <td>None</td>\n",
       "      <td>None</td>\n",
       "    </tr>\n",
       "    <tr>\n",
       "      <th>4404</th>\n",
       "      <td>15</td>\n",
       "      <td>Todd Canyon</td>\n",
       "      <td>Laura</td>\n",
       "      <td>Ward</td>\n",
       "      <td>9</td>\n",
       "      <td>Daughter</td>\n",
       "      <td>NaN</td>\n",
       "      <td>Female</td>\n",
       "      <td>Student</td>\n",
       "      <td>None</td>\n",
       "      <td>NaN</td>\n",
       "    </tr>\n",
       "    <tr>\n",
       "      <th>4405</th>\n",
       "      <td>15</td>\n",
       "      <td>Todd Canyon</td>\n",
       "      <td>Clifford</td>\n",
       "      <td>Ward</td>\n",
       "      <td>7</td>\n",
       "      <td>Son</td>\n",
       "      <td>NaN</td>\n",
       "      <td>Male</td>\n",
       "      <td>Student</td>\n",
       "      <td>None</td>\n",
       "      <td>NaN</td>\n",
       "    </tr>\n",
       "    <tr>\n",
       "      <th>4406</th>\n",
       "      <td>15</td>\n",
       "      <td>Todd Canyon</td>\n",
       "      <td>Jemma</td>\n",
       "      <td>Ward</td>\n",
       "      <td>3</td>\n",
       "      <td>Daughter</td>\n",
       "      <td>NaN</td>\n",
       "      <td>Female</td>\n",
       "      <td>Child</td>\n",
       "      <td>None</td>\n",
       "      <td>NaN</td>\n",
       "    </tr>\n",
       "    <tr>\n",
       "      <th>4407</th>\n",
       "      <td>15</td>\n",
       "      <td>Todd Canyon</td>\n",
       "      <td>Kimberley</td>\n",
       "      <td>Ward</td>\n",
       "      <td>3</td>\n",
       "      <td>Daughter</td>\n",
       "      <td>NaN</td>\n",
       "      <td>Female</td>\n",
       "      <td>Child</td>\n",
       "      <td>None</td>\n",
       "      <td>NaN</td>\n",
       "    </tr>\n",
       "  </tbody>\n",
       "</table>\n",
       "</div>"
      ],
      "text/plain": [
       "      House Number       Street First Name Last Name  Age  \\\n",
       "4402            15  Todd Canyon      Donna      Ward   49   \n",
       "4403            15  Todd Canyon      Keith      Ward   54   \n",
       "4404            15  Todd Canyon      Laura      Ward    9   \n",
       "4405            15  Todd Canyon   Clifford      Ward    7   \n",
       "4406            15  Todd Canyon      Jemma      Ward    3   \n",
       "4407            15  Todd Canyon  Kimberley      Ward    3   \n",
       "\n",
       "     Relationship to Head of House Marital Status  Gender  \\\n",
       "4402                          Wife        Married  Female   \n",
       "4403                          Head        Married    Male   \n",
       "4404                      Daughter            NaN  Female   \n",
       "4405                           Son            NaN    Male   \n",
       "4406                      Daughter            NaN  Female   \n",
       "4407                      Daughter            NaN  Female   \n",
       "\n",
       "                       Occupation Infirmity Religion  \n",
       "4402  Corporate investment banker      None     None  \n",
       "4403                 Retail buyer      None     None  \n",
       "4404                      Student      None      NaN  \n",
       "4405                      Student      None      NaN  \n",
       "4406                        Child      None      NaN  \n",
       "4407                        Child      None      NaN  "
      ]
     },
     "execution_count": 64,
     "metadata": {},
     "output_type": "execute_result"
    }
   ],
   "source": [
    "df.loc[(df['Street'] == 'Todd Canyon') &(df['House Number'] == 15) & (df['Last Name'] == 'Ward')]"
   ]
  },
  {
   "cell_type": "code",
   "execution_count": 65,
   "id": "759843c6",
   "metadata": {},
   "outputs": [
    {
     "data": {
      "text/html": [
       "<div>\n",
       "<style scoped>\n",
       "    .dataframe tbody tr th:only-of-type {\n",
       "        vertical-align: middle;\n",
       "    }\n",
       "\n",
       "    .dataframe tbody tr th {\n",
       "        vertical-align: top;\n",
       "    }\n",
       "\n",
       "    .dataframe thead th {\n",
       "        text-align: right;\n",
       "    }\n",
       "</style>\n",
       "<table border=\"1\" class=\"dataframe\">\n",
       "  <thead>\n",
       "    <tr style=\"text-align: right;\">\n",
       "      <th></th>\n",
       "      <th>House Number</th>\n",
       "      <th>Street</th>\n",
       "      <th>First Name</th>\n",
       "      <th>Last Name</th>\n",
       "      <th>Age</th>\n",
       "      <th>Relationship to Head of House</th>\n",
       "      <th>Marital Status</th>\n",
       "      <th>Gender</th>\n",
       "      <th>Occupation</th>\n",
       "      <th>Infirmity</th>\n",
       "      <th>Religion</th>\n",
       "    </tr>\n",
       "  </thead>\n",
       "  <tbody>\n",
       "    <tr>\n",
       "      <th>2598</th>\n",
       "      <td>43</td>\n",
       "      <td>Barrett Circles</td>\n",
       "      <td>Carole</td>\n",
       "      <td>Wilson</td>\n",
       "      <td>10</td>\n",
       "      <td>None</td>\n",
       "      <td>NaN</td>\n",
       "      <td>Female</td>\n",
       "      <td>Student</td>\n",
       "      <td>None</td>\n",
       "      <td>NaN</td>\n",
       "    </tr>\n",
       "    <tr>\n",
       "      <th>2599</th>\n",
       "      <td>43</td>\n",
       "      <td>Barrett Circles</td>\n",
       "      <td>Nathan</td>\n",
       "      <td>Anderson-Wilson</td>\n",
       "      <td>9</td>\n",
       "      <td>None</td>\n",
       "      <td>NaN</td>\n",
       "      <td>Male</td>\n",
       "      <td>Student</td>\n",
       "      <td>None</td>\n",
       "      <td>NaN</td>\n",
       "    </tr>\n",
       "  </tbody>\n",
       "</table>\n",
       "</div>"
      ],
      "text/plain": [
       "      House Number           Street First Name        Last Name  Age  \\\n",
       "2598            43  Barrett Circles     Carole           Wilson   10   \n",
       "2599            43  Barrett Circles     Nathan  Anderson-Wilson    9   \n",
       "\n",
       "     Relationship to Head of House Marital Status  Gender Occupation  \\\n",
       "2598                          None            NaN  Female    Student   \n",
       "2599                          None            NaN    Male    Student   \n",
       "\n",
       "     Infirmity Religion  \n",
       "2598      None      NaN  \n",
       "2599      None      NaN  "
      ]
     },
     "execution_count": 65,
     "metadata": {},
     "output_type": "execute_result"
    }
   ],
   "source": [
    "df.loc[(df['Relationship to Head of House'] == 'None') & (df['Age'] < 18)]"
   ]
  },
  {
   "cell_type": "code",
   "execution_count": 66,
   "id": "61f1aef5",
   "metadata": {},
   "outputs": [
    {
     "data": {
      "text/html": [
       "<div>\n",
       "<style scoped>\n",
       "    .dataframe tbody tr th:only-of-type {\n",
       "        vertical-align: middle;\n",
       "    }\n",
       "\n",
       "    .dataframe tbody tr th {\n",
       "        vertical-align: top;\n",
       "    }\n",
       "\n",
       "    .dataframe thead th {\n",
       "        text-align: right;\n",
       "    }\n",
       "</style>\n",
       "<table border=\"1\" class=\"dataframe\">\n",
       "  <thead>\n",
       "    <tr style=\"text-align: right;\">\n",
       "      <th></th>\n",
       "      <th>House Number</th>\n",
       "      <th>Street</th>\n",
       "      <th>First Name</th>\n",
       "      <th>Last Name</th>\n",
       "      <th>Age</th>\n",
       "      <th>Relationship to Head of House</th>\n",
       "      <th>Marital Status</th>\n",
       "      <th>Gender</th>\n",
       "      <th>Occupation</th>\n",
       "      <th>Infirmity</th>\n",
       "      <th>Religion</th>\n",
       "    </tr>\n",
       "  </thead>\n",
       "  <tbody>\n",
       "    <tr>\n",
       "      <th>2594</th>\n",
       "      <td>43</td>\n",
       "      <td>Barrett Circles</td>\n",
       "      <td>Joseph</td>\n",
       "      <td>Smith</td>\n",
       "      <td>74</td>\n",
       "      <td>Head</td>\n",
       "      <td>Married</td>\n",
       "      <td>Male</td>\n",
       "      <td>Retired Theme park manager</td>\n",
       "      <td>None</td>\n",
       "      <td>Christian</td>\n",
       "    </tr>\n",
       "    <tr>\n",
       "      <th>2595</th>\n",
       "      <td>43</td>\n",
       "      <td>Barrett Circles</td>\n",
       "      <td>Sylvia</td>\n",
       "      <td>Smith</td>\n",
       "      <td>72</td>\n",
       "      <td>Wife</td>\n",
       "      <td>Married</td>\n",
       "      <td>Female</td>\n",
       "      <td>Retired Operational researcher</td>\n",
       "      <td>None</td>\n",
       "      <td>Christian</td>\n",
       "    </tr>\n",
       "    <tr>\n",
       "      <th>2596</th>\n",
       "      <td>43</td>\n",
       "      <td>Barrett Circles</td>\n",
       "      <td>Patricia</td>\n",
       "      <td>Wilson</td>\n",
       "      <td>40</td>\n",
       "      <td>None</td>\n",
       "      <td>Married</td>\n",
       "      <td>Female</td>\n",
       "      <td>Animal technologist</td>\n",
       "      <td>None</td>\n",
       "      <td>Catholic</td>\n",
       "    </tr>\n",
       "    <tr>\n",
       "      <th>2597</th>\n",
       "      <td>43</td>\n",
       "      <td>Barrett Circles</td>\n",
       "      <td>Malcolm</td>\n",
       "      <td>Wilson</td>\n",
       "      <td>41</td>\n",
       "      <td>None</td>\n",
       "      <td>Married</td>\n",
       "      <td>Male</td>\n",
       "      <td>Fish farm manager</td>\n",
       "      <td>None</td>\n",
       "      <td>None</td>\n",
       "    </tr>\n",
       "    <tr>\n",
       "      <th>2598</th>\n",
       "      <td>43</td>\n",
       "      <td>Barrett Circles</td>\n",
       "      <td>Carole</td>\n",
       "      <td>Wilson</td>\n",
       "      <td>10</td>\n",
       "      <td>None</td>\n",
       "      <td>NaN</td>\n",
       "      <td>Female</td>\n",
       "      <td>Student</td>\n",
       "      <td>None</td>\n",
       "      <td>NaN</td>\n",
       "    </tr>\n",
       "    <tr>\n",
       "      <th>2599</th>\n",
       "      <td>43</td>\n",
       "      <td>Barrett Circles</td>\n",
       "      <td>Nathan</td>\n",
       "      <td>Anderson-Wilson</td>\n",
       "      <td>9</td>\n",
       "      <td>None</td>\n",
       "      <td>NaN</td>\n",
       "      <td>Male</td>\n",
       "      <td>Student</td>\n",
       "      <td>None</td>\n",
       "      <td>NaN</td>\n",
       "    </tr>\n",
       "  </tbody>\n",
       "</table>\n",
       "</div>"
      ],
      "text/plain": [
       "      House Number           Street First Name        Last Name  Age  \\\n",
       "2594            43  Barrett Circles     Joseph            Smith   74   \n",
       "2595            43  Barrett Circles     Sylvia            Smith   72   \n",
       "2596            43  Barrett Circles   Patricia           Wilson   40   \n",
       "2597            43  Barrett Circles    Malcolm           Wilson   41   \n",
       "2598            43  Barrett Circles     Carole           Wilson   10   \n",
       "2599            43  Barrett Circles     Nathan  Anderson-Wilson    9   \n",
       "\n",
       "     Relationship to Head of House Marital Status  Gender  \\\n",
       "2594                          Head        Married    Male   \n",
       "2595                          Wife        Married  Female   \n",
       "2596                          None        Married  Female   \n",
       "2597                          None        Married    Male   \n",
       "2598                          None            NaN  Female   \n",
       "2599                          None            NaN    Male   \n",
       "\n",
       "                          Occupation Infirmity   Religion  \n",
       "2594      Retired Theme park manager      None  Christian  \n",
       "2595  Retired Operational researcher      None  Christian  \n",
       "2596             Animal technologist      None   Catholic  \n",
       "2597               Fish farm manager      None       None  \n",
       "2598                         Student      None        NaN  \n",
       "2599                         Student      None        NaN  "
      ]
     },
     "execution_count": 66,
     "metadata": {},
     "output_type": "execute_result"
    }
   ],
   "source": [
    "df.loc[(df['Street'] == 'Barrett Circles') & (df['House Number'] == 43) ]"
   ]
  },
  {
   "cell_type": "markdown",
   "id": "dc73f4b2",
   "metadata": {},
   "source": [
    "`Wilson Family`. `Nathan` would be the adopted son because of the name he bears. Others will have relationships as deemed fit in a family structure."
   ]
  },
  {
   "cell_type": "code",
   "execution_count": 67,
   "id": "0bf83e44",
   "metadata": {},
   "outputs": [],
   "source": [
    "df.loc[(df['Street'] == 'Barrett Circles') &(df['House Number'] == 43) & (df['Last Name'] == 'Wilson') & (df['Age'] > 18) & (df['Gender'] == 'Male'), 'Relationship to Head of House'] = 'Head'\n",
    "\n",
    "df.loc[(df['Street'] == 'Barrett Circles') &(df['House Number'] == 43) & (df['Last Name'] == 'Wilson') & (df['Age'] > 18) & (df['Gender'] == 'Female'), 'Relationship to Head of House'] = 'Wife'"
   ]
  },
  {
   "cell_type": "code",
   "execution_count": 68,
   "id": "632ebf3a",
   "metadata": {},
   "outputs": [
    {
     "data": {
      "text/html": [
       "<div>\n",
       "<style scoped>\n",
       "    .dataframe tbody tr th:only-of-type {\n",
       "        vertical-align: middle;\n",
       "    }\n",
       "\n",
       "    .dataframe tbody tr th {\n",
       "        vertical-align: top;\n",
       "    }\n",
       "\n",
       "    .dataframe thead th {\n",
       "        text-align: right;\n",
       "    }\n",
       "</style>\n",
       "<table border=\"1\" class=\"dataframe\">\n",
       "  <thead>\n",
       "    <tr style=\"text-align: right;\">\n",
       "      <th></th>\n",
       "      <th>House Number</th>\n",
       "      <th>Street</th>\n",
       "      <th>First Name</th>\n",
       "      <th>Last Name</th>\n",
       "      <th>Age</th>\n",
       "      <th>Relationship to Head of House</th>\n",
       "      <th>Marital Status</th>\n",
       "      <th>Gender</th>\n",
       "      <th>Occupation</th>\n",
       "      <th>Infirmity</th>\n",
       "      <th>Religion</th>\n",
       "    </tr>\n",
       "  </thead>\n",
       "  <tbody>\n",
       "    <tr>\n",
       "      <th>2594</th>\n",
       "      <td>43</td>\n",
       "      <td>Barrett Circles</td>\n",
       "      <td>Joseph</td>\n",
       "      <td>Smith</td>\n",
       "      <td>74</td>\n",
       "      <td>Head</td>\n",
       "      <td>Married</td>\n",
       "      <td>Male</td>\n",
       "      <td>Retired Theme park manager</td>\n",
       "      <td>None</td>\n",
       "      <td>Christian</td>\n",
       "    </tr>\n",
       "    <tr>\n",
       "      <th>2595</th>\n",
       "      <td>43</td>\n",
       "      <td>Barrett Circles</td>\n",
       "      <td>Sylvia</td>\n",
       "      <td>Smith</td>\n",
       "      <td>72</td>\n",
       "      <td>Wife</td>\n",
       "      <td>Married</td>\n",
       "      <td>Female</td>\n",
       "      <td>Retired Operational researcher</td>\n",
       "      <td>None</td>\n",
       "      <td>Christian</td>\n",
       "    </tr>\n",
       "    <tr>\n",
       "      <th>2596</th>\n",
       "      <td>43</td>\n",
       "      <td>Barrett Circles</td>\n",
       "      <td>Patricia</td>\n",
       "      <td>Wilson</td>\n",
       "      <td>40</td>\n",
       "      <td>Wife</td>\n",
       "      <td>Married</td>\n",
       "      <td>Female</td>\n",
       "      <td>Animal technologist</td>\n",
       "      <td>None</td>\n",
       "      <td>Catholic</td>\n",
       "    </tr>\n",
       "    <tr>\n",
       "      <th>2597</th>\n",
       "      <td>43</td>\n",
       "      <td>Barrett Circles</td>\n",
       "      <td>Malcolm</td>\n",
       "      <td>Wilson</td>\n",
       "      <td>41</td>\n",
       "      <td>Head</td>\n",
       "      <td>Married</td>\n",
       "      <td>Male</td>\n",
       "      <td>Fish farm manager</td>\n",
       "      <td>None</td>\n",
       "      <td>None</td>\n",
       "    </tr>\n",
       "    <tr>\n",
       "      <th>2598</th>\n",
       "      <td>43</td>\n",
       "      <td>Barrett Circles</td>\n",
       "      <td>Carole</td>\n",
       "      <td>Wilson</td>\n",
       "      <td>10</td>\n",
       "      <td>None</td>\n",
       "      <td>NaN</td>\n",
       "      <td>Female</td>\n",
       "      <td>Student</td>\n",
       "      <td>None</td>\n",
       "      <td>NaN</td>\n",
       "    </tr>\n",
       "    <tr>\n",
       "      <th>2599</th>\n",
       "      <td>43</td>\n",
       "      <td>Barrett Circles</td>\n",
       "      <td>Nathan</td>\n",
       "      <td>Anderson-Wilson</td>\n",
       "      <td>9</td>\n",
       "      <td>None</td>\n",
       "      <td>NaN</td>\n",
       "      <td>Male</td>\n",
       "      <td>Student</td>\n",
       "      <td>None</td>\n",
       "      <td>NaN</td>\n",
       "    </tr>\n",
       "  </tbody>\n",
       "</table>\n",
       "</div>"
      ],
      "text/plain": [
       "      House Number           Street First Name        Last Name  Age  \\\n",
       "2594            43  Barrett Circles     Joseph            Smith   74   \n",
       "2595            43  Barrett Circles     Sylvia            Smith   72   \n",
       "2596            43  Barrett Circles   Patricia           Wilson   40   \n",
       "2597            43  Barrett Circles    Malcolm           Wilson   41   \n",
       "2598            43  Barrett Circles     Carole           Wilson   10   \n",
       "2599            43  Barrett Circles     Nathan  Anderson-Wilson    9   \n",
       "\n",
       "     Relationship to Head of House Marital Status  Gender  \\\n",
       "2594                          Head        Married    Male   \n",
       "2595                          Wife        Married  Female   \n",
       "2596                          Wife        Married  Female   \n",
       "2597                          Head        Married    Male   \n",
       "2598                          None            NaN  Female   \n",
       "2599                          None            NaN    Male   \n",
       "\n",
       "                          Occupation Infirmity   Religion  \n",
       "2594      Retired Theme park manager      None  Christian  \n",
       "2595  Retired Operational researcher      None  Christian  \n",
       "2596             Animal technologist      None   Catholic  \n",
       "2597               Fish farm manager      None       None  \n",
       "2598                         Student      None        NaN  \n",
       "2599                         Student      None        NaN  "
      ]
     },
     "execution_count": 68,
     "metadata": {},
     "output_type": "execute_result"
    }
   ],
   "source": [
    "df.loc[(df['Street'] == 'Barrett Circles') & (df['House Number'] == 43) ]"
   ]
  },
  {
   "cell_type": "code",
   "execution_count": 69,
   "id": "04dbc2a9",
   "metadata": {},
   "outputs": [],
   "source": [
    "df.loc[(df['Street'] == 'Barrett Circles') &(df['House Number'] == 43) & (df['Last Name'] == 'Wilson') & (df['Age'] < 18) & (df['Gender'] == 'Female'), 'Relationship to Head of House'] = 'Daughter'\n",
    "\n",
    "df.loc[(df['Street'] == 'Barrett Circles') &(df['House Number'] == 43) & (df['Last Name'].str.contains('Wilson')) & (df['Age'] < 18) & (df['Gender'] == 'Male'), 'Relationship to Head of House'] = 'Adopted Son'"
   ]
  },
  {
   "cell_type": "code",
   "execution_count": 70,
   "id": "630e7bb2",
   "metadata": {},
   "outputs": [
    {
     "data": {
      "text/html": [
       "<div>\n",
       "<style scoped>\n",
       "    .dataframe tbody tr th:only-of-type {\n",
       "        vertical-align: middle;\n",
       "    }\n",
       "\n",
       "    .dataframe tbody tr th {\n",
       "        vertical-align: top;\n",
       "    }\n",
       "\n",
       "    .dataframe thead th {\n",
       "        text-align: right;\n",
       "    }\n",
       "</style>\n",
       "<table border=\"1\" class=\"dataframe\">\n",
       "  <thead>\n",
       "    <tr style=\"text-align: right;\">\n",
       "      <th></th>\n",
       "      <th>House Number</th>\n",
       "      <th>Street</th>\n",
       "      <th>First Name</th>\n",
       "      <th>Last Name</th>\n",
       "      <th>Age</th>\n",
       "      <th>Relationship to Head of House</th>\n",
       "      <th>Marital Status</th>\n",
       "      <th>Gender</th>\n",
       "      <th>Occupation</th>\n",
       "      <th>Infirmity</th>\n",
       "      <th>Religion</th>\n",
       "    </tr>\n",
       "  </thead>\n",
       "  <tbody>\n",
       "    <tr>\n",
       "      <th>2594</th>\n",
       "      <td>43</td>\n",
       "      <td>Barrett Circles</td>\n",
       "      <td>Joseph</td>\n",
       "      <td>Smith</td>\n",
       "      <td>74</td>\n",
       "      <td>Head</td>\n",
       "      <td>Married</td>\n",
       "      <td>Male</td>\n",
       "      <td>Retired Theme park manager</td>\n",
       "      <td>None</td>\n",
       "      <td>Christian</td>\n",
       "    </tr>\n",
       "    <tr>\n",
       "      <th>2595</th>\n",
       "      <td>43</td>\n",
       "      <td>Barrett Circles</td>\n",
       "      <td>Sylvia</td>\n",
       "      <td>Smith</td>\n",
       "      <td>72</td>\n",
       "      <td>Wife</td>\n",
       "      <td>Married</td>\n",
       "      <td>Female</td>\n",
       "      <td>Retired Operational researcher</td>\n",
       "      <td>None</td>\n",
       "      <td>Christian</td>\n",
       "    </tr>\n",
       "    <tr>\n",
       "      <th>2596</th>\n",
       "      <td>43</td>\n",
       "      <td>Barrett Circles</td>\n",
       "      <td>Patricia</td>\n",
       "      <td>Wilson</td>\n",
       "      <td>40</td>\n",
       "      <td>Wife</td>\n",
       "      <td>Married</td>\n",
       "      <td>Female</td>\n",
       "      <td>Animal technologist</td>\n",
       "      <td>None</td>\n",
       "      <td>Catholic</td>\n",
       "    </tr>\n",
       "    <tr>\n",
       "      <th>2597</th>\n",
       "      <td>43</td>\n",
       "      <td>Barrett Circles</td>\n",
       "      <td>Malcolm</td>\n",
       "      <td>Wilson</td>\n",
       "      <td>41</td>\n",
       "      <td>Head</td>\n",
       "      <td>Married</td>\n",
       "      <td>Male</td>\n",
       "      <td>Fish farm manager</td>\n",
       "      <td>None</td>\n",
       "      <td>None</td>\n",
       "    </tr>\n",
       "    <tr>\n",
       "      <th>2598</th>\n",
       "      <td>43</td>\n",
       "      <td>Barrett Circles</td>\n",
       "      <td>Carole</td>\n",
       "      <td>Wilson</td>\n",
       "      <td>10</td>\n",
       "      <td>Daughter</td>\n",
       "      <td>NaN</td>\n",
       "      <td>Female</td>\n",
       "      <td>Student</td>\n",
       "      <td>None</td>\n",
       "      <td>NaN</td>\n",
       "    </tr>\n",
       "    <tr>\n",
       "      <th>2599</th>\n",
       "      <td>43</td>\n",
       "      <td>Barrett Circles</td>\n",
       "      <td>Nathan</td>\n",
       "      <td>Anderson-Wilson</td>\n",
       "      <td>9</td>\n",
       "      <td>Adopted Son</td>\n",
       "      <td>NaN</td>\n",
       "      <td>Male</td>\n",
       "      <td>Student</td>\n",
       "      <td>None</td>\n",
       "      <td>NaN</td>\n",
       "    </tr>\n",
       "  </tbody>\n",
       "</table>\n",
       "</div>"
      ],
      "text/plain": [
       "      House Number           Street First Name        Last Name  Age  \\\n",
       "2594            43  Barrett Circles     Joseph            Smith   74   \n",
       "2595            43  Barrett Circles     Sylvia            Smith   72   \n",
       "2596            43  Barrett Circles   Patricia           Wilson   40   \n",
       "2597            43  Barrett Circles    Malcolm           Wilson   41   \n",
       "2598            43  Barrett Circles     Carole           Wilson   10   \n",
       "2599            43  Barrett Circles     Nathan  Anderson-Wilson    9   \n",
       "\n",
       "     Relationship to Head of House Marital Status  Gender  \\\n",
       "2594                          Head        Married    Male   \n",
       "2595                          Wife        Married  Female   \n",
       "2596                          Wife        Married  Female   \n",
       "2597                          Head        Married    Male   \n",
       "2598                      Daughter            NaN  Female   \n",
       "2599                   Adopted Son            NaN    Male   \n",
       "\n",
       "                          Occupation Infirmity   Religion  \n",
       "2594      Retired Theme park manager      None  Christian  \n",
       "2595  Retired Operational researcher      None  Christian  \n",
       "2596             Animal technologist      None   Catholic  \n",
       "2597               Fish farm manager      None       None  \n",
       "2598                         Student      None        NaN  \n",
       "2599                         Student      None        NaN  "
      ]
     },
     "execution_count": 70,
     "metadata": {},
     "output_type": "execute_result"
    }
   ],
   "source": [
    "df.loc[(df['Street'] == 'Barrett Circles') & (df['House Number'] == 43)]"
   ]
  },
  {
   "cell_type": "code",
   "execution_count": 71,
   "id": "11e33bb1",
   "metadata": {},
   "outputs": [
    {
     "data": {
      "text/plain": [
       "0"
      ]
     },
     "execution_count": 71,
     "metadata": {},
     "output_type": "execute_result"
    }
   ],
   "source": [
    "df.loc[(df['Relationship to Head of House'] == 'None') & (df['Age'] < 18), 'Relationship to Head of House'].sum()"
   ]
  },
  {
   "cell_type": "markdown",
   "id": "b179ab62",
   "metadata": {},
   "source": [
    "`Relationship to Head of House` with `None` values that have ages less than 18 are thus cleaned."
   ]
  },
  {
   "cell_type": "code",
   "execution_count": 72,
   "id": "8745a421",
   "metadata": {},
   "outputs": [
    {
     "data": {
      "text/plain": [
       "None    692\n",
       "Name: Relationship to Head of House, dtype: int64"
      ]
     },
     "execution_count": 72,
     "metadata": {},
     "output_type": "execute_result"
    }
   ],
   "source": [
    "df.loc[(df['Relationship to Head of House'] == 'None') & (df['Age'] >= 18), 'Relationship to Head of House'].value_counts()"
   ]
  },
  {
   "cell_type": "code",
   "execution_count": 73,
   "id": "ab207cbc",
   "metadata": {},
   "outputs": [
    {
     "data": {
      "text/plain": [
       "0"
      ]
     },
     "execution_count": 73,
     "metadata": {},
     "output_type": "execute_result"
    }
   ],
   "source": [
    "df['Relationship to Head of House'].isna().sum()"
   ]
  },
  {
   "cell_type": "code",
   "execution_count": 74,
   "id": "4a0732ab",
   "metadata": {},
   "outputs": [],
   "source": [
    "#We move to cleaning other None values later."
   ]
  },
  {
   "cell_type": "code",
   "execution_count": 75,
   "id": "36e15bce",
   "metadata": {},
   "outputs": [
    {
     "data": {
      "text/html": [
       "<div>\n",
       "<style scoped>\n",
       "    .dataframe tbody tr th:only-of-type {\n",
       "        vertical-align: middle;\n",
       "    }\n",
       "\n",
       "    .dataframe tbody tr th {\n",
       "        vertical-align: top;\n",
       "    }\n",
       "\n",
       "    .dataframe thead th {\n",
       "        text-align: right;\n",
       "    }\n",
       "</style>\n",
       "<table border=\"1\" class=\"dataframe\">\n",
       "  <thead>\n",
       "    <tr style=\"text-align: right;\">\n",
       "      <th></th>\n",
       "      <th>House Number</th>\n",
       "      <th>Street</th>\n",
       "      <th>First Name</th>\n",
       "      <th>Last Name</th>\n",
       "      <th>Age</th>\n",
       "      <th>Relationship to Head of House</th>\n",
       "      <th>Marital Status</th>\n",
       "      <th>Gender</th>\n",
       "      <th>Occupation</th>\n",
       "      <th>Infirmity</th>\n",
       "      <th>Religion</th>\n",
       "    </tr>\n",
       "  </thead>\n",
       "  <tbody>\n",
       "    <tr>\n",
       "      <th>2229</th>\n",
       "      <td>26</td>\n",
       "      <td>Wembley Junction</td>\n",
       "      <td>Heather</td>\n",
       "      <td>Begum-Jones</td>\n",
       "      <td>16</td>\n",
       "      <td>Head</td>\n",
       "      <td>Divorced</td>\n",
       "      <td>f</td>\n",
       "      <td>Unemployed</td>\n",
       "      <td>None</td>\n",
       "      <td>NaN</td>\n",
       "    </tr>\n",
       "    <tr>\n",
       "      <th>3958</th>\n",
       "      <td>36</td>\n",
       "      <td>Lynch Streets</td>\n",
       "      <td>Reece</td>\n",
       "      <td>Farmer</td>\n",
       "      <td>16</td>\n",
       "      <td>Head</td>\n",
       "      <td>Divorced</td>\n",
       "      <td>Male</td>\n",
       "      <td>Unemployed</td>\n",
       "      <td>None</td>\n",
       "      <td>NaN</td>\n",
       "    </tr>\n",
       "    <tr>\n",
       "      <th>4679</th>\n",
       "      <td>17</td>\n",
       "      <td>Pinewood Course</td>\n",
       "      <td>Amber</td>\n",
       "      <td>Roberts</td>\n",
       "      <td>16</td>\n",
       "      <td>Head</td>\n",
       "      <td>Divorced</td>\n",
       "      <td>Female</td>\n",
       "      <td>Student</td>\n",
       "      <td>None</td>\n",
       "      <td>NaN</td>\n",
       "    </tr>\n",
       "  </tbody>\n",
       "</table>\n",
       "</div>"
      ],
      "text/plain": [
       "      House Number            Street First Name    Last Name  Age  \\\n",
       "2229            26  Wembley Junction    Heather  Begum-Jones   16   \n",
       "3958            36     Lynch Streets      Reece       Farmer   16   \n",
       "4679            17   Pinewood Course      Amber      Roberts   16   \n",
       "\n",
       "     Relationship to Head of House Marital Status  Gender  Occupation  \\\n",
       "2229                          Head       Divorced       f  Unemployed   \n",
       "3958                          Head       Divorced    Male  Unemployed   \n",
       "4679                          Head       Divorced  Female     Student   \n",
       "\n",
       "     Infirmity Religion  \n",
       "2229      None      NaN  \n",
       "3958      None      NaN  \n",
       "4679      None      NaN  "
      ]
     },
     "execution_count": 75,
     "metadata": {},
     "output_type": "execute_result"
    }
   ],
   "source": [
    "df.loc[(df['Relationship to Head of House'] == 'Head') & (df['Age'] < 18)]"
   ]
  },
  {
   "cell_type": "code",
   "execution_count": 76,
   "id": "15ad16d6",
   "metadata": {},
   "outputs": [
    {
     "data": {
      "text/html": [
       "<div>\n",
       "<style scoped>\n",
       "    .dataframe tbody tr th:only-of-type {\n",
       "        vertical-align: middle;\n",
       "    }\n",
       "\n",
       "    .dataframe tbody tr th {\n",
       "        vertical-align: top;\n",
       "    }\n",
       "\n",
       "    .dataframe thead th {\n",
       "        text-align: right;\n",
       "    }\n",
       "</style>\n",
       "<table border=\"1\" class=\"dataframe\">\n",
       "  <thead>\n",
       "    <tr style=\"text-align: right;\">\n",
       "      <th></th>\n",
       "      <th>House Number</th>\n",
       "      <th>Street</th>\n",
       "      <th>First Name</th>\n",
       "      <th>Last Name</th>\n",
       "      <th>Age</th>\n",
       "      <th>Relationship to Head of House</th>\n",
       "      <th>Marital Status</th>\n",
       "      <th>Gender</th>\n",
       "      <th>Occupation</th>\n",
       "      <th>Infirmity</th>\n",
       "      <th>Religion</th>\n",
       "    </tr>\n",
       "  </thead>\n",
       "  <tbody>\n",
       "    <tr>\n",
       "      <th>2229</th>\n",
       "      <td>26</td>\n",
       "      <td>Wembley Junction</td>\n",
       "      <td>Heather</td>\n",
       "      <td>Begum-Jones</td>\n",
       "      <td>16</td>\n",
       "      <td>Head</td>\n",
       "      <td>Divorced</td>\n",
       "      <td>f</td>\n",
       "      <td>Unemployed</td>\n",
       "      <td>None</td>\n",
       "      <td>NaN</td>\n",
       "    </tr>\n",
       "    <tr>\n",
       "      <th>2230</th>\n",
       "      <td>26</td>\n",
       "      <td>Wembley Junction</td>\n",
       "      <td>Brian</td>\n",
       "      <td>Begum-Jones</td>\n",
       "      <td>0</td>\n",
       "      <td>Son</td>\n",
       "      <td>NaN</td>\n",
       "      <td>Male</td>\n",
       "      <td>Child</td>\n",
       "      <td>None</td>\n",
       "      <td>NaN</td>\n",
       "    </tr>\n",
       "  </tbody>\n",
       "</table>\n",
       "</div>"
      ],
      "text/plain": [
       "      House Number            Street First Name    Last Name  Age  \\\n",
       "2229            26  Wembley Junction    Heather  Begum-Jones   16   \n",
       "2230            26  Wembley Junction      Brian  Begum-Jones    0   \n",
       "\n",
       "     Relationship to Head of House Marital Status Gender  Occupation  \\\n",
       "2229                          Head       Divorced      f  Unemployed   \n",
       "2230                           Son            NaN   Male       Child   \n",
       "\n",
       "     Infirmity Religion  \n",
       "2229      None      NaN  \n",
       "2230      None      NaN  "
      ]
     },
     "execution_count": 76,
     "metadata": {},
     "output_type": "execute_result"
    }
   ],
   "source": [
    "df.loc[ (df['Last Name'] == \"Begum-Jones\")]"
   ]
  },
  {
   "cell_type": "code",
   "execution_count": 77,
   "id": "83b46d63",
   "metadata": {},
   "outputs": [],
   "source": [
    "df = df.drop(labels=[2229, 2230])"
   ]
  },
  {
   "cell_type": "code",
   "execution_count": 78,
   "id": "a575c207",
   "metadata": {},
   "outputs": [
    {
     "data": {
      "text/html": [
       "<div>\n",
       "<style scoped>\n",
       "    .dataframe tbody tr th:only-of-type {\n",
       "        vertical-align: middle;\n",
       "    }\n",
       "\n",
       "    .dataframe tbody tr th {\n",
       "        vertical-align: top;\n",
       "    }\n",
       "\n",
       "    .dataframe thead th {\n",
       "        text-align: right;\n",
       "    }\n",
       "</style>\n",
       "<table border=\"1\" class=\"dataframe\">\n",
       "  <thead>\n",
       "    <tr style=\"text-align: right;\">\n",
       "      <th></th>\n",
       "      <th>House Number</th>\n",
       "      <th>Street</th>\n",
       "      <th>First Name</th>\n",
       "      <th>Last Name</th>\n",
       "      <th>Age</th>\n",
       "      <th>Relationship to Head of House</th>\n",
       "      <th>Marital Status</th>\n",
       "      <th>Gender</th>\n",
       "      <th>Occupation</th>\n",
       "      <th>Infirmity</th>\n",
       "      <th>Religion</th>\n",
       "    </tr>\n",
       "  </thead>\n",
       "  <tbody>\n",
       "    <tr>\n",
       "      <th>3958</th>\n",
       "      <td>36</td>\n",
       "      <td>Lynch Streets</td>\n",
       "      <td>Reece</td>\n",
       "      <td>Farmer</td>\n",
       "      <td>16</td>\n",
       "      <td>Head</td>\n",
       "      <td>Divorced</td>\n",
       "      <td>Male</td>\n",
       "      <td>Unemployed</td>\n",
       "      <td>None</td>\n",
       "      <td>NaN</td>\n",
       "    </tr>\n",
       "    <tr>\n",
       "      <th>3959</th>\n",
       "      <td>36</td>\n",
       "      <td>Lynch Streets</td>\n",
       "      <td>Terry</td>\n",
       "      <td>Farmer</td>\n",
       "      <td>0</td>\n",
       "      <td>Son</td>\n",
       "      <td>NaN</td>\n",
       "      <td>Male</td>\n",
       "      <td>Child</td>\n",
       "      <td>None</td>\n",
       "      <td>NaN</td>\n",
       "    </tr>\n",
       "  </tbody>\n",
       "</table>\n",
       "</div>"
      ],
      "text/plain": [
       "      House Number         Street First Name Last Name  Age  \\\n",
       "3958            36  Lynch Streets      Reece    Farmer   16   \n",
       "3959            36  Lynch Streets      Terry    Farmer    0   \n",
       "\n",
       "     Relationship to Head of House Marital Status Gender  Occupation  \\\n",
       "3958                          Head       Divorced   Male  Unemployed   \n",
       "3959                           Son            NaN   Male       Child   \n",
       "\n",
       "     Infirmity Religion  \n",
       "3958      None      NaN  \n",
       "3959      None      NaN  "
      ]
     },
     "execution_count": 78,
     "metadata": {},
     "output_type": "execute_result"
    }
   ],
   "source": [
    "df.loc[ (df['Last Name'] == \"Farmer\") & (df['Street'] == 'Lynch Streets') & (df['House Number'] == 36)]"
   ]
  },
  {
   "cell_type": "code",
   "execution_count": 79,
   "id": "f0421310",
   "metadata": {},
   "outputs": [
    {
     "data": {
      "text/html": [
       "<div>\n",
       "<style scoped>\n",
       "    .dataframe tbody tr th:only-of-type {\n",
       "        vertical-align: middle;\n",
       "    }\n",
       "\n",
       "    .dataframe tbody tr th {\n",
       "        vertical-align: top;\n",
       "    }\n",
       "\n",
       "    .dataframe thead th {\n",
       "        text-align: right;\n",
       "    }\n",
       "</style>\n",
       "<table border=\"1\" class=\"dataframe\">\n",
       "  <thead>\n",
       "    <tr style=\"text-align: right;\">\n",
       "      <th></th>\n",
       "      <th>House Number</th>\n",
       "      <th>Street</th>\n",
       "      <th>First Name</th>\n",
       "      <th>Last Name</th>\n",
       "      <th>Age</th>\n",
       "      <th>Relationship to Head of House</th>\n",
       "      <th>Marital Status</th>\n",
       "      <th>Gender</th>\n",
       "      <th>Occupation</th>\n",
       "      <th>Infirmity</th>\n",
       "      <th>Religion</th>\n",
       "    </tr>\n",
       "  </thead>\n",
       "  <tbody>\n",
       "    <tr>\n",
       "      <th>4679</th>\n",
       "      <td>17</td>\n",
       "      <td>Pinewood Course</td>\n",
       "      <td>Amber</td>\n",
       "      <td>Roberts</td>\n",
       "      <td>16</td>\n",
       "      <td>Head</td>\n",
       "      <td>Divorced</td>\n",
       "      <td>Female</td>\n",
       "      <td>Student</td>\n",
       "      <td>None</td>\n",
       "      <td>NaN</td>\n",
       "    </tr>\n",
       "    <tr>\n",
       "      <th>4680</th>\n",
       "      <td>17</td>\n",
       "      <td>Pinewood Course</td>\n",
       "      <td>Cameron</td>\n",
       "      <td>Roberts</td>\n",
       "      <td>0</td>\n",
       "      <td>Son</td>\n",
       "      <td>NaN</td>\n",
       "      <td>Male</td>\n",
       "      <td>Child</td>\n",
       "      <td>None</td>\n",
       "      <td>NaN</td>\n",
       "    </tr>\n",
       "  </tbody>\n",
       "</table>\n",
       "</div>"
      ],
      "text/plain": [
       "      House Number           Street First Name Last Name  Age  \\\n",
       "4679            17  Pinewood Course      Amber   Roberts   16   \n",
       "4680            17  Pinewood Course    Cameron   Roberts    0   \n",
       "\n",
       "     Relationship to Head of House Marital Status  Gender Occupation  \\\n",
       "4679                          Head       Divorced  Female    Student   \n",
       "4680                           Son            NaN    Male      Child   \n",
       "\n",
       "     Infirmity Religion  \n",
       "4679      None      NaN  \n",
       "4680      None      NaN  "
      ]
     },
     "execution_count": 79,
     "metadata": {},
     "output_type": "execute_result"
    }
   ],
   "source": [
    "df.loc[ (df['Last Name'] == \"Roberts\") & (df['Street'] == 'Pinewood Course') & (df['House Number'] == 17)]"
   ]
  },
  {
   "cell_type": "code",
   "execution_count": 80,
   "id": "4c45f3dd",
   "metadata": {},
   "outputs": [],
   "source": [
    "\n",
    "df = df.drop(labels=[3958, 3959, 4679, 4680])\n"
   ]
  },
  {
   "cell_type": "code",
   "execution_count": 81,
   "id": "dc0859f1",
   "metadata": {},
   "outputs": [
    {
     "data": {
      "text/plain": [
       "0"
      ]
     },
     "execution_count": 81,
     "metadata": {},
     "output_type": "execute_result"
    }
   ],
   "source": [
    "df.loc[(df['Relationship to Head of House'] == 'Head') & (df['Age'] < 18), 'Relationship to Head of House'].sum()"
   ]
  },
  {
   "cell_type": "markdown",
   "id": "a13cb770",
   "metadata": {},
   "source": [
    "### Marital Status:"
   ]
  },
  {
   "cell_type": "code",
   "execution_count": 82,
   "id": "bc6b10f7",
   "metadata": {},
   "outputs": [
    {
     "data": {
      "text/plain": [
       "array(['Single', 'Divorced', 'Married', nan, 'Widowed', 'W', 'M', 'D',\n",
       "       'S'], dtype=object)"
      ]
     },
     "execution_count": 82,
     "metadata": {},
     "output_type": "execute_result"
    }
   ],
   "source": [
    "df['Marital Status'].unique()"
   ]
  },
  {
   "cell_type": "code",
   "execution_count": 83,
   "id": "930dc44d",
   "metadata": {},
   "outputs": [
    {
     "data": {
      "text/plain": [
       "Single      3464\n",
       "Married     2490\n",
       "Divorced     903\n",
       "Widowed      389\n",
       "W              5\n",
       "M              2\n",
       "D              1\n",
       "S              1\n",
       "Name: Marital Status, dtype: int64"
      ]
     },
     "execution_count": 83,
     "metadata": {},
     "output_type": "execute_result"
    }
   ],
   "source": [
    "df['Marital Status'].value_counts()"
   ]
  },
  {
   "cell_type": "code",
   "execution_count": 84,
   "id": "d7994eaa",
   "metadata": {
    "scrolled": false
   },
   "outputs": [
    {
     "data": {
      "text/plain": [
       "2394"
      ]
     },
     "execution_count": 84,
     "metadata": {},
     "output_type": "execute_result"
    }
   ],
   "source": [
    "df['Marital Status'].isna().sum()"
   ]
  },
  {
   "cell_type": "markdown",
   "id": "3397f63a",
   "metadata": {},
   "source": [
    "#### Observations: \n",
    "\n",
    "There is a lack of consistency in the way data was recorded. `M` , `W`, `D`, `S` are all supposed to be in words. Also, there are `nan` values"
   ]
  },
  {
   "cell_type": "code",
   "execution_count": 85,
   "id": "33fa834c",
   "metadata": {},
   "outputs": [],
   "source": [
    "df.loc[df['Marital Status'] == 'M', 'Marital Status'] = 'Married'\n",
    "df.loc[df['Marital Status'] == 'S', 'Marital Status'] = 'Single'\n",
    "df.loc[df['Marital Status'] == 'D', 'Marital Status'] = 'Divorced'\n",
    "df.loc[df['Marital Status'] == 'W', 'Marital Status'] = 'Widowed'\n"
   ]
  },
  {
   "cell_type": "code",
   "execution_count": 86,
   "id": "696c7340",
   "metadata": {},
   "outputs": [
    {
     "data": {
      "text/plain": [
       "array(['Single', 'Divorced', 'Married', nan, 'Widowed'], dtype=object)"
      ]
     },
     "execution_count": 86,
     "metadata": {},
     "output_type": "execute_result"
    }
   ],
   "source": [
    "df['Marital Status'].unique()"
   ]
  },
  {
   "cell_type": "markdown",
   "id": "2f72f83d",
   "metadata": {},
   "source": [
    "checking the Age of those with `Marital Status` as `nan`"
   ]
  },
  {
   "cell_type": "code",
   "execution_count": 87,
   "id": "c24a860e",
   "metadata": {},
   "outputs": [
    {
     "data": {
      "text/plain": [
       "2394"
      ]
     },
     "execution_count": 87,
     "metadata": {},
     "output_type": "execute_result"
    }
   ],
   "source": [
    "df.loc[(df['Marital Status'].isna()) & (df['Age'] < 18), 'Age'].count()"
   ]
  },
  {
   "cell_type": "markdown",
   "id": "f0f272d1",
   "metadata": {},
   "source": [
    "All Entires with 'Marital status' as `Nan` have Ages less than 18. Under the law, it is unacceptable for people less than 18 to be legally married. Therefore, they'd be cleaned as `Minor`"
   ]
  },
  {
   "cell_type": "code",
   "execution_count": 88,
   "id": "d73d8c65",
   "metadata": {},
   "outputs": [],
   "source": [
    "df['Marital Status'].fillna('Minor', inplace=True)"
   ]
  },
  {
   "cell_type": "code",
   "execution_count": 89,
   "id": "24ea77a9",
   "metadata": {
    "scrolled": true
   },
   "outputs": [
    {
     "data": {
      "text/html": [
       "<div>\n",
       "<style scoped>\n",
       "    .dataframe tbody tr th:only-of-type {\n",
       "        vertical-align: middle;\n",
       "    }\n",
       "\n",
       "    .dataframe tbody tr th {\n",
       "        vertical-align: top;\n",
       "    }\n",
       "\n",
       "    .dataframe thead th {\n",
       "        text-align: right;\n",
       "    }\n",
       "</style>\n",
       "<table border=\"1\" class=\"dataframe\">\n",
       "  <thead>\n",
       "    <tr style=\"text-align: right;\">\n",
       "      <th></th>\n",
       "      <th>House Number</th>\n",
       "      <th>Street</th>\n",
       "      <th>First Name</th>\n",
       "      <th>Last Name</th>\n",
       "      <th>Age</th>\n",
       "      <th>Relationship to Head of House</th>\n",
       "      <th>Marital Status</th>\n",
       "      <th>Gender</th>\n",
       "      <th>Occupation</th>\n",
       "      <th>Infirmity</th>\n",
       "      <th>Religion</th>\n",
       "    </tr>\n",
       "  </thead>\n",
       "  <tbody>\n",
       "  </tbody>\n",
       "</table>\n",
       "</div>"
      ],
      "text/plain": [
       "Empty DataFrame\n",
       "Columns: [House Number, Street, First Name, Last Name, Age, Relationship to Head of House, Marital Status, Gender, Occupation, Infirmity, Religion]\n",
       "Index: []"
      ]
     },
     "execution_count": 89,
     "metadata": {},
     "output_type": "execute_result"
    }
   ],
   "source": [
    "df.loc[(df['Marital Status'] == 'Divorced') & (df['Age'] < 18)]"
   ]
  },
  {
   "cell_type": "markdown",
   "id": "b396b85f",
   "metadata": {},
   "source": [
    "A major inconsistency here is that we have divorced values for ages less 18 which is not legal. These are minors and cannot be married let alone divorced."
   ]
  },
  {
   "cell_type": "code",
   "execution_count": 90,
   "id": "5d7837eb",
   "metadata": {},
   "outputs": [],
   "source": [
    "df.loc[(df['Marital Status'] == 'Divorced') & (df['Age'] < 18), 'Marital Status'] = 'Minor'"
   ]
  },
  {
   "cell_type": "code",
   "execution_count": 91,
   "id": "9cb563d0",
   "metadata": {
    "scrolled": true
   },
   "outputs": [
    {
     "data": {
      "text/html": [
       "<div>\n",
       "<style scoped>\n",
       "    .dataframe tbody tr th:only-of-type {\n",
       "        vertical-align: middle;\n",
       "    }\n",
       "\n",
       "    .dataframe tbody tr th {\n",
       "        vertical-align: top;\n",
       "    }\n",
       "\n",
       "    .dataframe thead th {\n",
       "        text-align: right;\n",
       "    }\n",
       "</style>\n",
       "<table border=\"1\" class=\"dataframe\">\n",
       "  <thead>\n",
       "    <tr style=\"text-align: right;\">\n",
       "      <th></th>\n",
       "      <th>House Number</th>\n",
       "      <th>Street</th>\n",
       "      <th>First Name</th>\n",
       "      <th>Last Name</th>\n",
       "      <th>Age</th>\n",
       "      <th>Relationship to Head of House</th>\n",
       "      <th>Marital Status</th>\n",
       "      <th>Gender</th>\n",
       "      <th>Occupation</th>\n",
       "      <th>Infirmity</th>\n",
       "      <th>Religion</th>\n",
       "    </tr>\n",
       "  </thead>\n",
       "  <tbody>\n",
       "  </tbody>\n",
       "</table>\n",
       "</div>"
      ],
      "text/plain": [
       "Empty DataFrame\n",
       "Columns: [House Number, Street, First Name, Last Name, Age, Relationship to Head of House, Marital Status, Gender, Occupation, Infirmity, Religion]\n",
       "Index: []"
      ]
     },
     "execution_count": 91,
     "metadata": {},
     "output_type": "execute_result"
    }
   ],
   "source": [
    "df.loc[(df['Marital Status'] == 'Married') & (df['Age'] < 18)]"
   ]
  },
  {
   "cell_type": "code",
   "execution_count": 92,
   "id": "38df70bb",
   "metadata": {
    "scrolled": true
   },
   "outputs": [
    {
     "data": {
      "text/html": [
       "<div>\n",
       "<style scoped>\n",
       "    .dataframe tbody tr th:only-of-type {\n",
       "        vertical-align: middle;\n",
       "    }\n",
       "\n",
       "    .dataframe tbody tr th {\n",
       "        vertical-align: top;\n",
       "    }\n",
       "\n",
       "    .dataframe thead th {\n",
       "        text-align: right;\n",
       "    }\n",
       "</style>\n",
       "<table border=\"1\" class=\"dataframe\">\n",
       "  <thead>\n",
       "    <tr style=\"text-align: right;\">\n",
       "      <th></th>\n",
       "      <th>House Number</th>\n",
       "      <th>Street</th>\n",
       "      <th>First Name</th>\n",
       "      <th>Last Name</th>\n",
       "      <th>Age</th>\n",
       "      <th>Relationship to Head of House</th>\n",
       "      <th>Marital Status</th>\n",
       "      <th>Gender</th>\n",
       "      <th>Occupation</th>\n",
       "      <th>Infirmity</th>\n",
       "      <th>Religion</th>\n",
       "    </tr>\n",
       "  </thead>\n",
       "  <tbody>\n",
       "  </tbody>\n",
       "</table>\n",
       "</div>"
      ],
      "text/plain": [
       "Empty DataFrame\n",
       "Columns: [House Number, Street, First Name, Last Name, Age, Relationship to Head of House, Marital Status, Gender, Occupation, Infirmity, Religion]\n",
       "Index: []"
      ]
     },
     "execution_count": 92,
     "metadata": {},
     "output_type": "execute_result"
    }
   ],
   "source": [
    "df.loc[(df['Marital Status'] == 'Widowed') & (df['Age'] < 18)]"
   ]
  },
  {
   "cell_type": "code",
   "execution_count": 93,
   "id": "d92bb934",
   "metadata": {
    "scrolled": true
   },
   "outputs": [
    {
     "data": {
      "text/plain": [
       "Single      3465\n",
       "Married     2492\n",
       "Minor       2394\n",
       "Divorced     904\n",
       "Widowed      394\n",
       "Name: Marital Status, dtype: int64"
      ]
     },
     "execution_count": 93,
     "metadata": {},
     "output_type": "execute_result"
    }
   ],
   "source": [
    "df['Marital Status'].value_counts()"
   ]
  },
  {
   "cell_type": "code",
   "execution_count": 94,
   "id": "f64b4287",
   "metadata": {
    "scrolled": true
   },
   "outputs": [
    {
     "data": {
      "text/plain": [
       "array(['Single', 'Divorced', 'Married', 'Minor', 'Widowed'], dtype=object)"
      ]
     },
     "execution_count": 94,
     "metadata": {},
     "output_type": "execute_result"
    }
   ],
   "source": [
    "df['Marital Status'].unique()"
   ]
  },
  {
   "cell_type": "markdown",
   "id": "697b049a",
   "metadata": {},
   "source": [
    "`Marital Status` is thus cleaned."
   ]
  },
  {
   "cell_type": "markdown",
   "id": "2f6a34d6",
   "metadata": {},
   "source": [
    "### Gender:"
   ]
  },
  {
   "cell_type": "code",
   "execution_count": 95,
   "id": "37b4ca7c",
   "metadata": {},
   "outputs": [
    {
     "data": {
      "text/plain": [
       "Female    4982\n",
       "Male      4494\n",
       "male        93\n",
       "f           34\n",
       "female      20\n",
       "M           15\n",
       "F            7\n",
       "m            4\n",
       "Name: Gender, dtype: int64"
      ]
     },
     "execution_count": 95,
     "metadata": {},
     "output_type": "execute_result"
    }
   ],
   "source": [
    "df['Gender'].value_counts()"
   ]
  },
  {
   "cell_type": "code",
   "execution_count": 96,
   "id": "a9893627",
   "metadata": {},
   "outputs": [
    {
     "data": {
      "text/plain": [
       "array(['Male', 'Female', 'male', 'M', 'f', 'female', 'm', 'F'],\n",
       "      dtype=object)"
      ]
     },
     "execution_count": 96,
     "metadata": {},
     "output_type": "execute_result"
    }
   ],
   "source": [
    "df['Gender'].unique()"
   ]
  },
  {
   "cell_type": "markdown",
   "id": "dae2eb83",
   "metadata": {},
   "source": [
    "#### Observations:\n",
    "\n",
    "Here, again, there are inconsistencies in the way the data was recorded. The Abbreviations and discrepancy in the use of Upper case letter would be cleaned out."
   ]
  },
  {
   "cell_type": "code",
   "execution_count": 97,
   "id": "e08d3781",
   "metadata": {},
   "outputs": [],
   "source": [
    "df.loc[(df['Gender'] == 'M') | (df['Gender'] == 'm') | (df['Gender'] == 'male'), 'Gender'] = 'Male'\n",
    "df.loc[(df['Gender'] == 'F') | (df['Gender'] == 'f') | (df['Gender'] == 'female'), 'Gender'] = 'Female'"
   ]
  },
  {
   "cell_type": "code",
   "execution_count": 98,
   "id": "bc595550",
   "metadata": {},
   "outputs": [
    {
     "data": {
      "text/plain": [
       "Female    5043\n",
       "Male      4606\n",
       "Name: Gender, dtype: int64"
      ]
     },
     "execution_count": 98,
     "metadata": {},
     "output_type": "execute_result"
    }
   ],
   "source": [
    "df['Gender'].value_counts()"
   ]
  },
  {
   "cell_type": "code",
   "execution_count": 99,
   "id": "4e139c41",
   "metadata": {},
   "outputs": [
    {
     "data": {
      "text/plain": [
       "0"
      ]
     },
     "execution_count": 99,
     "metadata": {},
     "output_type": "execute_result"
    }
   ],
   "source": [
    "df.loc[df['Gender'] == ' ', 'Gender'].sum()"
   ]
  },
  {
   "cell_type": "code",
   "execution_count": 100,
   "id": "de7e1686",
   "metadata": {},
   "outputs": [
    {
     "data": {
      "text/plain": [
       "0"
      ]
     },
     "execution_count": 100,
     "metadata": {},
     "output_type": "execute_result"
    }
   ],
   "source": [
    "df['Gender'].isna().sum()"
   ]
  },
  {
   "cell_type": "markdown",
   "id": "2e962da2",
   "metadata": {},
   "source": [
    "`Gender` is thus cleaned."
   ]
  },
  {
   "cell_type": "markdown",
   "id": "2adffd32",
   "metadata": {},
   "source": [
    "### Occupation:"
   ]
  },
  {
   "cell_type": "code",
   "execution_count": 101,
   "id": "f2b25042",
   "metadata": {
    "scrolled": true
   },
   "outputs": [
    {
     "data": {
      "text/plain": [
       "array(['Careers adviser', 'Public relations account executive',\n",
       "       'Meteorologist', ..., 'Retired Architectural technologist',\n",
       "       'Retired Geographical information systems officer',\n",
       "       'Retired Physiological scientist'], dtype=object)"
      ]
     },
     "execution_count": 101,
     "metadata": {},
     "output_type": "execute_result"
    }
   ],
   "source": [
    "df['Occupation'].unique()"
   ]
  },
  {
   "cell_type": "code",
   "execution_count": 102,
   "id": "443ec5a2",
   "metadata": {},
   "outputs": [
    {
     "data": {
      "text/plain": [
       "Student                                 1934\n",
       "University Student                       651\n",
       "Unemployed                               608\n",
       "Child                                    594\n",
       "Volunteer coordinator                     18\n",
       "                                        ... \n",
       "Retired Economist                          1\n",
       "Retired Research scientist (maths)         1\n",
       "Retired Conservation officer, nature       1\n",
       "Retired Merchant navy officer              1\n",
       "Retired Physiological scientist            1\n",
       "Name: Occupation, Length: 1098, dtype: int64"
      ]
     },
     "execution_count": 102,
     "metadata": {},
     "output_type": "execute_result"
    }
   ],
   "source": [
    "df['Occupation'].value_counts()"
   ]
  },
  {
   "cell_type": "code",
   "execution_count": 103,
   "id": "1bcafc18",
   "metadata": {
    "scrolled": true
   },
   "outputs": [
    {
     "data": {
      "text/html": [
       "<div>\n",
       "<style scoped>\n",
       "    .dataframe tbody tr th:only-of-type {\n",
       "        vertical-align: middle;\n",
       "    }\n",
       "\n",
       "    .dataframe tbody tr th {\n",
       "        vertical-align: top;\n",
       "    }\n",
       "\n",
       "    .dataframe thead th {\n",
       "        text-align: right;\n",
       "    }\n",
       "</style>\n",
       "<table border=\"1\" class=\"dataframe\">\n",
       "  <thead>\n",
       "    <tr style=\"text-align: right;\">\n",
       "      <th></th>\n",
       "      <th>House Number</th>\n",
       "      <th>Street</th>\n",
       "      <th>First Name</th>\n",
       "      <th>Last Name</th>\n",
       "      <th>Age</th>\n",
       "      <th>Relationship to Head of House</th>\n",
       "      <th>Marital Status</th>\n",
       "      <th>Gender</th>\n",
       "      <th>Occupation</th>\n",
       "      <th>Infirmity</th>\n",
       "      <th>Religion</th>\n",
       "    </tr>\n",
       "  </thead>\n",
       "  <tbody>\n",
       "    <tr>\n",
       "      <th>5664</th>\n",
       "      <td>6</td>\n",
       "      <td>Newcastle Pine</td>\n",
       "      <td>Timothy</td>\n",
       "      <td>Yates</td>\n",
       "      <td>25</td>\n",
       "      <td>Head</td>\n",
       "      <td>Single</td>\n",
       "      <td>Male</td>\n",
       "      <td></td>\n",
       "      <td>None</td>\n",
       "      <td>None</td>\n",
       "    </tr>\n",
       "    <tr>\n",
       "      <th>9610</th>\n",
       "      <td>1</td>\n",
       "      <td>Lyons Abbey</td>\n",
       "      <td>Beverley</td>\n",
       "      <td>Evans</td>\n",
       "      <td>39</td>\n",
       "      <td>Daughter</td>\n",
       "      <td>Single</td>\n",
       "      <td>Female</td>\n",
       "      <td></td>\n",
       "      <td>None</td>\n",
       "      <td>None</td>\n",
       "    </tr>\n",
       "  </tbody>\n",
       "</table>\n",
       "</div>"
      ],
      "text/plain": [
       "      House Number          Street First Name Last Name  Age  \\\n",
       "5664             6  Newcastle Pine    Timothy     Yates   25   \n",
       "9610             1     Lyons Abbey   Beverley     Evans   39   \n",
       "\n",
       "     Relationship to Head of House Marital Status  Gender Occupation  \\\n",
       "5664                          Head         Single    Male              \n",
       "9610                      Daughter         Single  Female              \n",
       "\n",
       "     Infirmity Religion  \n",
       "5664      None     None  \n",
       "9610      None     None  "
      ]
     },
     "execution_count": 103,
     "metadata": {},
     "output_type": "execute_result"
    }
   ],
   "source": [
    "df.loc[df['Occupation']==' ']"
   ]
  },
  {
   "cell_type": "markdown",
   "id": "36c71d3a",
   "metadata": {},
   "source": [
    "For those where the Occupation is blank, this could be classified as `Unknown` as we do not know the Occupation."
   ]
  },
  {
   "cell_type": "code",
   "execution_count": 104,
   "id": "ed5e0a94",
   "metadata": {},
   "outputs": [],
   "source": [
    "df.loc[df['Occupation']==' ', 'Occupation'] = 'Unknown'"
   ]
  },
  {
   "cell_type": "code",
   "execution_count": 105,
   "id": "81726c9c",
   "metadata": {},
   "outputs": [
    {
     "data": {
      "text/plain": [
       "0"
      ]
     },
     "execution_count": 105,
     "metadata": {},
     "output_type": "execute_result"
    }
   ],
   "source": [
    "df.loc[df['Occupation']==' ', 'Occupation'].sum()"
   ]
  },
  {
   "cell_type": "markdown",
   "id": "d3c8745e",
   "metadata": {},
   "source": [
    "#### Observations: \n",
    "\n",
    "The individual occupations are somewhat irrelevant to our analysis as what we really need is the number of those `employed`, `unemployed`, `Student`, `Retired` and `Child`. So I either create a column with the heading `Employment status` and populate using value counts from `Occupation` or rename `Occupation` and clean appropraitely. \n",
    "\n",
    "A different column with `Employment Status` is much more appropraite. This would be done using `numpy`. All individual occupations without 'Retired' as a prefix or as part of the name is classified as `Employed`. Those with `Retired` as a prefix, suffix or as a part of the name is `Retired`, `Child` remains as `Child`, `University Student` and `Student` remains too."
   ]
  },
  {
   "cell_type": "code",
   "execution_count": 106,
   "id": "a68fab03",
   "metadata": {},
   "outputs": [
    {
     "data": {
      "text/plain": [
       "5067"
      ]
     },
     "execution_count": 106,
     "metadata": {},
     "output_type": "execute_result"
    }
   ],
   "source": [
    "# df.loc[df['Occupation'].str.contains('Retired'), 'Occupation'].count()\n",
    "\n",
    "\n",
    "df.loc[~(df['Occupation'].str.contains('Student')) & \n",
    "       ~(df['Occupation'].str.contains('Retired')) &\n",
    "       ~(df['Occupation'].str.contains('University Student')) &\n",
    "       ~(df['Occupation'].str.contains('PhD')) &\n",
    "       ~(df['Occupation'].str.contains('Unemployed')) &\n",
    "        ~(df['Occupation'].str.contains('Child')), 'Occupation'].count()"
   ]
  },
  {
   "cell_type": "code",
   "execution_count": 107,
   "id": "1728cb53",
   "metadata": {},
   "outputs": [
    {
     "data": {
      "text/plain": [
       "17"
      ]
     },
     "execution_count": 107,
     "metadata": {},
     "output_type": "execute_result"
    }
   ],
   "source": [
    "df.loc[(df['Occupation'].str.contains('Child psychotherapist')) |\n",
    "       (df['Occupation'].str.contains('Psychotherapist, child')), \n",
    "       'Occupation'].count()"
   ]
  },
  {
   "cell_type": "code",
   "execution_count": 108,
   "id": "1b41ba4d",
   "metadata": {},
   "outputs": [],
   "source": [
    "# np.where(condition, value if condition\n",
    "# is true, value if condition is false)\n",
    "\n",
    "df['Employment Status'] = np.where(df['Occupation'].str.contains('Unemployed', case=False), 'Unemployed', 'Employed')\n",
    "df['Employment Status'] = np.where(df['Occupation'].str.contains('Unknown', case=False), 'Unemployed', 'Employed')\n",
    "df['Employment Status'] = np.where(df['Occupation'].str.contains('student', case=False), \"Student\", df['Employment Status'])\n",
    "df['Employment Status'] = np.where(df['Occupation'].str.contains('phd', case=False), \"University Student\", df['Employment Status'])\n",
    "df['Employment Status'] = np.where((df['Occupation'].str.contains('university', case=False)) & (df['Employment Status']=='Student') , \"University Student\", df['Employment Status'])\n",
    "df['Employment Status'] = np.where(df['Occupation']=='Child', \"Child\", df['Employment Status'])\n",
    "df['Employment Status'] = np.where(df['Occupation'].str.contains('retired', case=False), \"Retired\", df['Employment Status'])"
   ]
  },
  {
   "cell_type": "code",
   "execution_count": 109,
   "id": "e3b910a2",
   "metadata": {},
   "outputs": [
    {
     "data": {
      "text/plain": [
       "array(['Employed', 'University Student', 'Student', 'Retired', 'Child',\n",
       "       'Unemployed'], dtype=object)"
      ]
     },
     "execution_count": 109,
     "metadata": {},
     "output_type": "execute_result"
    }
   ],
   "source": [
    "df['Employment Status'].unique()"
   ]
  },
  {
   "cell_type": "code",
   "execution_count": 110,
   "id": "8e884b59",
   "metadata": {
    "scrolled": true
   },
   "outputs": [
    {
     "data": {
      "text/plain": [
       "Employed              5680\n",
       "Student               1934\n",
       "Retired                771\n",
       "University Student     668\n",
       "Child                  594\n",
       "Unemployed               2\n",
       "Name: Employment Status, dtype: int64"
      ]
     },
     "execution_count": 110,
     "metadata": {},
     "output_type": "execute_result"
    }
   ],
   "source": [
    "df['Employment Status'].value_counts()"
   ]
  },
  {
   "cell_type": "code",
   "execution_count": null,
   "id": "d4d16bd1",
   "metadata": {},
   "outputs": [],
   "source": []
  },
  {
   "cell_type": "markdown",
   "id": "b97066f9",
   "metadata": {},
   "source": [
    "`Employment Status` column is thus created and will assit us in our analysis\n"
   ]
  },
  {
   "cell_type": "markdown",
   "id": "9e2787f8",
   "metadata": {},
   "source": [
    "### Infirmity:"
   ]
  },
  {
   "cell_type": "code",
   "execution_count": 111,
   "id": "33423c9b",
   "metadata": {},
   "outputs": [
    {
     "data": {
      "text/plain": [
       "array(['None', 'Deaf', 'Physical Disability', 'Unknown Infection', ' ',\n",
       "       'Disabled', 'Mental Disability', 'Blind'], dtype=object)"
      ]
     },
     "execution_count": 111,
     "metadata": {},
     "output_type": "execute_result"
    }
   ],
   "source": [
    "df['Infirmity'].unique()"
   ]
  },
  {
   "cell_type": "code",
   "execution_count": 112,
   "id": "f3699d8d",
   "metadata": {},
   "outputs": [
    {
     "data": {
      "text/plain": [
       "0"
      ]
     },
     "execution_count": 112,
     "metadata": {},
     "output_type": "execute_result"
    }
   ],
   "source": [
    "df['Infirmity'].isna().sum()"
   ]
  },
  {
   "cell_type": "markdown",
   "id": "1ca59dc3",
   "metadata": {},
   "source": [
    "#### Observations:\n",
    "There are empty entries and None entires in the data."
   ]
  },
  {
   "cell_type": "code",
   "execution_count": 113,
   "id": "a3e74cad",
   "metadata": {},
   "outputs": [
    {
     "data": {
      "text/html": [
       "<div>\n",
       "<style scoped>\n",
       "    .dataframe tbody tr th:only-of-type {\n",
       "        vertical-align: middle;\n",
       "    }\n",
       "\n",
       "    .dataframe tbody tr th {\n",
       "        vertical-align: top;\n",
       "    }\n",
       "\n",
       "    .dataframe thead th {\n",
       "        text-align: right;\n",
       "    }\n",
       "</style>\n",
       "<table border=\"1\" class=\"dataframe\">\n",
       "  <thead>\n",
       "    <tr style=\"text-align: right;\">\n",
       "      <th></th>\n",
       "      <th>House Number</th>\n",
       "      <th>Street</th>\n",
       "      <th>First Name</th>\n",
       "      <th>Last Name</th>\n",
       "      <th>Age</th>\n",
       "      <th>Relationship to Head of House</th>\n",
       "      <th>Marital Status</th>\n",
       "      <th>Gender</th>\n",
       "      <th>Occupation</th>\n",
       "      <th>Infirmity</th>\n",
       "      <th>Religion</th>\n",
       "      <th>Employment Status</th>\n",
       "    </tr>\n",
       "  </thead>\n",
       "  <tbody>\n",
       "    <tr>\n",
       "      <th>393</th>\n",
       "      <td>64</td>\n",
       "      <td>West Road</td>\n",
       "      <td>Ruth</td>\n",
       "      <td>Mills</td>\n",
       "      <td>35</td>\n",
       "      <td>Daughter</td>\n",
       "      <td>Single</td>\n",
       "      <td>Female</td>\n",
       "      <td>Investment analyst</td>\n",
       "      <td></td>\n",
       "      <td>Methodist</td>\n",
       "      <td>Employed</td>\n",
       "    </tr>\n",
       "    <tr>\n",
       "      <th>1412</th>\n",
       "      <td>29</td>\n",
       "      <td>Spider Avenue</td>\n",
       "      <td>Alexandra</td>\n",
       "      <td>Thompson</td>\n",
       "      <td>34</td>\n",
       "      <td>Wife</td>\n",
       "      <td>Married</td>\n",
       "      <td>Female</td>\n",
       "      <td>Therapist, art</td>\n",
       "      <td></td>\n",
       "      <td>None</td>\n",
       "      <td>Employed</td>\n",
       "    </tr>\n",
       "    <tr>\n",
       "      <th>1748</th>\n",
       "      <td>12</td>\n",
       "      <td>Ball Rest</td>\n",
       "      <td>Sharon</td>\n",
       "      <td>Chapman</td>\n",
       "      <td>24</td>\n",
       "      <td>None</td>\n",
       "      <td>Single</td>\n",
       "      <td>Female</td>\n",
       "      <td>Presenter, broadcasting</td>\n",
       "      <td></td>\n",
       "      <td>Catholic</td>\n",
       "      <td>Employed</td>\n",
       "    </tr>\n",
       "    <tr>\n",
       "      <th>2964</th>\n",
       "      <td>93</td>\n",
       "      <td>Barrett Circles</td>\n",
       "      <td>Josephine</td>\n",
       "      <td>Baxter</td>\n",
       "      <td>11</td>\n",
       "      <td>Daughter</td>\n",
       "      <td>Minor</td>\n",
       "      <td>Female</td>\n",
       "      <td>Student</td>\n",
       "      <td></td>\n",
       "      <td>NaN</td>\n",
       "      <td>Student</td>\n",
       "    </tr>\n",
       "    <tr>\n",
       "      <th>3130</th>\n",
       "      <td>124</td>\n",
       "      <td>Barrett Circles</td>\n",
       "      <td>Dylan</td>\n",
       "      <td>Mason</td>\n",
       "      <td>22</td>\n",
       "      <td>Son</td>\n",
       "      <td>Single</td>\n",
       "      <td>Male</td>\n",
       "      <td>Games developer</td>\n",
       "      <td></td>\n",
       "      <td>None</td>\n",
       "      <td>Employed</td>\n",
       "    </tr>\n",
       "    <tr>\n",
       "      <th>4192</th>\n",
       "      <td>26</td>\n",
       "      <td>Rogers Field</td>\n",
       "      <td>Laura</td>\n",
       "      <td>King</td>\n",
       "      <td>47</td>\n",
       "      <td>Head</td>\n",
       "      <td>Single</td>\n",
       "      <td>Female</td>\n",
       "      <td>Archaeologist</td>\n",
       "      <td></td>\n",
       "      <td>Christian</td>\n",
       "      <td>Employed</td>\n",
       "    </tr>\n",
       "    <tr>\n",
       "      <th>6464</th>\n",
       "      <td>16</td>\n",
       "      <td>Roberts Crescent</td>\n",
       "      <td>Shane</td>\n",
       "      <td>Taylor</td>\n",
       "      <td>60</td>\n",
       "      <td>Partner</td>\n",
       "      <td>Single</td>\n",
       "      <td>Male</td>\n",
       "      <td>Museum/gallery curator</td>\n",
       "      <td></td>\n",
       "      <td>Methodist</td>\n",
       "      <td>Employed</td>\n",
       "    </tr>\n",
       "    <tr>\n",
       "      <th>6876</th>\n",
       "      <td>3</td>\n",
       "      <td>Ring Street</td>\n",
       "      <td>Conor</td>\n",
       "      <td>Peters</td>\n",
       "      <td>68</td>\n",
       "      <td>Head</td>\n",
       "      <td>Widowed</td>\n",
       "      <td>Male</td>\n",
       "      <td>Retired Secretary/administrator</td>\n",
       "      <td></td>\n",
       "      <td>Christian</td>\n",
       "      <td>Retired</td>\n",
       "    </tr>\n",
       "    <tr>\n",
       "      <th>6908</th>\n",
       "      <td>10</td>\n",
       "      <td>Ring Street</td>\n",
       "      <td>Sam</td>\n",
       "      <td>Roberts</td>\n",
       "      <td>9</td>\n",
       "      <td>Son</td>\n",
       "      <td>Minor</td>\n",
       "      <td>Male</td>\n",
       "      <td>Student</td>\n",
       "      <td></td>\n",
       "      <td>NaN</td>\n",
       "      <td>Student</td>\n",
       "    </tr>\n",
       "    <tr>\n",
       "      <th>7288</th>\n",
       "      <td>11</td>\n",
       "      <td>Pendragon Avenue</td>\n",
       "      <td>Beth</td>\n",
       "      <td>Smith</td>\n",
       "      <td>28</td>\n",
       "      <td>Lodger</td>\n",
       "      <td>Single</td>\n",
       "      <td>Female</td>\n",
       "      <td>Public relations officer</td>\n",
       "      <td></td>\n",
       "      <td>None</td>\n",
       "      <td>Employed</td>\n",
       "    </tr>\n",
       "    <tr>\n",
       "      <th>8003</th>\n",
       "      <td>125</td>\n",
       "      <td>Canary Glen</td>\n",
       "      <td>Nathan</td>\n",
       "      <td>Ellis</td>\n",
       "      <td>17</td>\n",
       "      <td>Son</td>\n",
       "      <td>Minor</td>\n",
       "      <td>Male</td>\n",
       "      <td>Student</td>\n",
       "      <td></td>\n",
       "      <td>NaN</td>\n",
       "      <td>Student</td>\n",
       "    </tr>\n",
       "    <tr>\n",
       "      <th>8090</th>\n",
       "      <td>152</td>\n",
       "      <td>Canary Glen</td>\n",
       "      <td>Mohammed</td>\n",
       "      <td>Lambert</td>\n",
       "      <td>12</td>\n",
       "      <td>Son</td>\n",
       "      <td>Minor</td>\n",
       "      <td>Male</td>\n",
       "      <td>Student</td>\n",
       "      <td></td>\n",
       "      <td>NaN</td>\n",
       "      <td>Student</td>\n",
       "    </tr>\n",
       "    <tr>\n",
       "      <th>8423</th>\n",
       "      <td>70</td>\n",
       "      <td>Wales Parks</td>\n",
       "      <td>Amelia</td>\n",
       "      <td>Lee-Gregory</td>\n",
       "      <td>14</td>\n",
       "      <td>Daughter</td>\n",
       "      <td>Minor</td>\n",
       "      <td>Female</td>\n",
       "      <td>Student</td>\n",
       "      <td></td>\n",
       "      <td>NaN</td>\n",
       "      <td>Student</td>\n",
       "    </tr>\n",
       "    <tr>\n",
       "      <th>8567</th>\n",
       "      <td>108</td>\n",
       "      <td>Wales Parks</td>\n",
       "      <td>Glenn</td>\n",
       "      <td>Chan</td>\n",
       "      <td>12</td>\n",
       "      <td>Son</td>\n",
       "      <td>Minor</td>\n",
       "      <td>Male</td>\n",
       "      <td>Student</td>\n",
       "      <td></td>\n",
       "      <td>NaN</td>\n",
       "      <td>Student</td>\n",
       "    </tr>\n",
       "    <tr>\n",
       "      <th>8657</th>\n",
       "      <td>133</td>\n",
       "      <td>Wales Parks</td>\n",
       "      <td>Marc</td>\n",
       "      <td>Cox</td>\n",
       "      <td>24</td>\n",
       "      <td>None</td>\n",
       "      <td>Single</td>\n",
       "      <td>Male</td>\n",
       "      <td>Surveyor, land/geomatics</td>\n",
       "      <td></td>\n",
       "      <td>None</td>\n",
       "      <td>Employed</td>\n",
       "    </tr>\n",
       "    <tr>\n",
       "      <th>9095</th>\n",
       "      <td>32</td>\n",
       "      <td>Stone Extensions</td>\n",
       "      <td>Clifford</td>\n",
       "      <td>Rowley</td>\n",
       "      <td>42</td>\n",
       "      <td>Son</td>\n",
       "      <td>Divorced</td>\n",
       "      <td>Male</td>\n",
       "      <td>Scientist, research (physical sciences)</td>\n",
       "      <td></td>\n",
       "      <td>None</td>\n",
       "      <td>Employed</td>\n",
       "    </tr>\n",
       "  </tbody>\n",
       "</table>\n",
       "</div>"
      ],
      "text/plain": [
       "      House Number            Street First Name    Last Name  Age  \\\n",
       "393             64         West Road       Ruth        Mills   35   \n",
       "1412            29     Spider Avenue  Alexandra     Thompson   34   \n",
       "1748            12         Ball Rest     Sharon      Chapman   24   \n",
       "2964            93   Barrett Circles  Josephine       Baxter   11   \n",
       "3130           124   Barrett Circles      Dylan        Mason   22   \n",
       "4192            26      Rogers Field      Laura         King   47   \n",
       "6464            16  Roberts Crescent      Shane       Taylor   60   \n",
       "6876             3       Ring Street      Conor       Peters   68   \n",
       "6908            10       Ring Street        Sam      Roberts    9   \n",
       "7288            11  Pendragon Avenue       Beth        Smith   28   \n",
       "8003           125       Canary Glen     Nathan        Ellis   17   \n",
       "8090           152       Canary Glen   Mohammed      Lambert   12   \n",
       "8423            70       Wales Parks     Amelia  Lee-Gregory   14   \n",
       "8567           108       Wales Parks      Glenn         Chan   12   \n",
       "8657           133       Wales Parks       Marc          Cox   24   \n",
       "9095            32  Stone Extensions   Clifford       Rowley   42   \n",
       "\n",
       "     Relationship to Head of House Marital Status  Gender  \\\n",
       "393                       Daughter         Single  Female   \n",
       "1412                          Wife        Married  Female   \n",
       "1748                          None         Single  Female   \n",
       "2964                      Daughter          Minor  Female   \n",
       "3130                           Son         Single    Male   \n",
       "4192                          Head         Single  Female   \n",
       "6464                       Partner         Single    Male   \n",
       "6876                          Head        Widowed    Male   \n",
       "6908                           Son          Minor    Male   \n",
       "7288                        Lodger         Single  Female   \n",
       "8003                           Son          Minor    Male   \n",
       "8090                           Son          Minor    Male   \n",
       "8423                      Daughter          Minor  Female   \n",
       "8567                           Son          Minor    Male   \n",
       "8657                          None         Single    Male   \n",
       "9095                           Son       Divorced    Male   \n",
       "\n",
       "                                   Occupation Infirmity   Religion  \\\n",
       "393                        Investment analyst            Methodist   \n",
       "1412                           Therapist, art                 None   \n",
       "1748                  Presenter, broadcasting             Catholic   \n",
       "2964                                  Student                  NaN   \n",
       "3130                          Games developer                 None   \n",
       "4192                            Archaeologist            Christian   \n",
       "6464                   Museum/gallery curator            Methodist   \n",
       "6876          Retired Secretary/administrator            Christian   \n",
       "6908                                  Student                  NaN   \n",
       "7288                 Public relations officer                 None   \n",
       "8003                                  Student                  NaN   \n",
       "8090                                  Student                  NaN   \n",
       "8423                                  Student                  NaN   \n",
       "8567                                  Student                  NaN   \n",
       "8657                 Surveyor, land/geomatics                 None   \n",
       "9095  Scientist, research (physical sciences)                 None   \n",
       "\n",
       "     Employment Status  \n",
       "393           Employed  \n",
       "1412          Employed  \n",
       "1748          Employed  \n",
       "2964           Student  \n",
       "3130          Employed  \n",
       "4192          Employed  \n",
       "6464          Employed  \n",
       "6876           Retired  \n",
       "6908           Student  \n",
       "7288          Employed  \n",
       "8003           Student  \n",
       "8090           Student  \n",
       "8423           Student  \n",
       "8567           Student  \n",
       "8657          Employed  \n",
       "9095          Employed  "
      ]
     },
     "execution_count": 113,
     "metadata": {},
     "output_type": "execute_result"
    }
   ],
   "source": [
    "df.loc[df['Infirmity'] == ' ']"
   ]
  },
  {
   "cell_type": "code",
   "execution_count": 114,
   "id": "015b8088",
   "metadata": {},
   "outputs": [
    {
     "data": {
      "text/plain": [
       "None    9557\n",
       "Name: Infirmity, dtype: int64"
      ]
     },
     "execution_count": 114,
     "metadata": {},
     "output_type": "execute_result"
    }
   ],
   "source": [
    "df.loc[df['Infirmity'] == 'None', 'Infirmity'].value_counts()"
   ]
  },
  {
   "cell_type": "markdown",
   "id": "ff02305d",
   "metadata": {},
   "source": [
    "It is safe to assume that those with empty and `None` entries in infirmity have no Illnesses or `Disability` at all. Thus it shall be cleaned as such."
   ]
  },
  {
   "cell_type": "code",
   "execution_count": 115,
   "id": "7ce4506c",
   "metadata": {},
   "outputs": [],
   "source": [
    "df.loc[(df['Infirmity'] == 'None') | (df['Infirmity'] == ' '), 'Infirmity'] = 'No Disability'"
   ]
  },
  {
   "cell_type": "code",
   "execution_count": 116,
   "id": "3f74db24",
   "metadata": {},
   "outputs": [
    {
     "data": {
      "text/plain": [
       "array(['No Disability', 'Deaf', 'Physical Disability',\n",
       "       'Unknown Infection', 'Disabled', 'Mental Disability', 'Blind'],\n",
       "      dtype=object)"
      ]
     },
     "execution_count": 116,
     "metadata": {},
     "output_type": "execute_result"
    }
   ],
   "source": [
    "df['Infirmity'].unique()"
   ]
  },
  {
   "cell_type": "code",
   "execution_count": 117,
   "id": "f1b9b35f",
   "metadata": {},
   "outputs": [
    {
     "data": {
      "text/plain": [
       "No Disability          9573\n",
       "Physical Disability      24\n",
       "Disabled                 14\n",
       "Deaf                     12\n",
       "Blind                    12\n",
       "Unknown Infection         7\n",
       "Mental Disability         7\n",
       "Name: Infirmity, dtype: int64"
      ]
     },
     "execution_count": 117,
     "metadata": {},
     "output_type": "execute_result"
    }
   ],
   "source": [
    "df['Infirmity'].value_counts()"
   ]
  },
  {
   "cell_type": "markdown",
   "id": "504f522c",
   "metadata": {},
   "source": [
    "`Infirmity` is thus cleaned."
   ]
  },
  {
   "cell_type": "markdown",
   "id": "b5b1a87d",
   "metadata": {},
   "source": [
    "### Religion: "
   ]
  },
  {
   "cell_type": "code",
   "execution_count": 118,
   "id": "f0eeb73d",
   "metadata": {},
   "outputs": [
    {
     "data": {
      "text/plain": [
       "array(['Catholic', 'Christian', 'None', nan, 'Jewish', 'Methodist',\n",
       "       'Sikh', 'Muslim', 'Orthodoxy', 'Agnostic', 'Private', 'Quaker',\n",
       "       ' ', 'Pagan'], dtype=object)"
      ]
     },
     "execution_count": 118,
     "metadata": {},
     "output_type": "execute_result"
    }
   ],
   "source": [
    "df['Religion'].unique()"
   ]
  },
  {
   "cell_type": "code",
   "execution_count": 119,
   "id": "5d82b486",
   "metadata": {},
   "outputs": [
    {
     "data": {
      "text/plain": [
       "None         3068\n",
       "Christian    2192\n",
       "Catholic      987\n",
       "Methodist     659\n",
       "Muslim        152\n",
       "Sikh           68\n",
       "Jewish         53\n",
       "                4\n",
       "Quaker          2\n",
       "Orthodoxy       1\n",
       "Agnostic        1\n",
       "Private         1\n",
       "Pagan           1\n",
       "Name: Religion, dtype: int64"
      ]
     },
     "execution_count": 119,
     "metadata": {},
     "output_type": "execute_result"
    }
   ],
   "source": [
    "df['Religion'].value_counts()"
   ]
  },
  {
   "cell_type": "code",
   "execution_count": 120,
   "id": "b02b7201",
   "metadata": {},
   "outputs": [
    {
     "data": {
      "text/plain": [
       "2460"
      ]
     },
     "execution_count": 120,
     "metadata": {},
     "output_type": "execute_result"
    }
   ],
   "source": [
    "df['Religion'].isna().sum()"
   ]
  },
  {
   "cell_type": "markdown",
   "id": "703e6ff8",
   "metadata": {},
   "source": [
    "#### Observations:\n",
    "\n",
    "If Religion is `None` and Age is greater than 18, they may be `Atheist` or `Agnostic`. However, since there is no further data to determine their lack of believe in the existence of God, ie \"Atheism\", it may be safe to categorise them as `Agnostic`. \n",
    "\n",
    "Further ponder into the meaning of the word `Agnostic` suggests that `Agnostics` assert that it is impossible to know how the universe was created and whether or not divine beings exist. \n",
    "\n",
    "Because we don't have enough data to assert the religion of People in this category, It is best to categorise them as `No religion` or `Irreligious`\n",
    "\n",
    "References:\n",
    "__[Agnostic vs Atheist](https://www.dictionary.com/e/atheism-agnosticism/)__"
   ]
  },
  {
   "cell_type": "code",
   "execution_count": 121,
   "id": "a4199f79",
   "metadata": {},
   "outputs": [],
   "source": [
    "df.loc[(df['Religion'] == 'None') & (df['Age'] > 18), 'Religion'] = 'No Religion'"
   ]
  },
  {
   "cell_type": "code",
   "execution_count": 122,
   "id": "151dac55",
   "metadata": {},
   "outputs": [
    {
     "data": {
      "text/plain": [
       "No Religion    3018\n",
       "Christian      2192\n",
       "Catholic        987\n",
       "Methodist       659\n",
       "Muslim          152\n",
       "Sikh             68\n",
       "Jewish           53\n",
       "None             50\n",
       "                  4\n",
       "Quaker            2\n",
       "Orthodoxy         1\n",
       "Agnostic          1\n",
       "Private           1\n",
       "Pagan             1\n",
       "Name: Religion, dtype: int64"
      ]
     },
     "execution_count": 122,
     "metadata": {},
     "output_type": "execute_result"
    }
   ],
   "source": [
    "df['Religion'].value_counts()"
   ]
  },
  {
   "cell_type": "markdown",
   "id": "7688f642",
   "metadata": {},
   "source": [
    "For Age less than 18, it is safe is attribute their parents religion to that group. So if Religion is `None`, Age is less than 18, Relationship to Head of House is `Child` , One might want to check the Street House Number, surnames and the relationships to head of house is `Head`, we might want to assume that the kids would inherit their parents' religions. However for `2400` entries, filtering by these variables would take a lot of time and might affect the quality of the data."
   ]
  },
  {
   "cell_type": "code",
   "execution_count": 123,
   "id": "2b2a8992",
   "metadata": {},
   "outputs": [
    {
     "data": {
      "text/plain": [
       "2394"
      ]
     },
     "execution_count": 123,
     "metadata": {},
     "output_type": "execute_result"
    }
   ],
   "source": [
    "((df['Religion'].isna()) & (df['Age'] < 18)).sum()"
   ]
  },
  {
   "cell_type": "code",
   "execution_count": 124,
   "id": "e3bd4495",
   "metadata": {},
   "outputs": [
    {
     "data": {
      "text/html": [
       "<div>\n",
       "<style scoped>\n",
       "    .dataframe tbody tr th:only-of-type {\n",
       "        vertical-align: middle;\n",
       "    }\n",
       "\n",
       "    .dataframe tbody tr th {\n",
       "        vertical-align: top;\n",
       "    }\n",
       "\n",
       "    .dataframe thead th {\n",
       "        text-align: right;\n",
       "    }\n",
       "</style>\n",
       "<table border=\"1\" class=\"dataframe\">\n",
       "  <thead>\n",
       "    <tr style=\"text-align: right;\">\n",
       "      <th></th>\n",
       "      <th>House Number</th>\n",
       "      <th>Street</th>\n",
       "      <th>First Name</th>\n",
       "      <th>Last Name</th>\n",
       "      <th>Age</th>\n",
       "      <th>Relationship to Head of House</th>\n",
       "      <th>Marital Status</th>\n",
       "      <th>Gender</th>\n",
       "      <th>Occupation</th>\n",
       "      <th>Infirmity</th>\n",
       "      <th>Religion</th>\n",
       "      <th>Employment Status</th>\n",
       "    </tr>\n",
       "  </thead>\n",
       "  <tbody>\n",
       "    <tr>\n",
       "      <th>12</th>\n",
       "      <td>7</td>\n",
       "      <td>Orryjar Lane</td>\n",
       "      <td>Claire</td>\n",
       "      <td>Young</td>\n",
       "      <td>13</td>\n",
       "      <td>Daughter</td>\n",
       "      <td>Minor</td>\n",
       "      <td>Female</td>\n",
       "      <td>Student</td>\n",
       "      <td>No Disability</td>\n",
       "      <td>NaN</td>\n",
       "      <td>Student</td>\n",
       "    </tr>\n",
       "    <tr>\n",
       "      <th>13</th>\n",
       "      <td>7</td>\n",
       "      <td>Orryjar Lane</td>\n",
       "      <td>Ellie</td>\n",
       "      <td>Young</td>\n",
       "      <td>11</td>\n",
       "      <td>Daughter</td>\n",
       "      <td>Minor</td>\n",
       "      <td>Female</td>\n",
       "      <td>Student</td>\n",
       "      <td>No Disability</td>\n",
       "      <td>NaN</td>\n",
       "      <td>Student</td>\n",
       "    </tr>\n",
       "    <tr>\n",
       "      <th>14</th>\n",
       "      <td>7</td>\n",
       "      <td>Orryjar Lane</td>\n",
       "      <td>Rhys</td>\n",
       "      <td>Young</td>\n",
       "      <td>9</td>\n",
       "      <td>Son</td>\n",
       "      <td>Minor</td>\n",
       "      <td>Male</td>\n",
       "      <td>Student</td>\n",
       "      <td>No Disability</td>\n",
       "      <td>NaN</td>\n",
       "      <td>Student</td>\n",
       "    </tr>\n",
       "    <tr>\n",
       "      <th>42</th>\n",
       "      <td>19</td>\n",
       "      <td>Orryjar Lane</td>\n",
       "      <td>Annette</td>\n",
       "      <td>Khan</td>\n",
       "      <td>14</td>\n",
       "      <td>Daughter</td>\n",
       "      <td>Minor</td>\n",
       "      <td>Female</td>\n",
       "      <td>Student</td>\n",
       "      <td>No Disability</td>\n",
       "      <td>NaN</td>\n",
       "      <td>Student</td>\n",
       "    </tr>\n",
       "    <tr>\n",
       "      <th>44</th>\n",
       "      <td>20</td>\n",
       "      <td>Orryjar Lane</td>\n",
       "      <td>Joseph</td>\n",
       "      <td>Fox</td>\n",
       "      <td>16</td>\n",
       "      <td>Son</td>\n",
       "      <td>Minor</td>\n",
       "      <td>Male</td>\n",
       "      <td>Student</td>\n",
       "      <td>No Disability</td>\n",
       "      <td>NaN</td>\n",
       "      <td>Student</td>\n",
       "    </tr>\n",
       "    <tr>\n",
       "      <th>51</th>\n",
       "      <td>22</td>\n",
       "      <td>Orryjar Lane</td>\n",
       "      <td>Alex</td>\n",
       "      <td>Roberts-Taylor</td>\n",
       "      <td>15</td>\n",
       "      <td>Son</td>\n",
       "      <td>Minor</td>\n",
       "      <td>Male</td>\n",
       "      <td>Student</td>\n",
       "      <td>No Disability</td>\n",
       "      <td>NaN</td>\n",
       "      <td>Student</td>\n",
       "    </tr>\n",
       "    <tr>\n",
       "      <th>57</th>\n",
       "      <td>25</td>\n",
       "      <td>Orryjar Lane</td>\n",
       "      <td>Wayne</td>\n",
       "      <td>Shah</td>\n",
       "      <td>5</td>\n",
       "      <td>Son</td>\n",
       "      <td>Minor</td>\n",
       "      <td>Male</td>\n",
       "      <td>Student</td>\n",
       "      <td>No Disability</td>\n",
       "      <td>NaN</td>\n",
       "      <td>Student</td>\n",
       "    </tr>\n",
       "    <tr>\n",
       "      <th>58</th>\n",
       "      <td>25</td>\n",
       "      <td>Orryjar Lane</td>\n",
       "      <td>Samantha</td>\n",
       "      <td>Shah</td>\n",
       "      <td>2</td>\n",
       "      <td>Daughter</td>\n",
       "      <td>Minor</td>\n",
       "      <td>Female</td>\n",
       "      <td>Child</td>\n",
       "      <td>No Disability</td>\n",
       "      <td>NaN</td>\n",
       "      <td>Child</td>\n",
       "    </tr>\n",
       "    <tr>\n",
       "      <th>59</th>\n",
       "      <td>25</td>\n",
       "      <td>Orryjar Lane</td>\n",
       "      <td>Phillip</td>\n",
       "      <td>Shah</td>\n",
       "      <td>2</td>\n",
       "      <td>Son</td>\n",
       "      <td>Minor</td>\n",
       "      <td>Male</td>\n",
       "      <td>Child</td>\n",
       "      <td>No Disability</td>\n",
       "      <td>NaN</td>\n",
       "      <td>Child</td>\n",
       "    </tr>\n",
       "    <tr>\n",
       "      <th>71</th>\n",
       "      <td>30</td>\n",
       "      <td>Orryjar Lane</td>\n",
       "      <td>Sam</td>\n",
       "      <td>Taylor</td>\n",
       "      <td>13</td>\n",
       "      <td>Son</td>\n",
       "      <td>Minor</td>\n",
       "      <td>Male</td>\n",
       "      <td>Student</td>\n",
       "      <td>No Disability</td>\n",
       "      <td>NaN</td>\n",
       "      <td>Student</td>\n",
       "    </tr>\n",
       "  </tbody>\n",
       "</table>\n",
       "</div>"
      ],
      "text/plain": [
       "    House Number        Street First Name       Last Name  Age  \\\n",
       "12             7  Orryjar Lane     Claire           Young   13   \n",
       "13             7  Orryjar Lane      Ellie           Young   11   \n",
       "14             7  Orryjar Lane       Rhys           Young    9   \n",
       "42            19  Orryjar Lane    Annette            Khan   14   \n",
       "44            20  Orryjar Lane     Joseph             Fox   16   \n",
       "51            22  Orryjar Lane       Alex  Roberts-Taylor   15   \n",
       "57            25  Orryjar Lane      Wayne            Shah    5   \n",
       "58            25  Orryjar Lane   Samantha            Shah    2   \n",
       "59            25  Orryjar Lane    Phillip            Shah    2   \n",
       "71            30  Orryjar Lane        Sam          Taylor   13   \n",
       "\n",
       "   Relationship to Head of House Marital Status  Gender Occupation  \\\n",
       "12                      Daughter          Minor  Female    Student   \n",
       "13                      Daughter          Minor  Female    Student   \n",
       "14                           Son          Minor    Male    Student   \n",
       "42                      Daughter          Minor  Female    Student   \n",
       "44                           Son          Minor    Male    Student   \n",
       "51                           Son          Minor    Male    Student   \n",
       "57                           Son          Minor    Male    Student   \n",
       "58                      Daughter          Minor  Female      Child   \n",
       "59                           Son          Minor    Male      Child   \n",
       "71                           Son          Minor    Male    Student   \n",
       "\n",
       "        Infirmity Religion Employment Status  \n",
       "12  No Disability      NaN           Student  \n",
       "13  No Disability      NaN           Student  \n",
       "14  No Disability      NaN           Student  \n",
       "42  No Disability      NaN           Student  \n",
       "44  No Disability      NaN           Student  \n",
       "51  No Disability      NaN           Student  \n",
       "57  No Disability      NaN           Student  \n",
       "58  No Disability      NaN             Child  \n",
       "59  No Disability      NaN             Child  \n",
       "71  No Disability      NaN           Student  "
      ]
     },
     "execution_count": 124,
     "metadata": {},
     "output_type": "execute_result"
    }
   ],
   "source": [
    "#Check for Age less than 18\n",
    "\n",
    "df.loc[(df['Religion'].isna()) & (df['Age'] < 18)].head(10)"
   ]
  },
  {
   "cell_type": "code",
   "execution_count": 125,
   "id": "d63a340e",
   "metadata": {},
   "outputs": [
    {
     "data": {
      "text/html": [
       "<div>\n",
       "<style scoped>\n",
       "    .dataframe tbody tr th:only-of-type {\n",
       "        vertical-align: middle;\n",
       "    }\n",
       "\n",
       "    .dataframe tbody tr th {\n",
       "        vertical-align: top;\n",
       "    }\n",
       "\n",
       "    .dataframe thead th {\n",
       "        text-align: right;\n",
       "    }\n",
       "</style>\n",
       "<table border=\"1\" class=\"dataframe\">\n",
       "  <thead>\n",
       "    <tr style=\"text-align: right;\">\n",
       "      <th></th>\n",
       "      <th>House Number</th>\n",
       "      <th>Street</th>\n",
       "      <th>First Name</th>\n",
       "      <th>Last Name</th>\n",
       "      <th>Age</th>\n",
       "      <th>Relationship to Head of House</th>\n",
       "      <th>Marital Status</th>\n",
       "      <th>Gender</th>\n",
       "      <th>Occupation</th>\n",
       "      <th>Infirmity</th>\n",
       "      <th>Religion</th>\n",
       "      <th>Employment Status</th>\n",
       "    </tr>\n",
       "  </thead>\n",
       "  <tbody>\n",
       "    <tr>\n",
       "      <th>10</th>\n",
       "      <td>7</td>\n",
       "      <td>Orryjar Lane</td>\n",
       "      <td>Annette</td>\n",
       "      <td>Young</td>\n",
       "      <td>53</td>\n",
       "      <td>Head</td>\n",
       "      <td>Married</td>\n",
       "      <td>Female</td>\n",
       "      <td>Charity officer</td>\n",
       "      <td>No Disability</td>\n",
       "      <td>Christian</td>\n",
       "      <td>Employed</td>\n",
       "    </tr>\n",
       "  </tbody>\n",
       "</table>\n",
       "</div>"
      ],
      "text/plain": [
       "    House Number        Street First Name Last Name  Age  \\\n",
       "10             7  Orryjar Lane    Annette     Young   53   \n",
       "\n",
       "   Relationship to Head of House Marital Status  Gender       Occupation  \\\n",
       "10                          Head        Married  Female  Charity officer   \n",
       "\n",
       "        Infirmity   Religion Employment Status  \n",
       "10  No Disability  Christian          Employed  "
      ]
     },
     "execution_count": 125,
     "metadata": {},
     "output_type": "execute_result"
    }
   ],
   "source": [
    "df.loc[(df['Religion'] == 'Christian') \n",
    "       & (df['Age'] >= 18) \n",
    "       & (df['Last Name'] == 'Young')\n",
    "       & (df['Relationship to Head of House'] == 'Head')\n",
    "      & (df['Street'] == 'Orryjar Lane')] "
   ]
  },
  {
   "cell_type": "markdown",
   "id": "30d4c1c8",
   "metadata": {},
   "source": [
    "if empty values and Age is greater than 18, It is appropraite to categorise those as `No Religion`"
   ]
  },
  {
   "cell_type": "code",
   "execution_count": 126,
   "id": "123a976d",
   "metadata": {},
   "outputs": [
    {
     "data": {
      "text/html": [
       "<div>\n",
       "<style scoped>\n",
       "    .dataframe tbody tr th:only-of-type {\n",
       "        vertical-align: middle;\n",
       "    }\n",
       "\n",
       "    .dataframe tbody tr th {\n",
       "        vertical-align: top;\n",
       "    }\n",
       "\n",
       "    .dataframe thead th {\n",
       "        text-align: right;\n",
       "    }\n",
       "</style>\n",
       "<table border=\"1\" class=\"dataframe\">\n",
       "  <thead>\n",
       "    <tr style=\"text-align: right;\">\n",
       "      <th></th>\n",
       "      <th>House Number</th>\n",
       "      <th>Street</th>\n",
       "      <th>First Name</th>\n",
       "      <th>Last Name</th>\n",
       "      <th>Age</th>\n",
       "      <th>Relationship to Head of House</th>\n",
       "      <th>Marital Status</th>\n",
       "      <th>Gender</th>\n",
       "      <th>Occupation</th>\n",
       "      <th>Infirmity</th>\n",
       "      <th>Religion</th>\n",
       "      <th>Employment Status</th>\n",
       "    </tr>\n",
       "  </thead>\n",
       "  <tbody>\n",
       "    <tr>\n",
       "      <th>0</th>\n",
       "      <td>1</td>\n",
       "      <td>Orryjar Lane</td>\n",
       "      <td>Kieran</td>\n",
       "      <td>Ward</td>\n",
       "      <td>56</td>\n",
       "      <td>Head</td>\n",
       "      <td>Single</td>\n",
       "      <td>Male</td>\n",
       "      <td>Careers adviser</td>\n",
       "      <td>No Disability</td>\n",
       "      <td>Catholic</td>\n",
       "      <td>Employed</td>\n",
       "    </tr>\n",
       "    <tr>\n",
       "      <th>1</th>\n",
       "      <td>1</td>\n",
       "      <td>Orryjar Lane</td>\n",
       "      <td>Abdul</td>\n",
       "      <td>Pickering</td>\n",
       "      <td>43</td>\n",
       "      <td>None</td>\n",
       "      <td>Single</td>\n",
       "      <td>Male</td>\n",
       "      <td>Public relations account executive</td>\n",
       "      <td>No Disability</td>\n",
       "      <td>Christian</td>\n",
       "      <td>Employed</td>\n",
       "    </tr>\n",
       "    <tr>\n",
       "      <th>2</th>\n",
       "      <td>2</td>\n",
       "      <td>Orryjar Lane</td>\n",
       "      <td>Rosemary</td>\n",
       "      <td>Steele</td>\n",
       "      <td>30</td>\n",
       "      <td>Head</td>\n",
       "      <td>Single</td>\n",
       "      <td>Female</td>\n",
       "      <td>Meteorologist</td>\n",
       "      <td>No Disability</td>\n",
       "      <td>Christian</td>\n",
       "      <td>Employed</td>\n",
       "    </tr>\n",
       "    <tr>\n",
       "      <th>3</th>\n",
       "      <td>3</td>\n",
       "      <td>Orryjar Lane</td>\n",
       "      <td>Marilyn</td>\n",
       "      <td>Cooke</td>\n",
       "      <td>53</td>\n",
       "      <td>Head</td>\n",
       "      <td>Single</td>\n",
       "      <td>Female</td>\n",
       "      <td>Jewellery designer</td>\n",
       "      <td>No Disability</td>\n",
       "      <td>Christian</td>\n",
       "      <td>Employed</td>\n",
       "    </tr>\n",
       "    <tr>\n",
       "      <th>4</th>\n",
       "      <td>4</td>\n",
       "      <td>Orryjar Lane</td>\n",
       "      <td>Samantha</td>\n",
       "      <td>Coates</td>\n",
       "      <td>63</td>\n",
       "      <td>Head</td>\n",
       "      <td>Single</td>\n",
       "      <td>Female</td>\n",
       "      <td>Trade mark attorney</td>\n",
       "      <td>No Disability</td>\n",
       "      <td>No Religion</td>\n",
       "      <td>Employed</td>\n",
       "    </tr>\n",
       "  </tbody>\n",
       "</table>\n",
       "</div>"
      ],
      "text/plain": [
       "   House Number        Street First Name  Last Name  Age  \\\n",
       "0             1  Orryjar Lane     Kieran       Ward   56   \n",
       "1             1  Orryjar Lane      Abdul  Pickering   43   \n",
       "2             2  Orryjar Lane   Rosemary     Steele   30   \n",
       "3             3  Orryjar Lane    Marilyn      Cooke   53   \n",
       "4             4  Orryjar Lane   Samantha     Coates   63   \n",
       "\n",
       "  Relationship to Head of House Marital Status  Gender  \\\n",
       "0                          Head         Single    Male   \n",
       "1                          None         Single    Male   \n",
       "2                          Head         Single  Female   \n",
       "3                          Head         Single  Female   \n",
       "4                          Head         Single  Female   \n",
       "\n",
       "                           Occupation      Infirmity     Religion  \\\n",
       "0                     Careers adviser  No Disability     Catholic   \n",
       "1  Public relations account executive  No Disability    Christian   \n",
       "2                       Meteorologist  No Disability    Christian   \n",
       "3                  Jewellery designer  No Disability    Christian   \n",
       "4                 Trade mark attorney  No Disability  No Religion   \n",
       "\n",
       "  Employment Status  \n",
       "0          Employed  \n",
       "1          Employed  \n",
       "2          Employed  \n",
       "3          Employed  \n",
       "4          Employed  "
      ]
     },
     "execution_count": 126,
     "metadata": {},
     "output_type": "execute_result"
    }
   ],
   "source": [
    "df.head()"
   ]
  },
  {
   "cell_type": "markdown",
   "id": "d827c9db",
   "metadata": {},
   "source": [
    "if empty values and Age is greater than 18, It is appropraite to categorise those as `No Religion`"
   ]
  },
  {
   "cell_type": "code",
   "execution_count": 127,
   "id": "be168dff",
   "metadata": {},
   "outputs": [],
   "source": [
    "df.loc[(df['Religion'] == ' ') & (df['Age'] >= 18),'Religion'] = 'No Religion'"
   ]
  },
  {
   "cell_type": "code",
   "execution_count": 128,
   "id": "2cbcbd37",
   "metadata": {},
   "outputs": [
    {
     "data": {
      "text/plain": [
       "array(['Catholic', 'Christian', 'No Religion', nan, 'Jewish', 'Methodist',\n",
       "       'None', 'Sikh', 'Muslim', 'Orthodoxy', 'Agnostic', 'Private',\n",
       "       'Quaker', 'Pagan'], dtype=object)"
      ]
     },
     "execution_count": 128,
     "metadata": {},
     "output_type": "execute_result"
    }
   ],
   "source": [
    "df['Religion'].unique()"
   ]
  },
  {
   "cell_type": "code",
   "execution_count": 129,
   "id": "fb27e7e3",
   "metadata": {},
   "outputs": [
    {
     "data": {
      "text/plain": [
       "2460"
      ]
     },
     "execution_count": 129,
     "metadata": {},
     "output_type": "execute_result"
    }
   ],
   "source": [
    "df['Religion'].isna().sum()"
   ]
  },
  {
   "cell_type": "code",
   "execution_count": 130,
   "id": "17bfc692",
   "metadata": {},
   "outputs": [
    {
     "data": {
      "text/plain": [
       "2394"
      ]
     },
     "execution_count": 130,
     "metadata": {},
     "output_type": "execute_result"
    }
   ],
   "source": [
    "((df['Religion'].isna()) & (df['Age'] < 18)).sum()"
   ]
  },
  {
   "cell_type": "markdown",
   "id": "6fd4767b",
   "metadata": {},
   "source": [
    "If Religion is 'NA' and Age is less than 18, leave as is. It is assumed that they are too young to have fully formed opinions on religion. Hence why the value is `NA`. If Age is greater than or equal to 18, however, they could be Agnostic or Atheists."
   ]
  },
  {
   "cell_type": "code",
   "execution_count": 131,
   "id": "e0787d70",
   "metadata": {},
   "outputs": [
    {
     "data": {
      "text/plain": [
       "66"
      ]
     },
     "execution_count": 131,
     "metadata": {},
     "output_type": "execute_result"
    }
   ],
   "source": [
    "((df['Religion'].isna()) & (df['Age'] >= 18)).sum()\n"
   ]
  },
  {
   "cell_type": "code",
   "execution_count": 132,
   "id": "64a1c1c5",
   "metadata": {},
   "outputs": [],
   "source": [
    "df.loc[(df['Religion'].isna()) & (df['Age'] >= 18),'Religion'] = 'Atheist'"
   ]
  },
  {
   "cell_type": "code",
   "execution_count": 133,
   "id": "08c81114",
   "metadata": {},
   "outputs": [
    {
     "data": {
      "text/plain": [
       "0"
      ]
     },
     "execution_count": 133,
     "metadata": {},
     "output_type": "execute_result"
    }
   ],
   "source": [
    "\n",
    "((df['Religion'].isna()) & (df['Age'] >= 18)).sum()\n",
    "\n"
   ]
  },
  {
   "cell_type": "code",
   "execution_count": 134,
   "id": "176c1d80",
   "metadata": {},
   "outputs": [
    {
     "data": {
      "text/plain": [
       "50"
      ]
     },
     "execution_count": 134,
     "metadata": {},
     "output_type": "execute_result"
    }
   ],
   "source": [
    "((df['Religion'] == 'None') & (df['Age'] >= 18)).sum()\n",
    "\n"
   ]
  },
  {
   "cell_type": "markdown",
   "id": "7fae61ee",
   "metadata": {},
   "source": [
    "All None values belong to people older than 18. Again should they be categorised as Atheists, Agnostics or left as `None`. The question of knowing the value of `None` in a dataset arises yet again.\n",
    "\n",
    " Various articles I read about `None`, `NA` values suggests that haveing such values in data _might_ mean that such value is missing. Hence I am left with the Data Scientist in me to decide whether to set `None` as a more meaningful value such as `Agnostic` or `Atheist` or `Undecided`"
   ]
  },
  {
   "cell_type": "code",
   "execution_count": 135,
   "id": "06854a18",
   "metadata": {},
   "outputs": [],
   "source": [
    "df.loc[((df['Religion'] == 'None') & (df['Age'] >= 18)), 'Religion'] = 'Undecided' #or Undecided"
   ]
  },
  {
   "cell_type": "code",
   "execution_count": 136,
   "id": "b1629934",
   "metadata": {},
   "outputs": [
    {
     "data": {
      "text/plain": [
       "array(['Catholic', 'Christian', 'No Religion', nan, 'Jewish', 'Methodist',\n",
       "       'Undecided', 'Sikh', 'Muslim', 'Atheist', 'Orthodoxy', 'Agnostic',\n",
       "       'Private', 'Quaker', 'Pagan'], dtype=object)"
      ]
     },
     "execution_count": 136,
     "metadata": {},
     "output_type": "execute_result"
    }
   ],
   "source": [
    "# df['Religion'].replace(' ', 'Atheist', inplace=True)\n",
    "\n",
    "df['Religion'].unique()\n"
   ]
  },
  {
   "cell_type": "code",
   "execution_count": 137,
   "id": "125ef36d",
   "metadata": {},
   "outputs": [
    {
     "data": {
      "text/plain": [
       "2394"
      ]
     },
     "execution_count": 137,
     "metadata": {},
     "output_type": "execute_result"
    }
   ],
   "source": [
    "((df['Religion'].isna()) & (df['Age'] < 18)).sum()"
   ]
  },
  {
   "cell_type": "markdown",
   "id": "b0ff453f",
   "metadata": {},
   "source": [
    "2400 people who are under the age of 18(ie minors) have NA as the religion values. For clarity, they may be replaced with `Not Applicable` or `NA` "
   ]
  },
  {
   "cell_type": "code",
   "execution_count": 138,
   "id": "22563dad",
   "metadata": {},
   "outputs": [],
   "source": [
    "df.loc[((df['Religion'].isna()) & (df['Age'] < 18)), 'Religion'] = 'NA'"
   ]
  },
  {
   "cell_type": "code",
   "execution_count": 139,
   "id": "fc59d2cb",
   "metadata": {},
   "outputs": [
    {
     "data": {
      "text/plain": [
       "No Religion    3022\n",
       "NA             2394\n",
       "Christian      2192\n",
       "Catholic        987\n",
       "Methodist       659\n",
       "Muslim          152\n",
       "Sikh             68\n",
       "Atheist          66\n",
       "Jewish           53\n",
       "Undecided        50\n",
       "Quaker            2\n",
       "Orthodoxy         1\n",
       "Agnostic          1\n",
       "Private           1\n",
       "Pagan             1\n",
       "Name: Religion, dtype: int64"
      ]
     },
     "execution_count": 139,
     "metadata": {},
     "output_type": "execute_result"
    }
   ],
   "source": [
    "df['Religion'].value_counts()"
   ]
  },
  {
   "cell_type": "code",
   "execution_count": 140,
   "id": "5d0c432d",
   "metadata": {},
   "outputs": [
    {
     "data": {
      "text/html": [
       "<div>\n",
       "<style scoped>\n",
       "    .dataframe tbody tr th:only-of-type {\n",
       "        vertical-align: middle;\n",
       "    }\n",
       "\n",
       "    .dataframe tbody tr th {\n",
       "        vertical-align: top;\n",
       "    }\n",
       "\n",
       "    .dataframe thead th {\n",
       "        text-align: right;\n",
       "    }\n",
       "</style>\n",
       "<table border=\"1\" class=\"dataframe\">\n",
       "  <thead>\n",
       "    <tr style=\"text-align: right;\">\n",
       "      <th></th>\n",
       "      <th>House Number</th>\n",
       "      <th>Street</th>\n",
       "      <th>First Name</th>\n",
       "      <th>Last Name</th>\n",
       "      <th>Age</th>\n",
       "      <th>Relationship to Head of House</th>\n",
       "      <th>Marital Status</th>\n",
       "      <th>Gender</th>\n",
       "      <th>Occupation</th>\n",
       "      <th>Infirmity</th>\n",
       "      <th>Religion</th>\n",
       "      <th>Employment Status</th>\n",
       "    </tr>\n",
       "  </thead>\n",
       "  <tbody>\n",
       "    <tr>\n",
       "      <th>12</th>\n",
       "      <td>7</td>\n",
       "      <td>Orryjar Lane</td>\n",
       "      <td>Claire</td>\n",
       "      <td>Young</td>\n",
       "      <td>13</td>\n",
       "      <td>Daughter</td>\n",
       "      <td>Minor</td>\n",
       "      <td>Female</td>\n",
       "      <td>Student</td>\n",
       "      <td>No Disability</td>\n",
       "      <td>NA</td>\n",
       "      <td>Student</td>\n",
       "    </tr>\n",
       "    <tr>\n",
       "      <th>13</th>\n",
       "      <td>7</td>\n",
       "      <td>Orryjar Lane</td>\n",
       "      <td>Ellie</td>\n",
       "      <td>Young</td>\n",
       "      <td>11</td>\n",
       "      <td>Daughter</td>\n",
       "      <td>Minor</td>\n",
       "      <td>Female</td>\n",
       "      <td>Student</td>\n",
       "      <td>No Disability</td>\n",
       "      <td>NA</td>\n",
       "      <td>Student</td>\n",
       "    </tr>\n",
       "    <tr>\n",
       "      <th>14</th>\n",
       "      <td>7</td>\n",
       "      <td>Orryjar Lane</td>\n",
       "      <td>Rhys</td>\n",
       "      <td>Young</td>\n",
       "      <td>9</td>\n",
       "      <td>Son</td>\n",
       "      <td>Minor</td>\n",
       "      <td>Male</td>\n",
       "      <td>Student</td>\n",
       "      <td>No Disability</td>\n",
       "      <td>NA</td>\n",
       "      <td>Student</td>\n",
       "    </tr>\n",
       "    <tr>\n",
       "      <th>42</th>\n",
       "      <td>19</td>\n",
       "      <td>Orryjar Lane</td>\n",
       "      <td>Annette</td>\n",
       "      <td>Khan</td>\n",
       "      <td>14</td>\n",
       "      <td>Daughter</td>\n",
       "      <td>Minor</td>\n",
       "      <td>Female</td>\n",
       "      <td>Student</td>\n",
       "      <td>No Disability</td>\n",
       "      <td>NA</td>\n",
       "      <td>Student</td>\n",
       "    </tr>\n",
       "    <tr>\n",
       "      <th>44</th>\n",
       "      <td>20</td>\n",
       "      <td>Orryjar Lane</td>\n",
       "      <td>Joseph</td>\n",
       "      <td>Fox</td>\n",
       "      <td>16</td>\n",
       "      <td>Son</td>\n",
       "      <td>Minor</td>\n",
       "      <td>Male</td>\n",
       "      <td>Student</td>\n",
       "      <td>No Disability</td>\n",
       "      <td>NA</td>\n",
       "      <td>Student</td>\n",
       "    </tr>\n",
       "    <tr>\n",
       "      <th>...</th>\n",
       "      <td>...</td>\n",
       "      <td>...</td>\n",
       "      <td>...</td>\n",
       "      <td>...</td>\n",
       "      <td>...</td>\n",
       "      <td>...</td>\n",
       "      <td>...</td>\n",
       "      <td>...</td>\n",
       "      <td>...</td>\n",
       "      <td>...</td>\n",
       "      <td>...</td>\n",
       "      <td>...</td>\n",
       "    </tr>\n",
       "    <tr>\n",
       "      <th>9648</th>\n",
       "      <td>1</td>\n",
       "      <td>Memorial Citadel</td>\n",
       "      <td>Beverley</td>\n",
       "      <td>Smith</td>\n",
       "      <td>10</td>\n",
       "      <td>Daughter</td>\n",
       "      <td>Minor</td>\n",
       "      <td>Female</td>\n",
       "      <td>Student</td>\n",
       "      <td>No Disability</td>\n",
       "      <td>NA</td>\n",
       "      <td>Student</td>\n",
       "    </tr>\n",
       "    <tr>\n",
       "      <th>9649</th>\n",
       "      <td>1</td>\n",
       "      <td>Memorial Citadel</td>\n",
       "      <td>Dale</td>\n",
       "      <td>Smith</td>\n",
       "      <td>10</td>\n",
       "      <td>Son</td>\n",
       "      <td>Minor</td>\n",
       "      <td>Male</td>\n",
       "      <td>Student</td>\n",
       "      <td>No Disability</td>\n",
       "      <td>NA</td>\n",
       "      <td>Student</td>\n",
       "    </tr>\n",
       "    <tr>\n",
       "      <th>9651</th>\n",
       "      <td>1</td>\n",
       "      <td>Armagh Longhouse</td>\n",
       "      <td>Aaron</td>\n",
       "      <td>Yates</td>\n",
       "      <td>6</td>\n",
       "      <td>Son</td>\n",
       "      <td>Minor</td>\n",
       "      <td>Male</td>\n",
       "      <td>Student</td>\n",
       "      <td>No Disability</td>\n",
       "      <td>NA</td>\n",
       "      <td>Student</td>\n",
       "    </tr>\n",
       "    <tr>\n",
       "      <th>9652</th>\n",
       "      <td>1</td>\n",
       "      <td>Armagh Longhouse</td>\n",
       "      <td>Geraldine</td>\n",
       "      <td>Yates</td>\n",
       "      <td>3</td>\n",
       "      <td>Daughter</td>\n",
       "      <td>Minor</td>\n",
       "      <td>Female</td>\n",
       "      <td>Child</td>\n",
       "      <td>No Disability</td>\n",
       "      <td>NA</td>\n",
       "      <td>Child</td>\n",
       "    </tr>\n",
       "    <tr>\n",
       "      <th>9653</th>\n",
       "      <td>1</td>\n",
       "      <td>Armagh Longhouse</td>\n",
       "      <td>Daniel</td>\n",
       "      <td>Yates</td>\n",
       "      <td>1</td>\n",
       "      <td>Son</td>\n",
       "      <td>Minor</td>\n",
       "      <td>Male</td>\n",
       "      <td>Child</td>\n",
       "      <td>No Disability</td>\n",
       "      <td>NA</td>\n",
       "      <td>Child</td>\n",
       "    </tr>\n",
       "  </tbody>\n",
       "</table>\n",
       "<p>2394 rows × 12 columns</p>\n",
       "</div>"
      ],
      "text/plain": [
       "      House Number            Street First Name Last Name  Age  \\\n",
       "12               7      Orryjar Lane     Claire     Young   13   \n",
       "13               7      Orryjar Lane      Ellie     Young   11   \n",
       "14               7      Orryjar Lane       Rhys     Young    9   \n",
       "42              19      Orryjar Lane    Annette      Khan   14   \n",
       "44              20      Orryjar Lane     Joseph       Fox   16   \n",
       "...            ...               ...        ...       ...  ...   \n",
       "9648             1  Memorial Citadel   Beverley     Smith   10   \n",
       "9649             1  Memorial Citadel       Dale     Smith   10   \n",
       "9651             1  Armagh Longhouse      Aaron     Yates    6   \n",
       "9652             1  Armagh Longhouse  Geraldine     Yates    3   \n",
       "9653             1  Armagh Longhouse     Daniel     Yates    1   \n",
       "\n",
       "     Relationship to Head of House Marital Status  Gender Occupation  \\\n",
       "12                        Daughter          Minor  Female    Student   \n",
       "13                        Daughter          Minor  Female    Student   \n",
       "14                             Son          Minor    Male    Student   \n",
       "42                        Daughter          Minor  Female    Student   \n",
       "44                             Son          Minor    Male    Student   \n",
       "...                            ...            ...     ...        ...   \n",
       "9648                      Daughter          Minor  Female    Student   \n",
       "9649                           Son          Minor    Male    Student   \n",
       "9651                           Son          Minor    Male    Student   \n",
       "9652                      Daughter          Minor  Female      Child   \n",
       "9653                           Son          Minor    Male      Child   \n",
       "\n",
       "          Infirmity Religion Employment Status  \n",
       "12    No Disability       NA           Student  \n",
       "13    No Disability       NA           Student  \n",
       "14    No Disability       NA           Student  \n",
       "42    No Disability       NA           Student  \n",
       "44    No Disability       NA           Student  \n",
       "...             ...      ...               ...  \n",
       "9648  No Disability       NA           Student  \n",
       "9649  No Disability       NA           Student  \n",
       "9651  No Disability       NA           Student  \n",
       "9652  No Disability       NA             Child  \n",
       "9653  No Disability       NA             Child  \n",
       "\n",
       "[2394 rows x 12 columns]"
      ]
     },
     "execution_count": 140,
     "metadata": {},
     "output_type": "execute_result"
    }
   ],
   "source": [
    "df.loc[(df['Religion'] == 'NA')]"
   ]
  },
  {
   "cell_type": "code",
   "execution_count": 141,
   "id": "e844c835",
   "metadata": {},
   "outputs": [
    {
     "data": {
      "text/html": [
       "<div>\n",
       "<style scoped>\n",
       "    .dataframe tbody tr th:only-of-type {\n",
       "        vertical-align: middle;\n",
       "    }\n",
       "\n",
       "    .dataframe tbody tr th {\n",
       "        vertical-align: top;\n",
       "    }\n",
       "\n",
       "    .dataframe thead th {\n",
       "        text-align: right;\n",
       "    }\n",
       "</style>\n",
       "<table border=\"1\" class=\"dataframe\">\n",
       "  <thead>\n",
       "    <tr style=\"text-align: right;\">\n",
       "      <th></th>\n",
       "      <th>House Number</th>\n",
       "      <th>Street</th>\n",
       "      <th>First Name</th>\n",
       "      <th>Last Name</th>\n",
       "      <th>Age</th>\n",
       "      <th>Relationship to Head of House</th>\n",
       "      <th>Marital Status</th>\n",
       "      <th>Gender</th>\n",
       "      <th>Occupation</th>\n",
       "      <th>Infirmity</th>\n",
       "      <th>Religion</th>\n",
       "      <th>Employment Status</th>\n",
       "    </tr>\n",
       "  </thead>\n",
       "  <tbody>\n",
       "    <tr>\n",
       "      <th>0</th>\n",
       "      <td>1</td>\n",
       "      <td>Orryjar Lane</td>\n",
       "      <td>Kieran</td>\n",
       "      <td>Ward</td>\n",
       "      <td>56</td>\n",
       "      <td>Head</td>\n",
       "      <td>Single</td>\n",
       "      <td>Male</td>\n",
       "      <td>Careers adviser</td>\n",
       "      <td>No Disability</td>\n",
       "      <td>Catholic</td>\n",
       "      <td>Employed</td>\n",
       "    </tr>\n",
       "    <tr>\n",
       "      <th>1</th>\n",
       "      <td>1</td>\n",
       "      <td>Orryjar Lane</td>\n",
       "      <td>Abdul</td>\n",
       "      <td>Pickering</td>\n",
       "      <td>43</td>\n",
       "      <td>None</td>\n",
       "      <td>Single</td>\n",
       "      <td>Male</td>\n",
       "      <td>Public relations account executive</td>\n",
       "      <td>No Disability</td>\n",
       "      <td>Christian</td>\n",
       "      <td>Employed</td>\n",
       "    </tr>\n",
       "    <tr>\n",
       "      <th>2</th>\n",
       "      <td>2</td>\n",
       "      <td>Orryjar Lane</td>\n",
       "      <td>Rosemary</td>\n",
       "      <td>Steele</td>\n",
       "      <td>30</td>\n",
       "      <td>Head</td>\n",
       "      <td>Single</td>\n",
       "      <td>Female</td>\n",
       "      <td>Meteorologist</td>\n",
       "      <td>No Disability</td>\n",
       "      <td>Christian</td>\n",
       "      <td>Employed</td>\n",
       "    </tr>\n",
       "    <tr>\n",
       "      <th>3</th>\n",
       "      <td>3</td>\n",
       "      <td>Orryjar Lane</td>\n",
       "      <td>Marilyn</td>\n",
       "      <td>Cooke</td>\n",
       "      <td>53</td>\n",
       "      <td>Head</td>\n",
       "      <td>Single</td>\n",
       "      <td>Female</td>\n",
       "      <td>Jewellery designer</td>\n",
       "      <td>No Disability</td>\n",
       "      <td>Christian</td>\n",
       "      <td>Employed</td>\n",
       "    </tr>\n",
       "    <tr>\n",
       "      <th>4</th>\n",
       "      <td>4</td>\n",
       "      <td>Orryjar Lane</td>\n",
       "      <td>Samantha</td>\n",
       "      <td>Coates</td>\n",
       "      <td>63</td>\n",
       "      <td>Head</td>\n",
       "      <td>Single</td>\n",
       "      <td>Female</td>\n",
       "      <td>Trade mark attorney</td>\n",
       "      <td>No Disability</td>\n",
       "      <td>No Religion</td>\n",
       "      <td>Employed</td>\n",
       "    </tr>\n",
       "  </tbody>\n",
       "</table>\n",
       "</div>"
      ],
      "text/plain": [
       "   House Number        Street First Name  Last Name  Age  \\\n",
       "0             1  Orryjar Lane     Kieran       Ward   56   \n",
       "1             1  Orryjar Lane      Abdul  Pickering   43   \n",
       "2             2  Orryjar Lane   Rosemary     Steele   30   \n",
       "3             3  Orryjar Lane    Marilyn      Cooke   53   \n",
       "4             4  Orryjar Lane   Samantha     Coates   63   \n",
       "\n",
       "  Relationship to Head of House Marital Status  Gender  \\\n",
       "0                          Head         Single    Male   \n",
       "1                          None         Single    Male   \n",
       "2                          Head         Single  Female   \n",
       "3                          Head         Single  Female   \n",
       "4                          Head         Single  Female   \n",
       "\n",
       "                           Occupation      Infirmity     Religion  \\\n",
       "0                     Careers adviser  No Disability     Catholic   \n",
       "1  Public relations account executive  No Disability    Christian   \n",
       "2                       Meteorologist  No Disability    Christian   \n",
       "3                  Jewellery designer  No Disability    Christian   \n",
       "4                 Trade mark attorney  No Disability  No Religion   \n",
       "\n",
       "  Employment Status  \n",
       "0          Employed  \n",
       "1          Employed  \n",
       "2          Employed  \n",
       "3          Employed  \n",
       "4          Employed  "
      ]
     },
     "execution_count": 141,
     "metadata": {},
     "output_type": "execute_result"
    }
   ],
   "source": [
    "df.head()"
   ]
  },
  {
   "cell_type": "markdown",
   "id": "abbc5202",
   "metadata": {},
   "source": [
    "`Religion` is thus cleaned."
   ]
  },
  {
   "cell_type": "markdown",
   "id": "b879191a",
   "metadata": {},
   "source": [
    "# Data Analysis"
   ]
  },
  {
   "cell_type": "markdown",
   "id": "5e66157f",
   "metadata": {},
   "source": [
    "**Problem Questions:**\n",
    "\n",
    "   1. **What should be built on an unoccupied plot of land that the local government wishes to \n",
    "       develop?**\n",
    "         - High Density housing\n",
    "         - Low Density housing\n",
    "         - Train station\n",
    "         - Religious building\n",
    "         - Emergency medical building\n",
    "          \n",
    "         \n",
    "   2. **Which one of the following options should be invested in?**\n",
    "       - Employement and training\n",
    "       - Old Age Care\n",
    "       - Fund for schools\n",
    "       - General Infrastructure"
   ]
  },
  {
   "cell_type": "code",
   "execution_count": 142,
   "id": "6a86e1bb",
   "metadata": {},
   "outputs": [
    {
     "data": {
      "image/png": "[encoded data removed]",
      "text/plain": [
       "<Figure size 1200x800 with 1 Axes>"
      ]
     },
     "metadata": {},
     "output_type": "display_data"
    }
   ],
   "source": [
    "#Examining the Age Distribution\n",
    "age_d = sns.displot(x='Age', data=df, height=8, aspect=1.5)\n",
    "plt.title('Age Distribution')\n",
    "age_d.savefig('./graphs/Age Distribution')\n",
    "plt.show()\n"
   ]
  },
  {
   "cell_type": "code",
   "execution_count": 143,
   "id": "08524f83",
   "metadata": {},
   "outputs": [
    {
     "data": {
      "image/png": "[encoded data removed]",
      "text/plain": [
       "<Figure size 1379x800 with 1 Axes>"
      ]
     },
     "metadata": {},
     "output_type": "display_data"
    }
   ],
   "source": [
    "## Age distribution by Employment status\n",
    "age_occupation = sns.displot(x='Age', data=df, hue='Employment Status', multiple='stack',height=8, aspect=1.5)\n",
    "plt.title(\"Age by Occupation Distribution\")\n",
    "age_occupation.savefig('./graphs/Age-Occupation Distribution')\n",
    "plt.show()"
   ]
  },
  {
   "cell_type": "markdown",
   "id": "138c62e9",
   "metadata": {},
   "source": [
    "#### Age Pyramid:"
   ]
  },
  {
   "cell_type": "markdown",
   "id": "00fb4f16",
   "metadata": {},
   "source": [
    "What is an age pyramid? A population pyramid is a graph that shows the age and gender distribution of a given population. It’s useful for understanding the composition of a population and the trend in population growth."
   ]
  },
  {
   "cell_type": "markdown",
   "id": "885d4ba0",
   "metadata": {},
   "source": [
    "To plot an age pyramid, the current data set needs to be re-structured to suit the data needed for a pyramid plot. Our current data set has `Male` and `Female` as values in a `Gender` column. So that needs to be filtered out and age groups categorised too."
   ]
  },
  {
   "cell_type": "code",
   "execution_count": 144,
   "id": "0b901010",
   "metadata": {},
   "outputs": [],
   "source": [
    "#Sorting the age group\n",
    "df['Age Group'] = np.where(df['Age'].between(0,5), \"0-5\", 0)\n",
    "df['Age Group'] = np.where(df['Age'].between(6,10), \"6-10\", df['Age Group'])\n",
    "df['Age Group'] = np.where(df['Age'].between(11,15), \"11-15\", df['Age Group'])\n",
    "df['Age Group'] = np.where(df['Age'].between(16,20), \"16-20\", df['Age Group'])\n",
    "df['Age Group'] = np.where(df['Age'].between(21,25), \"21-25\", df['Age Group'])\n",
    "df['Age Group'] = np.where(df['Age'].between(26,30), \"26-30\", df['Age Group'])\n",
    "df['Age Group'] = np.where(df['Age'].between(31,35), \"31-35\", df['Age Group'])\n",
    "df['Age Group'] = np.where(df['Age'].between(36,40), \"36-40\", df['Age Group'])\n",
    "df['Age Group'] = np.where(df['Age'].between(41,45), \"41-45\", df['Age Group'])\n",
    "df['Age Group'] = np.where(df['Age'].between(46,50), \"46-50\", df['Age Group'])\n",
    "df['Age Group'] = np.where(df['Age'].between(51,55), \"51-55\", df['Age Group'])\n",
    "df['Age Group'] = np.where(df['Age'].between(56,60), \"56-60\", df['Age Group'])\n",
    "df['Age Group'] = np.where(df['Age'].between(61,65), \"61-65\", df['Age Group'])\n",
    "df['Age Group'] = np.where(df['Age'].between(65,70), \"66-70\", df['Age Group'])\n",
    "df['Age Group'] = np.where(df['Age'].between(71,75), \"71-75\", df['Age Group'])\n",
    "df['Age Group'] = np.where(df['Age'].between(76,80), \"76-80\", df['Age Group'])\n",
    "df['Age Group'] = np.where(df['Age'].between(81,85), \"81-85\", df['Age Group'])\n",
    "df['Age Group'] = np.where(df['Age'].between(86,90), \"86-90\", df['Age Group'])\n",
    "df['Age Group'] = np.where(df['Age']>90, \"90+\", df['Age Group'])"
   ]
  },
  {
   "cell_type": "code",
   "execution_count": 145,
   "id": "7bb562f3",
   "metadata": {},
   "outputs": [],
   "source": [
    "#filtering dataframe by gender:\n",
    "\n",
    "female = df.loc[df['Gender'] == 'Female']\n",
    "male = df.loc[df['Gender'] == 'Male'] "
   ]
  },
  {
   "cell_type": "code",
   "execution_count": 146,
   "id": "a76afc8a",
   "metadata": {},
   "outputs": [],
   "source": [
    "\n",
    "male_df = male.groupby(['Age Group']).agg(Male = \n",
    "                                          pd.NamedAgg(column='Age Group', aggfunc='count'),\n",
    "                                          MedianAge=pd.NamedAgg(column='Age', aggfunc='median')\n",
    "                                         ).sort_values(by='MedianAge', ascending=False).reset_index()\n",
    "\n",
    "male_df['Male'] = male_df['Male']*-1\n",
    "\n",
    "#female\n",
    "\n",
    "female_df = female.groupby(['Age Group']).agg(Female = \n",
    "                                              pd.NamedAgg(column='Age Group', aggfunc='count'),\n",
    "                                               MedianAge=pd.NamedAgg(column='Age', aggfunc='median')\n",
    "                                             ).sort_values(by='MedianAge', ascending=False).reset_index()\n",
    "\n",
    "#merging data frames\n",
    "\n",
    "pyramid_df = male_df.merge(female_df, on = 'Age Group')[['Age Group', 'Male', 'Female']]\n",
    "\n",
    "#age group\n",
    "AgeGroupClass = pyramid_df['Age Group'].to_list()\n",
    "\n",
    "\n",
    "#Observation: aggregating by Median age ensures that the data are in the right sequence when merged."
   ]
  },
  {
   "cell_type": "code",
   "execution_count": 147,
   "id": "584e63a7",
   "metadata": {
    "scrolled": true
   },
   "outputs": [
    {
     "data": {
      "text/html": [
       "<div>\n",
       "<style scoped>\n",
       "    .dataframe tbody tr th:only-of-type {\n",
       "        vertical-align: middle;\n",
       "    }\n",
       "\n",
       "    .dataframe tbody tr th {\n",
       "        vertical-align: top;\n",
       "    }\n",
       "\n",
       "    .dataframe thead th {\n",
       "        text-align: right;\n",
       "    }\n",
       "</style>\n",
       "<table border=\"1\" class=\"dataframe\">\n",
       "  <thead>\n",
       "    <tr style=\"text-align: right;\">\n",
       "      <th></th>\n",
       "      <th>Age Group</th>\n",
       "      <th>Male</th>\n",
       "      <th>Female</th>\n",
       "    </tr>\n",
       "  </thead>\n",
       "  <tbody>\n",
       "    <tr>\n",
       "      <th>0</th>\n",
       "      <td>90+</td>\n",
       "      <td>-15</td>\n",
       "      <td>16</td>\n",
       "    </tr>\n",
       "    <tr>\n",
       "      <th>1</th>\n",
       "      <td>86-90</td>\n",
       "      <td>-25</td>\n",
       "      <td>23</td>\n",
       "    </tr>\n",
       "    <tr>\n",
       "      <th>2</th>\n",
       "      <td>81-85</td>\n",
       "      <td>-51</td>\n",
       "      <td>57</td>\n",
       "    </tr>\n",
       "    <tr>\n",
       "      <th>3</th>\n",
       "      <td>76-80</td>\n",
       "      <td>-92</td>\n",
       "      <td>84</td>\n",
       "    </tr>\n",
       "    <tr>\n",
       "      <th>4</th>\n",
       "      <td>71-75</td>\n",
       "      <td>-145</td>\n",
       "      <td>147</td>\n",
       "    </tr>\n",
       "    <tr>\n",
       "      <th>5</th>\n",
       "      <td>66-70</td>\n",
       "      <td>-131</td>\n",
       "      <td>174</td>\n",
       "    </tr>\n",
       "    <tr>\n",
       "      <th>6</th>\n",
       "      <td>61-65</td>\n",
       "      <td>-165</td>\n",
       "      <td>174</td>\n",
       "    </tr>\n",
       "    <tr>\n",
       "      <th>7</th>\n",
       "      <td>56-60</td>\n",
       "      <td>-267</td>\n",
       "      <td>263</td>\n",
       "    </tr>\n",
       "    <tr>\n",
       "      <th>8</th>\n",
       "      <td>51-55</td>\n",
       "      <td>-269</td>\n",
       "      <td>287</td>\n",
       "    </tr>\n",
       "    <tr>\n",
       "      <th>9</th>\n",
       "      <td>46-50</td>\n",
       "      <td>-292</td>\n",
       "      <td>362</td>\n",
       "    </tr>\n",
       "    <tr>\n",
       "      <th>10</th>\n",
       "      <td>41-45</td>\n",
       "      <td>-322</td>\n",
       "      <td>402</td>\n",
       "    </tr>\n",
       "    <tr>\n",
       "      <th>11</th>\n",
       "      <td>36-40</td>\n",
       "      <td>-359</td>\n",
       "      <td>418</td>\n",
       "    </tr>\n",
       "    <tr>\n",
       "      <th>12</th>\n",
       "      <td>31-35</td>\n",
       "      <td>-363</td>\n",
       "      <td>414</td>\n",
       "    </tr>\n",
       "    <tr>\n",
       "      <th>13</th>\n",
       "      <td>26-30</td>\n",
       "      <td>-336</td>\n",
       "      <td>366</td>\n",
       "    </tr>\n",
       "    <tr>\n",
       "      <th>14</th>\n",
       "      <td>21-25</td>\n",
       "      <td>-326</td>\n",
       "      <td>394</td>\n",
       "    </tr>\n",
       "    <tr>\n",
       "      <th>15</th>\n",
       "      <td>16-20</td>\n",
       "      <td>-367</td>\n",
       "      <td>430</td>\n",
       "    </tr>\n",
       "    <tr>\n",
       "      <th>16</th>\n",
       "      <td>11-15</td>\n",
       "      <td>-354</td>\n",
       "      <td>340</td>\n",
       "    </tr>\n",
       "    <tr>\n",
       "      <th>17</th>\n",
       "      <td>6-10</td>\n",
       "      <td>-353</td>\n",
       "      <td>318</td>\n",
       "    </tr>\n",
       "    <tr>\n",
       "      <th>18</th>\n",
       "      <td>0-5</td>\n",
       "      <td>-374</td>\n",
       "      <td>374</td>\n",
       "    </tr>\n",
       "  </tbody>\n",
       "</table>\n",
       "</div>"
      ],
      "text/plain": [
       "   Age Group  Male  Female\n",
       "0        90+   -15      16\n",
       "1      86-90   -25      23\n",
       "2      81-85   -51      57\n",
       "3      76-80   -92      84\n",
       "4      71-75  -145     147\n",
       "5      66-70  -131     174\n",
       "6      61-65  -165     174\n",
       "7      56-60  -267     263\n",
       "8      51-55  -269     287\n",
       "9      46-50  -292     362\n",
       "10     41-45  -322     402\n",
       "11     36-40  -359     418\n",
       "12     31-35  -363     414\n",
       "13     26-30  -336     366\n",
       "14     21-25  -326     394\n",
       "15     16-20  -367     430\n",
       "16     11-15  -354     340\n",
       "17      6-10  -353     318\n",
       "18       0-5  -374     374"
      ]
     },
     "execution_count": 147,
     "metadata": {},
     "output_type": "execute_result"
    }
   ],
   "source": [
    "pyramid_df"
   ]
  },
  {
   "cell_type": "code",
   "execution_count": 148,
   "id": "01e095ab",
   "metadata": {
    "scrolled": true
   },
   "outputs": [
    {
     "data": {
      "text/plain": [
       "['90+',\n",
       " '86-90',\n",
       " '81-85',\n",
       " '76-80',\n",
       " '71-75',\n",
       " '66-70',\n",
       " '61-65',\n",
       " '56-60',\n",
       " '51-55',\n",
       " '46-50',\n",
       " '41-45',\n",
       " '36-40',\n",
       " '31-35',\n",
       " '26-30',\n",
       " '21-25',\n",
       " '16-20',\n",
       " '11-15',\n",
       " '6-10',\n",
       " '0-5']"
      ]
     },
     "execution_count": 148,
     "metadata": {},
     "output_type": "execute_result"
    }
   ],
   "source": [
    "AgeGroupClass"
   ]
  },
  {
   "cell_type": "code",
   "execution_count": 149,
   "id": "c3393279",
   "metadata": {},
   "outputs": [
    {
     "data": {
      "image/png": "[encoded data removed]",
      "text/plain": [
       "<Figure size 2000x1500 with 1 Axes>"
      ]
     },
     "metadata": {},
     "output_type": "display_data"
    }
   ],
   "source": [
    "#age pyramid plot\n",
    "\n",
    "fig = plt.figure(figsize=(20,15))\n",
    "\n",
    "\n",
    "age_pyramid = sns.barplot(x='Male', y='Age Group', data=pyramid_df, \n",
    "                          order=AgeGroupClass,\n",
    "                         color='lightBlue', label='Male')\n",
    "\n",
    "\n",
    "age_pyramid = sns.barplot(x='Female', y='Age Group', data=pyramid_df, \n",
    "                          order=AgeGroupClass,\n",
    "                         color='blue', label='Female')\n",
    "\n",
    "age_pyramid.legend()\n",
    "age_pyramid.set(xlabel='Population Count', ylabel='Age Group')\n",
    "plt.title('Age Pyramid')\n",
    "plt.savefig('./graphs/AgePyramid')"
   ]
  },
  {
   "cell_type": "code",
   "execution_count": 150,
   "id": "e5b46b3a",
   "metadata": {},
   "outputs": [],
   "source": [
    "#Total Population\n",
    "\n",
    "pyramid_df['Total Population'] = np.abs(pyramid_df['Male']) + np.abs(pyramid_df['Female'])"
   ]
  },
  {
   "cell_type": "code",
   "execution_count": 151,
   "id": "12b19b9a",
   "metadata": {},
   "outputs": [
    {
     "data": {
      "text/html": [
       "<div>\n",
       "<style scoped>\n",
       "    .dataframe tbody tr th:only-of-type {\n",
       "        vertical-align: middle;\n",
       "    }\n",
       "\n",
       "    .dataframe tbody tr th {\n",
       "        vertical-align: top;\n",
       "    }\n",
       "\n",
       "    .dataframe thead th {\n",
       "        text-align: right;\n",
       "    }\n",
       "</style>\n",
       "<table border=\"1\" class=\"dataframe\">\n",
       "  <thead>\n",
       "    <tr style=\"text-align: right;\">\n",
       "      <th></th>\n",
       "      <th>Age Group</th>\n",
       "      <th>Male</th>\n",
       "      <th>Female</th>\n",
       "      <th>Total Population</th>\n",
       "    </tr>\n",
       "  </thead>\n",
       "  <tbody>\n",
       "    <tr>\n",
       "      <th>0</th>\n",
       "      <td>90+</td>\n",
       "      <td>-15</td>\n",
       "      <td>16</td>\n",
       "      <td>31</td>\n",
       "    </tr>\n",
       "    <tr>\n",
       "      <th>1</th>\n",
       "      <td>86-90</td>\n",
       "      <td>-25</td>\n",
       "      <td>23</td>\n",
       "      <td>48</td>\n",
       "    </tr>\n",
       "    <tr>\n",
       "      <th>2</th>\n",
       "      <td>81-85</td>\n",
       "      <td>-51</td>\n",
       "      <td>57</td>\n",
       "      <td>108</td>\n",
       "    </tr>\n",
       "    <tr>\n",
       "      <th>3</th>\n",
       "      <td>76-80</td>\n",
       "      <td>-92</td>\n",
       "      <td>84</td>\n",
       "      <td>176</td>\n",
       "    </tr>\n",
       "    <tr>\n",
       "      <th>4</th>\n",
       "      <td>71-75</td>\n",
       "      <td>-145</td>\n",
       "      <td>147</td>\n",
       "      <td>292</td>\n",
       "    </tr>\n",
       "    <tr>\n",
       "      <th>5</th>\n",
       "      <td>66-70</td>\n",
       "      <td>-131</td>\n",
       "      <td>174</td>\n",
       "      <td>305</td>\n",
       "    </tr>\n",
       "    <tr>\n",
       "      <th>6</th>\n",
       "      <td>61-65</td>\n",
       "      <td>-165</td>\n",
       "      <td>174</td>\n",
       "      <td>339</td>\n",
       "    </tr>\n",
       "    <tr>\n",
       "      <th>7</th>\n",
       "      <td>56-60</td>\n",
       "      <td>-267</td>\n",
       "      <td>263</td>\n",
       "      <td>530</td>\n",
       "    </tr>\n",
       "    <tr>\n",
       "      <th>8</th>\n",
       "      <td>51-55</td>\n",
       "      <td>-269</td>\n",
       "      <td>287</td>\n",
       "      <td>556</td>\n",
       "    </tr>\n",
       "    <tr>\n",
       "      <th>9</th>\n",
       "      <td>46-50</td>\n",
       "      <td>-292</td>\n",
       "      <td>362</td>\n",
       "      <td>654</td>\n",
       "    </tr>\n",
       "    <tr>\n",
       "      <th>10</th>\n",
       "      <td>41-45</td>\n",
       "      <td>-322</td>\n",
       "      <td>402</td>\n",
       "      <td>724</td>\n",
       "    </tr>\n",
       "    <tr>\n",
       "      <th>11</th>\n",
       "      <td>36-40</td>\n",
       "      <td>-359</td>\n",
       "      <td>418</td>\n",
       "      <td>777</td>\n",
       "    </tr>\n",
       "    <tr>\n",
       "      <th>12</th>\n",
       "      <td>31-35</td>\n",
       "      <td>-363</td>\n",
       "      <td>414</td>\n",
       "      <td>777</td>\n",
       "    </tr>\n",
       "    <tr>\n",
       "      <th>13</th>\n",
       "      <td>26-30</td>\n",
       "      <td>-336</td>\n",
       "      <td>366</td>\n",
       "      <td>702</td>\n",
       "    </tr>\n",
       "    <tr>\n",
       "      <th>14</th>\n",
       "      <td>21-25</td>\n",
       "      <td>-326</td>\n",
       "      <td>394</td>\n",
       "      <td>720</td>\n",
       "    </tr>\n",
       "    <tr>\n",
       "      <th>15</th>\n",
       "      <td>16-20</td>\n",
       "      <td>-367</td>\n",
       "      <td>430</td>\n",
       "      <td>797</td>\n",
       "    </tr>\n",
       "    <tr>\n",
       "      <th>16</th>\n",
       "      <td>11-15</td>\n",
       "      <td>-354</td>\n",
       "      <td>340</td>\n",
       "      <td>694</td>\n",
       "    </tr>\n",
       "    <tr>\n",
       "      <th>17</th>\n",
       "      <td>6-10</td>\n",
       "      <td>-353</td>\n",
       "      <td>318</td>\n",
       "      <td>671</td>\n",
       "    </tr>\n",
       "    <tr>\n",
       "      <th>18</th>\n",
       "      <td>0-5</td>\n",
       "      <td>-374</td>\n",
       "      <td>374</td>\n",
       "      <td>748</td>\n",
       "    </tr>\n",
       "  </tbody>\n",
       "</table>\n",
       "</div>"
      ],
      "text/plain": [
       "   Age Group  Male  Female  Total Population\n",
       "0        90+   -15      16                31\n",
       "1      86-90   -25      23                48\n",
       "2      81-85   -51      57               108\n",
       "3      76-80   -92      84               176\n",
       "4      71-75  -145     147               292\n",
       "5      66-70  -131     174               305\n",
       "6      61-65  -165     174               339\n",
       "7      56-60  -267     263               530\n",
       "8      51-55  -269     287               556\n",
       "9      46-50  -292     362               654\n",
       "10     41-45  -322     402               724\n",
       "11     36-40  -359     418               777\n",
       "12     31-35  -363     414               777\n",
       "13     26-30  -336     366               702\n",
       "14     21-25  -326     394               720\n",
       "15     16-20  -367     430               797\n",
       "16     11-15  -354     340               694\n",
       "17      6-10  -353     318               671\n",
       "18       0-5  -374     374               748"
      ]
     },
     "execution_count": 151,
     "metadata": {},
     "output_type": "execute_result"
    }
   ],
   "source": [
    "pyramid_df"
   ]
  },
  {
   "cell_type": "code",
   "execution_count": 152,
   "id": "a6b114da",
   "metadata": {},
   "outputs": [],
   "source": [
    "pyramid_df = pyramid_df.iloc[::-1].copy()"
   ]
  },
  {
   "cell_type": "code",
   "execution_count": 153,
   "id": "e7cd89e4",
   "metadata": {},
   "outputs": [
    {
     "data": {
      "text/html": [
       "<div>\n",
       "<style scoped>\n",
       "    .dataframe tbody tr th:only-of-type {\n",
       "        vertical-align: middle;\n",
       "    }\n",
       "\n",
       "    .dataframe tbody tr th {\n",
       "        vertical-align: top;\n",
       "    }\n",
       "\n",
       "    .dataframe thead th {\n",
       "        text-align: right;\n",
       "    }\n",
       "</style>\n",
       "<table border=\"1\" class=\"dataframe\">\n",
       "  <thead>\n",
       "    <tr style=\"text-align: right;\">\n",
       "      <th></th>\n",
       "      <th>Age Group</th>\n",
       "      <th>Male</th>\n",
       "      <th>Female</th>\n",
       "      <th>Total Population</th>\n",
       "    </tr>\n",
       "  </thead>\n",
       "  <tbody>\n",
       "    <tr>\n",
       "      <th>18</th>\n",
       "      <td>0-5</td>\n",
       "      <td>-374</td>\n",
       "      <td>374</td>\n",
       "      <td>748</td>\n",
       "    </tr>\n",
       "    <tr>\n",
       "      <th>17</th>\n",
       "      <td>6-10</td>\n",
       "      <td>-353</td>\n",
       "      <td>318</td>\n",
       "      <td>671</td>\n",
       "    </tr>\n",
       "    <tr>\n",
       "      <th>16</th>\n",
       "      <td>11-15</td>\n",
       "      <td>-354</td>\n",
       "      <td>340</td>\n",
       "      <td>694</td>\n",
       "    </tr>\n",
       "    <tr>\n",
       "      <th>15</th>\n",
       "      <td>16-20</td>\n",
       "      <td>-367</td>\n",
       "      <td>430</td>\n",
       "      <td>797</td>\n",
       "    </tr>\n",
       "    <tr>\n",
       "      <th>14</th>\n",
       "      <td>21-25</td>\n",
       "      <td>-326</td>\n",
       "      <td>394</td>\n",
       "      <td>720</td>\n",
       "    </tr>\n",
       "    <tr>\n",
       "      <th>13</th>\n",
       "      <td>26-30</td>\n",
       "      <td>-336</td>\n",
       "      <td>366</td>\n",
       "      <td>702</td>\n",
       "    </tr>\n",
       "    <tr>\n",
       "      <th>12</th>\n",
       "      <td>31-35</td>\n",
       "      <td>-363</td>\n",
       "      <td>414</td>\n",
       "      <td>777</td>\n",
       "    </tr>\n",
       "    <tr>\n",
       "      <th>11</th>\n",
       "      <td>36-40</td>\n",
       "      <td>-359</td>\n",
       "      <td>418</td>\n",
       "      <td>777</td>\n",
       "    </tr>\n",
       "    <tr>\n",
       "      <th>10</th>\n",
       "      <td>41-45</td>\n",
       "      <td>-322</td>\n",
       "      <td>402</td>\n",
       "      <td>724</td>\n",
       "    </tr>\n",
       "    <tr>\n",
       "      <th>9</th>\n",
       "      <td>46-50</td>\n",
       "      <td>-292</td>\n",
       "      <td>362</td>\n",
       "      <td>654</td>\n",
       "    </tr>\n",
       "    <tr>\n",
       "      <th>8</th>\n",
       "      <td>51-55</td>\n",
       "      <td>-269</td>\n",
       "      <td>287</td>\n",
       "      <td>556</td>\n",
       "    </tr>\n",
       "    <tr>\n",
       "      <th>7</th>\n",
       "      <td>56-60</td>\n",
       "      <td>-267</td>\n",
       "      <td>263</td>\n",
       "      <td>530</td>\n",
       "    </tr>\n",
       "    <tr>\n",
       "      <th>6</th>\n",
       "      <td>61-65</td>\n",
       "      <td>-165</td>\n",
       "      <td>174</td>\n",
       "      <td>339</td>\n",
       "    </tr>\n",
       "    <tr>\n",
       "      <th>5</th>\n",
       "      <td>66-70</td>\n",
       "      <td>-131</td>\n",
       "      <td>174</td>\n",
       "      <td>305</td>\n",
       "    </tr>\n",
       "    <tr>\n",
       "      <th>4</th>\n",
       "      <td>71-75</td>\n",
       "      <td>-145</td>\n",
       "      <td>147</td>\n",
       "      <td>292</td>\n",
       "    </tr>\n",
       "    <tr>\n",
       "      <th>3</th>\n",
       "      <td>76-80</td>\n",
       "      <td>-92</td>\n",
       "      <td>84</td>\n",
       "      <td>176</td>\n",
       "    </tr>\n",
       "    <tr>\n",
       "      <th>2</th>\n",
       "      <td>81-85</td>\n",
       "      <td>-51</td>\n",
       "      <td>57</td>\n",
       "      <td>108</td>\n",
       "    </tr>\n",
       "    <tr>\n",
       "      <th>1</th>\n",
       "      <td>86-90</td>\n",
       "      <td>-25</td>\n",
       "      <td>23</td>\n",
       "      <td>48</td>\n",
       "    </tr>\n",
       "    <tr>\n",
       "      <th>0</th>\n",
       "      <td>90+</td>\n",
       "      <td>-15</td>\n",
       "      <td>16</td>\n",
       "      <td>31</td>\n",
       "    </tr>\n",
       "  </tbody>\n",
       "</table>\n",
       "</div>"
      ],
      "text/plain": [
       "   Age Group  Male  Female  Total Population\n",
       "18       0-5  -374     374               748\n",
       "17      6-10  -353     318               671\n",
       "16     11-15  -354     340               694\n",
       "15     16-20  -367     430               797\n",
       "14     21-25  -326     394               720\n",
       "13     26-30  -336     366               702\n",
       "12     31-35  -363     414               777\n",
       "11     36-40  -359     418               777\n",
       "10     41-45  -322     402               724\n",
       "9      46-50  -292     362               654\n",
       "8      51-55  -269     287               556\n",
       "7      56-60  -267     263               530\n",
       "6      61-65  -165     174               339\n",
       "5      66-70  -131     174               305\n",
       "4      71-75  -145     147               292\n",
       "3      76-80   -92      84               176\n",
       "2      81-85   -51      57               108\n",
       "1      86-90   -25      23                48\n",
       "0        90+   -15      16                31"
      ]
     },
     "execution_count": 153,
     "metadata": {},
     "output_type": "execute_result"
    }
   ],
   "source": [
    "pyramid_df"
   ]
  },
  {
   "cell_type": "markdown",
   "id": "41633092",
   "metadata": {},
   "source": [
    "### Birth and Death Rates"
   ]
  },
  {
   "cell_type": "markdown",
   "id": "fbd824f5",
   "metadata": {},
   "source": [
    "[Cohort Study](https://sociologydictionary.org/cohort-study/)\n",
    "\n",
    "[Age Specific Fertility Rate](https://www.statcan.gc.ca/en/dai/btd/asr)\n",
    "\n",
    "https://www.data4impactproject.org/prh/family-planning/fertility/age-specific-fertility-rates/\n",
    "\n",
    "[Conception ages/Fertility Age Group](https://www.ons.gov.uk/peoplepopulationandcommunity/birthsdeathsandmarriages/conceptionandfertilityrates/bulletins/conceptionstatistics/2020)\n",
    "    \n",
    "\n",
    "\n",
    "*Birth Rate* can be estimated from this data based on age specific fertility rate of the population. This could be done using a age-group cohort. This is done this way because the crude birth rate is calculated using `total resident live births` divided by the `total population`. The total resident live births, however is not captured in this data."
   ]
  },
  {
   "cell_type": "markdown",
   "id": "3cdcfa11",
   "metadata": {},
   "source": [
    "https://www-doh.state.nj.us/doh-shad/view/sharedstatic/CrudeBirthRate.pdf\n",
    "\n",
    "According to the office of National Statistics, high fertility age group is between age groups 26-30 and 31 -35. Therefore the first cohort would be calculated based on that age group. Women outside this group are fertile and are likely to give birth too. However, this assumption would give an average no of birth for the selected age group and this will be used to compare the previous cohort so that birth rate per 100000 of the population can be calculated. "
   ]
  },
  {
   "cell_type": "code",
   "execution_count": 154,
   "id": "21382698",
   "metadata": {},
   "outputs": [
    {
     "name": "stdout",
     "output_type": "stream",
     "text": [
      "There are 27,869 births per 100, 000 of the population\n"
     ]
    }
   ],
   "source": [
    "#current cohort 26- 30\n",
    "people_aged_zero = len(df[df['Age']==0])\n",
    "female_26_30 = len(df[(df['Age'].between(26, 30)) & (df['Gender'] == 'Female')])\n",
    "current_age_specific_f = (people_aged_zero/female_26_30) * 100_000\n",
    "\n",
    "print(f\"There are {current_age_specific_f:,.0f} births per 100, 000 of the population\")"
   ]
  },
  {
   "cell_type": "code",
   "execution_count": 155,
   "id": "91f778ba",
   "metadata": {},
   "outputs": [
    {
     "name": "stdout",
     "output_type": "stream",
     "text": [
      "There are 37,198 births per 100, 000 of the population\n"
     ]
    }
   ],
   "source": [
    "#current cohort 31- 35\n",
    "people_aged_five = len(df[df['Age']==5])\n",
    "female_31_35 = len(df[(df['Age'].between(31, 35)) & (df['Gender'] == 'Female')])\n",
    "previous_age_specific_f = (people_aged_five/female_31_35) * 100_000\n",
    "\n",
    "print(f\"There are {previous_age_specific_f:,.0f} births per 100, 000 of the population\")"
   ]
  },
  {
   "cell_type": "code",
   "execution_count": 156,
   "id": "cdd82201",
   "metadata": {},
   "outputs": [
    {
     "data": {
      "text/plain": [
       "-9329.215173833847"
      ]
     },
     "execution_count": 156,
     "metadata": {},
     "output_type": "execute_result"
    }
   ],
   "source": [
    "birth_rate = current_age_specific_f - previous_age_specific_f\n",
    "birth_rate"
   ]
  },
  {
   "cell_type": "code",
   "execution_count": 157,
   "id": "1c7a0374",
   "metadata": {},
   "outputs": [
    {
     "name": "stdout",
     "output_type": "stream",
     "text": [
      "Checking the difference in the cohorts, the birth rate is reducing by 9,329 people per 100,000 of the population annually.\n"
     ]
    }
   ],
   "source": [
    "print(f\"Checking the difference in the cohorts, the birth rate is reducing by {-1*(birth_rate):,.0f} people per 100,000 of the population annually.\")"
   ]
  },
  {
   "cell_type": "markdown",
   "id": "abc37789",
   "metadata": {},
   "source": [
    "### Death Rate"
   ]
  },
  {
   "cell_type": "markdown",
   "id": "bb686d66",
   "metadata": {},
   "source": [
    "Here too, Death rate will be calculated using **age specific mortality rate**. \n",
    "\n",
    "https://www.statcan.gc.ca/en/dai/btd/asr"
   ]
  },
  {
   "cell_type": "code",
   "execution_count": 158,
   "id": "6df9f9f0",
   "metadata": {},
   "outputs": [],
   "source": [
    "#calculating population difference\n",
    "pyramid_df['Diff'] = pyramid_df['Total Population'].diff(1)\n",
    "pyramid_df['% Change'] = pyramid_df['Total Population'].pct_change()*100"
   ]
  },
  {
   "cell_type": "code",
   "execution_count": 159,
   "id": "e371303f",
   "metadata": {},
   "outputs": [
    {
     "data": {
      "text/html": [
       "<div>\n",
       "<style scoped>\n",
       "    .dataframe tbody tr th:only-of-type {\n",
       "        vertical-align: middle;\n",
       "    }\n",
       "\n",
       "    .dataframe tbody tr th {\n",
       "        vertical-align: top;\n",
       "    }\n",
       "\n",
       "    .dataframe thead th {\n",
       "        text-align: right;\n",
       "    }\n",
       "</style>\n",
       "<table border=\"1\" class=\"dataframe\">\n",
       "  <thead>\n",
       "    <tr style=\"text-align: right;\">\n",
       "      <th></th>\n",
       "      <th>Age Group</th>\n",
       "      <th>Male</th>\n",
       "      <th>Female</th>\n",
       "      <th>Total Population</th>\n",
       "      <th>Diff</th>\n",
       "      <th>% Change</th>\n",
       "    </tr>\n",
       "  </thead>\n",
       "  <tbody>\n",
       "    <tr>\n",
       "      <th>18</th>\n",
       "      <td>0-5</td>\n",
       "      <td>-374</td>\n",
       "      <td>374</td>\n",
       "      <td>748</td>\n",
       "      <td>NaN</td>\n",
       "      <td>NaN</td>\n",
       "    </tr>\n",
       "    <tr>\n",
       "      <th>17</th>\n",
       "      <td>6-10</td>\n",
       "      <td>-353</td>\n",
       "      <td>318</td>\n",
       "      <td>671</td>\n",
       "      <td>-77.0</td>\n",
       "      <td>-10.294118</td>\n",
       "    </tr>\n",
       "    <tr>\n",
       "      <th>16</th>\n",
       "      <td>11-15</td>\n",
       "      <td>-354</td>\n",
       "      <td>340</td>\n",
       "      <td>694</td>\n",
       "      <td>23.0</td>\n",
       "      <td>3.427720</td>\n",
       "    </tr>\n",
       "    <tr>\n",
       "      <th>15</th>\n",
       "      <td>16-20</td>\n",
       "      <td>-367</td>\n",
       "      <td>430</td>\n",
       "      <td>797</td>\n",
       "      <td>103.0</td>\n",
       "      <td>14.841499</td>\n",
       "    </tr>\n",
       "    <tr>\n",
       "      <th>14</th>\n",
       "      <td>21-25</td>\n",
       "      <td>-326</td>\n",
       "      <td>394</td>\n",
       "      <td>720</td>\n",
       "      <td>-77.0</td>\n",
       "      <td>-9.661230</td>\n",
       "    </tr>\n",
       "    <tr>\n",
       "      <th>13</th>\n",
       "      <td>26-30</td>\n",
       "      <td>-336</td>\n",
       "      <td>366</td>\n",
       "      <td>702</td>\n",
       "      <td>-18.0</td>\n",
       "      <td>-2.500000</td>\n",
       "    </tr>\n",
       "    <tr>\n",
       "      <th>12</th>\n",
       "      <td>31-35</td>\n",
       "      <td>-363</td>\n",
       "      <td>414</td>\n",
       "      <td>777</td>\n",
       "      <td>75.0</td>\n",
       "      <td>10.683761</td>\n",
       "    </tr>\n",
       "    <tr>\n",
       "      <th>11</th>\n",
       "      <td>36-40</td>\n",
       "      <td>-359</td>\n",
       "      <td>418</td>\n",
       "      <td>777</td>\n",
       "      <td>0.0</td>\n",
       "      <td>0.000000</td>\n",
       "    </tr>\n",
       "    <tr>\n",
       "      <th>10</th>\n",
       "      <td>41-45</td>\n",
       "      <td>-322</td>\n",
       "      <td>402</td>\n",
       "      <td>724</td>\n",
       "      <td>-53.0</td>\n",
       "      <td>-6.821107</td>\n",
       "    </tr>\n",
       "    <tr>\n",
       "      <th>9</th>\n",
       "      <td>46-50</td>\n",
       "      <td>-292</td>\n",
       "      <td>362</td>\n",
       "      <td>654</td>\n",
       "      <td>-70.0</td>\n",
       "      <td>-9.668508</td>\n",
       "    </tr>\n",
       "    <tr>\n",
       "      <th>8</th>\n",
       "      <td>51-55</td>\n",
       "      <td>-269</td>\n",
       "      <td>287</td>\n",
       "      <td>556</td>\n",
       "      <td>-98.0</td>\n",
       "      <td>-14.984709</td>\n",
       "    </tr>\n",
       "    <tr>\n",
       "      <th>7</th>\n",
       "      <td>56-60</td>\n",
       "      <td>-267</td>\n",
       "      <td>263</td>\n",
       "      <td>530</td>\n",
       "      <td>-26.0</td>\n",
       "      <td>-4.676259</td>\n",
       "    </tr>\n",
       "    <tr>\n",
       "      <th>6</th>\n",
       "      <td>61-65</td>\n",
       "      <td>-165</td>\n",
       "      <td>174</td>\n",
       "      <td>339</td>\n",
       "      <td>-191.0</td>\n",
       "      <td>-36.037736</td>\n",
       "    </tr>\n",
       "    <tr>\n",
       "      <th>5</th>\n",
       "      <td>66-70</td>\n",
       "      <td>-131</td>\n",
       "      <td>174</td>\n",
       "      <td>305</td>\n",
       "      <td>-34.0</td>\n",
       "      <td>-10.029499</td>\n",
       "    </tr>\n",
       "    <tr>\n",
       "      <th>4</th>\n",
       "      <td>71-75</td>\n",
       "      <td>-145</td>\n",
       "      <td>147</td>\n",
       "      <td>292</td>\n",
       "      <td>-13.0</td>\n",
       "      <td>-4.262295</td>\n",
       "    </tr>\n",
       "    <tr>\n",
       "      <th>3</th>\n",
       "      <td>76-80</td>\n",
       "      <td>-92</td>\n",
       "      <td>84</td>\n",
       "      <td>176</td>\n",
       "      <td>-116.0</td>\n",
       "      <td>-39.726027</td>\n",
       "    </tr>\n",
       "    <tr>\n",
       "      <th>2</th>\n",
       "      <td>81-85</td>\n",
       "      <td>-51</td>\n",
       "      <td>57</td>\n",
       "      <td>108</td>\n",
       "      <td>-68.0</td>\n",
       "      <td>-38.636364</td>\n",
       "    </tr>\n",
       "    <tr>\n",
       "      <th>1</th>\n",
       "      <td>86-90</td>\n",
       "      <td>-25</td>\n",
       "      <td>23</td>\n",
       "      <td>48</td>\n",
       "      <td>-60.0</td>\n",
       "      <td>-55.555556</td>\n",
       "    </tr>\n",
       "    <tr>\n",
       "      <th>0</th>\n",
       "      <td>90+</td>\n",
       "      <td>-15</td>\n",
       "      <td>16</td>\n",
       "      <td>31</td>\n",
       "      <td>-17.0</td>\n",
       "      <td>-35.416667</td>\n",
       "    </tr>\n",
       "  </tbody>\n",
       "</table>\n",
       "</div>"
      ],
      "text/plain": [
       "   Age Group  Male  Female  Total Population   Diff   % Change\n",
       "18       0-5  -374     374               748    NaN        NaN\n",
       "17      6-10  -353     318               671  -77.0 -10.294118\n",
       "16     11-15  -354     340               694   23.0   3.427720\n",
       "15     16-20  -367     430               797  103.0  14.841499\n",
       "14     21-25  -326     394               720  -77.0  -9.661230\n",
       "13     26-30  -336     366               702  -18.0  -2.500000\n",
       "12     31-35  -363     414               777   75.0  10.683761\n",
       "11     36-40  -359     418               777    0.0   0.000000\n",
       "10     41-45  -322     402               724  -53.0  -6.821107\n",
       "9      46-50  -292     362               654  -70.0  -9.668508\n",
       "8      51-55  -269     287               556  -98.0 -14.984709\n",
       "7      56-60  -267     263               530  -26.0  -4.676259\n",
       "6      61-65  -165     174               339 -191.0 -36.037736\n",
       "5      66-70  -131     174               305  -34.0 -10.029499\n",
       "4      71-75  -145     147               292  -13.0  -4.262295\n",
       "3      76-80   -92      84               176 -116.0 -39.726027\n",
       "2      81-85   -51      57               108  -68.0 -38.636364\n",
       "1      86-90   -25      23                48  -60.0 -55.555556\n",
       "0        90+   -15      16                31  -17.0 -35.416667"
      ]
     },
     "execution_count": 159,
     "metadata": {},
     "output_type": "execute_result"
    }
   ],
   "source": [
    "pyramid_df"
   ]
  },
  {
   "cell_type": "code",
   "execution_count": 160,
   "id": "1fe6c694",
   "metadata": {},
   "outputs": [
    {
     "data": {
      "text/html": [
       "<div>\n",
       "<style scoped>\n",
       "    .dataframe tbody tr th:only-of-type {\n",
       "        vertical-align: middle;\n",
       "    }\n",
       "\n",
       "    .dataframe tbody tr th {\n",
       "        vertical-align: top;\n",
       "    }\n",
       "\n",
       "    .dataframe thead th {\n",
       "        text-align: right;\n",
       "    }\n",
       "</style>\n",
       "<table border=\"1\" class=\"dataframe\">\n",
       "  <thead>\n",
       "    <tr style=\"text-align: right;\">\n",
       "      <th></th>\n",
       "      <th>Age Group</th>\n",
       "      <th>Male</th>\n",
       "      <th>Female</th>\n",
       "      <th>Total Population</th>\n",
       "      <th>Diff</th>\n",
       "      <th>% Change</th>\n",
       "    </tr>\n",
       "  </thead>\n",
       "  <tbody>\n",
       "    <tr>\n",
       "      <th>3</th>\n",
       "      <td>76-80</td>\n",
       "      <td>-92</td>\n",
       "      <td>84</td>\n",
       "      <td>176</td>\n",
       "      <td>-116.0</td>\n",
       "      <td>-39.726027</td>\n",
       "    </tr>\n",
       "    <tr>\n",
       "      <th>2</th>\n",
       "      <td>81-85</td>\n",
       "      <td>-51</td>\n",
       "      <td>57</td>\n",
       "      <td>108</td>\n",
       "      <td>-68.0</td>\n",
       "      <td>-38.636364</td>\n",
       "    </tr>\n",
       "    <tr>\n",
       "      <th>1</th>\n",
       "      <td>86-90</td>\n",
       "      <td>-25</td>\n",
       "      <td>23</td>\n",
       "      <td>48</td>\n",
       "      <td>-60.0</td>\n",
       "      <td>-55.555556</td>\n",
       "    </tr>\n",
       "    <tr>\n",
       "      <th>0</th>\n",
       "      <td>90+</td>\n",
       "      <td>-15</td>\n",
       "      <td>16</td>\n",
       "      <td>31</td>\n",
       "      <td>-17.0</td>\n",
       "      <td>-35.416667</td>\n",
       "    </tr>\n",
       "  </tbody>\n",
       "</table>\n",
       "</div>"
      ],
      "text/plain": [
       "  Age Group  Male  Female  Total Population   Diff   % Change\n",
       "3     76-80   -92      84               176 -116.0 -39.726027\n",
       "2     81-85   -51      57               108  -68.0 -38.636364\n",
       "1     86-90   -25      23                48  -60.0 -55.555556\n",
       "0       90+   -15      16                31  -17.0 -35.416667"
      ]
     },
     "execution_count": 160,
     "metadata": {},
     "output_type": "execute_result"
    }
   ],
   "source": [
    "#frame of interest\n",
    "\n",
    "pyramid_df.iloc[15:]"
   ]
  },
  {
   "cell_type": "code",
   "execution_count": 161,
   "id": "585dd7a0",
   "metadata": {},
   "outputs": [
    {
     "data": {
      "text/plain": [
       "116.0"
      ]
     },
     "execution_count": 161,
     "metadata": {},
     "output_type": "execute_result"
    }
   ],
   "source": [
    "#current cohort\n",
    "current_mortality = np.abs(pyramid_df.iloc[15,4])\n",
    "current_mortality"
   ]
  },
  {
   "cell_type": "code",
   "execution_count": 162,
   "id": "3e9e8f7e",
   "metadata": {},
   "outputs": [
    {
     "data": {
      "text/plain": [
       "292"
      ]
     },
     "execution_count": 162,
     "metadata": {},
     "output_type": "execute_result"
    }
   ],
   "source": [
    "current_population = pyramid_df.iloc[14, 3]\n",
    "current_population"
   ]
  },
  {
   "cell_type": "code",
   "execution_count": 163,
   "id": "731390f9",
   "metadata": {},
   "outputs": [
    {
     "data": {
      "text/plain": [
       "7945.205479452054"
      ]
     },
     "execution_count": 163,
     "metadata": {},
     "output_type": "execute_result"
    }
   ],
   "source": [
    "#current age specific mortality rate\n",
    "\n",
    "current_age_mortality = ((current_mortality/5)/current_population) * 100_000\n",
    "current_age_mortality"
   ]
  },
  {
   "cell_type": "code",
   "execution_count": 164,
   "id": "60c81c32",
   "metadata": {},
   "outputs": [
    {
     "name": "stdout",
     "output_type": "stream",
     "text": [
      "There are 7,945 deaths per 100,000 of the population\n"
     ]
    }
   ],
   "source": [
    "print(f\"There are {current_age_mortality:,.0f} deaths per 100,000 of the population\")"
   ]
  },
  {
   "cell_type": "code",
   "execution_count": 165,
   "id": "fb1f27ce",
   "metadata": {},
   "outputs": [
    {
     "data": {
      "text/plain": [
       "60.0"
      ]
     },
     "execution_count": 165,
     "metadata": {},
     "output_type": "execute_result"
    }
   ],
   "source": [
    "previous_mortality = np.abs(pyramid_df.iloc[17, 4])\n",
    "previous_mortality"
   ]
  },
  {
   "cell_type": "code",
   "execution_count": 166,
   "id": "945f8035",
   "metadata": {},
   "outputs": [
    {
     "data": {
      "text/plain": [
       "108"
      ]
     },
     "execution_count": 166,
     "metadata": {},
     "output_type": "execute_result"
    }
   ],
   "source": [
    "previous_population = pyramid_df.iloc[16,3]\n",
    "previous_population"
   ]
  },
  {
   "cell_type": "code",
   "execution_count": 167,
   "id": "1f028abc",
   "metadata": {},
   "outputs": [
    {
     "data": {
      "text/plain": [
       "11111.111111111111"
      ]
     },
     "execution_count": 167,
     "metadata": {},
     "output_type": "execute_result"
    }
   ],
   "source": [
    "previous_age_mortality = ((previous_mortality/5)/previous_population) * 100_000\n",
    "previous_age_mortality"
   ]
  },
  {
   "cell_type": "code",
   "execution_count": 168,
   "id": "90303279",
   "metadata": {},
   "outputs": [
    {
     "name": "stdout",
     "output_type": "stream",
     "text": [
      "There are 11,111 deaths per 100,000 of the population\n"
     ]
    }
   ],
   "source": [
    "print(f\"There are {previous_age_mortality:,.0f} deaths per 100,000 of the population\")"
   ]
  },
  {
   "cell_type": "code",
   "execution_count": 169,
   "id": "902a658d",
   "metadata": {},
   "outputs": [
    {
     "data": {
      "text/plain": [
       "-3165.9056316590577"
      ]
     },
     "execution_count": 169,
     "metadata": {},
     "output_type": "execute_result"
    }
   ],
   "source": [
    "death_rate = current_age_mortality - previous_age_mortality\n",
    "death_rate"
   ]
  },
  {
   "cell_type": "code",
   "execution_count": 170,
   "id": "e934c084",
   "metadata": {},
   "outputs": [
    {
     "name": "stdout",
     "output_type": "stream",
     "text": [
      "Comparing the two cohorts, the death rate is reducing by 3,166 people per 100,000 of the population annually.\n"
     ]
    }
   ],
   "source": [
    "print(f\"Comparing the two cohorts, the death rate is reducing by {-1*(death_rate):,.0f} people per 100,000 of the population annually.\")"
   ]
  },
  {
   "cell_type": "markdown",
   "id": "9f5cdf01",
   "metadata": {},
   "source": [
    "#### Unemployment Trends:"
   ]
  },
  {
   "cell_type": "code",
   "execution_count": 171,
   "id": "16377757",
   "metadata": {
    "scrolled": true
   },
   "outputs": [
    {
     "data": {
      "image/png": "[encoded data removed]",
      "text/plain": [
       "<Figure size 1000x800 with 1 Axes>"
      ]
     },
     "metadata": {},
     "output_type": "display_data"
    }
   ],
   "source": [
    "\n",
    "fig = plt.figure(figsize=(10,8))\n",
    "employment_status = sns.countplot(x=\"Employment Status\", data=df)\n",
    "employment_status.set_ylabel(\"No. of People\")\n",
    "plt.title(\"Employment Status Distribution\")\n",
    "plt.savefig(\"./graphs/Employment Staus Distribtion\")\n",
    "plt.show()"
   ]
  },
  {
   "cell_type": "code",
   "execution_count": 172,
   "id": "261b9f7e",
   "metadata": {
    "scrolled": true
   },
   "outputs": [
    {
     "data": {
      "image/png": "[encoded data removed]",
      "text/plain": [
       "<Figure size 1000x800 with 1 Axes>"
      ]
     },
     "metadata": {},
     "output_type": "display_data"
    }
   ],
   "source": [
    "\n",
    "fig = plt.figure(figsize=(10,8))\n",
    "employment_status = sns.countplot(y=\"Employment Status\", data=df, orient=\"h\")\n",
    "employment_status.set_ylabel(\"No. of People\")\n",
    "plt.title(\"Employment Status Distribution\")\n",
    "plt.savefig(\"./graphs/Employment Staus Distribtion\")\n",
    "plt.show()"
   ]
  },
  {
   "cell_type": "code",
   "execution_count": 173,
   "id": "845c61a0",
   "metadata": {},
   "outputs": [
    {
     "data": {
      "text/plain": [
       "House Number                     2\n",
       "Street                           2\n",
       "First Name                       2\n",
       "Last Name                        2\n",
       "Age                              2\n",
       "Relationship to Head of House    2\n",
       "Marital Status                   2\n",
       "Gender                           2\n",
       "Occupation                       2\n",
       "Infirmity                        2\n",
       "Religion                         2\n",
       "Employment Status                2\n",
       "Age Group                        2\n",
       "dtype: int64"
      ]
     },
     "execution_count": 173,
     "metadata": {},
     "output_type": "execute_result"
    }
   ],
   "source": [
    "df.loc[(df['Employment Status'] == 'Unemployed') & ((df['Age'] > 18) & (df['Age'] < 60)) ].count()"
   ]
  },
  {
   "cell_type": "code",
   "execution_count": 174,
   "id": "9d02dae9",
   "metadata": {},
   "outputs": [
    {
     "data": {
      "text/plain": [
       "Employed              58.866204\n",
       "Student               20.043528\n",
       "Retired                7.990465\n",
       "University Student     6.922997\n",
       "Child                  6.156078\n",
       "Unemployed             0.020728\n",
       "Name: Employment Status, dtype: float64"
      ]
     },
     "execution_count": 174,
     "metadata": {},
     "output_type": "execute_result"
    }
   ],
   "source": [
    "df['Employment Status'].value_counts() / len(df) * 100"
   ]
  },
  {
   "cell_type": "markdown",
   "id": "200da2e4",
   "metadata": {},
   "source": [
    "#### Religious Affiliations:"
   ]
  },
  {
   "cell_type": "code",
   "execution_count": 175,
   "id": "409684c7",
   "metadata": {},
   "outputs": [
    {
     "data": {
      "image/png": "[encoded data removed]",
      "text/plain": [
       "<Figure size 1000x800 with 1 Axes>"
      ]
     },
     "metadata": {},
     "output_type": "display_data"
    }
   ],
   "source": [
    "fig = plt.figure(figsize=(10,8))\n",
    "\n",
    "religion = sns.countplot(y='Religion',data=df, orient=\"h\")\n",
    "religion.set_xlabel(\"No. of People\")\n",
    "\n",
    "religion.set_title(\"Religion Distribtion\")\n",
    "plt.savefig(\"./graphs/Religion\")\n",
    "plt.show()"
   ]
  },
  {
   "cell_type": "code",
   "execution_count": 176,
   "id": "015d5188",
   "metadata": {},
   "outputs": [
    {
     "data": {
      "image/png": "[encoded data removed]",
      "text/plain": [
       "<Figure size 640x480 with 1 Axes>"
      ]
     },
     "metadata": {},
     "output_type": "display_data"
    }
   ],
   "source": [
    "ax2 = sns.boxplot(y='Religion', x='Age', data=df, orient=\"h\")\n",
    "ax2.set_title(\"Age Distribtion by Religion\")\n",
    "plt.savefig(\"./graphs/Religion-Age\")\n",
    "plt.show()"
   ]
  },
  {
   "cell_type": "markdown",
   "id": "6bfd1885",
   "metadata": {},
   "source": [
    "#### Divorce & Marriage Rates:"
   ]
  },
  {
   "cell_type": "code",
   "execution_count": 177,
   "id": "2ed64c6b",
   "metadata": {},
   "outputs": [
    {
     "data": {
      "image/png": "[encoded data removed]",
      "text/plain": [
       "<Figure size 1000x800 with 1 Axes>"
      ]
     },
     "metadata": {},
     "output_type": "display_data"
    }
   ],
   "source": [
    "fig = plt.figure(figsize=(10,8))\n",
    "marital_status = sns.countplot(x=\"Marital Status\", data=df)\n",
    "marital_status.set_ylabel(\"No. of People\")\n",
    "plt.title(\"Marital Status Distribution\")\n",
    "plt.show()"
   ]
  },
  {
   "cell_type": "code",
   "execution_count": 178,
   "id": "f284dcc6",
   "metadata": {},
   "outputs": [
    {
     "data": {
      "text/plain": [
       "Single      35.910457\n",
       "Married     25.826511\n",
       "Minor       24.810861\n",
       "Divorced     9.368847\n",
       "Widowed      4.083325\n",
       "Name: Marital Status, dtype: float64"
      ]
     },
     "execution_count": 178,
     "metadata": {},
     "output_type": "execute_result"
    }
   ],
   "source": [
    "df['Marital Status'].value_counts() / len(df) * 100"
   ]
  },
  {
   "cell_type": "code",
   "execution_count": 179,
   "id": "d1809c02",
   "metadata": {},
   "outputs": [
    {
     "data": {
      "image/png": "[encoded data removed]",
      "text/plain": [
       "<Figure size 1313.5x800 with 1 Axes>"
      ]
     },
     "metadata": {},
     "output_type": "display_data"
    }
   ],
   "source": [
    "## Age distribution by Marital status\n",
    "age_marital_status = sns.displot(x='Age', data=df, hue='Marital Status', multiple='stack', height=8, aspect=1.5)\n",
    "plt.title(\"Age by Marital Status Distribution\")\n",
    "age_marital_status.savefig('./graphs/Age-Marital Distribution')\n",
    "plt.show()"
   ]
  },
  {
   "cell_type": "markdown",
   "id": "b03591f4",
   "metadata": {},
   "source": [
    "#### Occupancy Level:"
   ]
  },
  {
   "cell_type": "code",
   "execution_count": 180,
   "id": "ba48d3c8",
   "metadata": {},
   "outputs": [],
   "source": [
    "df['Address'] = df['House Number'].astype(str) + ' ' +  df['Street']\n",
    "\n",
    "per_household_df = df.groupby([\"Address\"]).size().reset_index(name=\"No of Occupants\")\n",
    "# new_df = df.groupby('Address', as_index=False).count()[['House Number', 'Address']]"
   ]
  },
  {
   "cell_type": "code",
   "execution_count": 181,
   "id": "9dd7e5e3",
   "metadata": {},
   "outputs": [
    {
     "data": {
      "text/html": [
       "<div>\n",
       "<style scoped>\n",
       "    .dataframe tbody tr th:only-of-type {\n",
       "        vertical-align: middle;\n",
       "    }\n",
       "\n",
       "    .dataframe tbody tr th {\n",
       "        vertical-align: top;\n",
       "    }\n",
       "\n",
       "    .dataframe thead th {\n",
       "        text-align: right;\n",
       "    }\n",
       "</style>\n",
       "<table border=\"1\" class=\"dataframe\">\n",
       "  <thead>\n",
       "    <tr style=\"text-align: right;\">\n",
       "      <th></th>\n",
       "      <th>Address</th>\n",
       "      <th>No of Occupants</th>\n",
       "    </tr>\n",
       "  </thead>\n",
       "  <tbody>\n",
       "    <tr>\n",
       "      <th>0</th>\n",
       "      <td>1 Ali Harbors</td>\n",
       "      <td>2</td>\n",
       "    </tr>\n",
       "    <tr>\n",
       "      <th>1</th>\n",
       "      <td>1 Armagh Longhouse</td>\n",
       "      <td>5</td>\n",
       "    </tr>\n",
       "    <tr>\n",
       "      <th>2</th>\n",
       "      <td>1 Ashton Corner</td>\n",
       "      <td>1</td>\n",
       "    </tr>\n",
       "    <tr>\n",
       "      <th>3</th>\n",
       "      <td>1 Ball Rest</td>\n",
       "      <td>4</td>\n",
       "    </tr>\n",
       "    <tr>\n",
       "      <th>4</th>\n",
       "      <td>1 Barrett Circles</td>\n",
       "      <td>5</td>\n",
       "    </tr>\n",
       "    <tr>\n",
       "      <th>...</th>\n",
       "      <td>...</td>\n",
       "      <td>...</td>\n",
       "    </tr>\n",
       "    <tr>\n",
       "      <th>3303</th>\n",
       "      <td>99 Barrett Circles</td>\n",
       "      <td>5</td>\n",
       "    </tr>\n",
       "    <tr>\n",
       "      <th>3304</th>\n",
       "      <td>99 Canary Glen</td>\n",
       "      <td>4</td>\n",
       "    </tr>\n",
       "    <tr>\n",
       "      <th>3305</th>\n",
       "      <td>99 Wales Parks</td>\n",
       "      <td>4</td>\n",
       "    </tr>\n",
       "    <tr>\n",
       "      <th>3306</th>\n",
       "      <td>99 West Road</td>\n",
       "      <td>4</td>\n",
       "    </tr>\n",
       "    <tr>\n",
       "      <th>3307</th>\n",
       "      <td>99 Wood Extensions</td>\n",
       "      <td>2</td>\n",
       "    </tr>\n",
       "  </tbody>\n",
       "</table>\n",
       "<p>3308 rows × 2 columns</p>\n",
       "</div>"
      ],
      "text/plain": [
       "                 Address  No of Occupants\n",
       "0          1 Ali Harbors                2\n",
       "1     1 Armagh Longhouse                5\n",
       "2        1 Ashton Corner                1\n",
       "3            1 Ball Rest                4\n",
       "4      1 Barrett Circles                5\n",
       "...                  ...              ...\n",
       "3303  99 Barrett Circles                5\n",
       "3304      99 Canary Glen                4\n",
       "3305      99 Wales Parks                4\n",
       "3306        99 West Road                4\n",
       "3307  99 Wood Extensions                2\n",
       "\n",
       "[3308 rows x 2 columns]"
      ]
     },
     "execution_count": 181,
     "metadata": {},
     "output_type": "execute_result"
    }
   ],
   "source": [
    "per_household_df"
   ]
  },
  {
   "cell_type": "code",
   "execution_count": 182,
   "id": "aa8d6833",
   "metadata": {},
   "outputs": [
    {
     "data": {
      "image/png": "[encoded data removed]",
      "text/plain": [
       "<Figure size 800x800 with 1 Axes>"
      ]
     },
     "metadata": {},
     "output_type": "display_data"
    }
   ],
   "source": [
    "#no. of occupants distribution\n",
    "no_occupants = sns.displot(x=\"No of Occupants\", data=per_household_df, binwidth=1, height=8, aspect=1.0)\n",
    "plt.ylabel(\"No. of Houses\")\n",
    "plt.title(\"No. of Houses by No. of Occupants\")\n",
    "no_occupants.savefig(\"./graphs/Occupants-Houses\")\n",
    "plt.show()"
   ]
  },
  {
   "cell_type": "code",
   "execution_count": 183,
   "id": "4705bd31",
   "metadata": {},
   "outputs": [
    {
     "data": {
      "text/html": [
       "<div>\n",
       "<style scoped>\n",
       "    .dataframe tbody tr th:only-of-type {\n",
       "        vertical-align: middle;\n",
       "    }\n",
       "\n",
       "    .dataframe tbody tr th {\n",
       "        vertical-align: top;\n",
       "    }\n",
       "\n",
       "    .dataframe thead th {\n",
       "        text-align: right;\n",
       "    }\n",
       "</style>\n",
       "<table border=\"1\" class=\"dataframe\">\n",
       "  <thead>\n",
       "    <tr style=\"text-align: right;\">\n",
       "      <th></th>\n",
       "      <th>Address</th>\n",
       "    </tr>\n",
       "    <tr>\n",
       "      <th>No of Occupants</th>\n",
       "      <th></th>\n",
       "    </tr>\n",
       "  </thead>\n",
       "  <tbody>\n",
       "    <tr>\n",
       "      <th>1</th>\n",
       "      <td>27.085852</td>\n",
       "    </tr>\n",
       "    <tr>\n",
       "      <th>2</th>\n",
       "      <td>23.518742</td>\n",
       "    </tr>\n",
       "    <tr>\n",
       "      <th>3</th>\n",
       "      <td>16.233374</td>\n",
       "    </tr>\n",
       "    <tr>\n",
       "      <th>4</th>\n",
       "      <td>17.261185</td>\n",
       "    </tr>\n",
       "    <tr>\n",
       "      <th>5</th>\n",
       "      <td>10.217654</td>\n",
       "    </tr>\n",
       "    <tr>\n",
       "      <th>6</th>\n",
       "      <td>2.871826</td>\n",
       "    </tr>\n",
       "    <tr>\n",
       "      <th>7</th>\n",
       "      <td>0.544135</td>\n",
       "    </tr>\n",
       "    <tr>\n",
       "      <th>8</th>\n",
       "      <td>0.272068</td>\n",
       "    </tr>\n",
       "    <tr>\n",
       "      <th>9</th>\n",
       "      <td>0.302297</td>\n",
       "    </tr>\n",
       "    <tr>\n",
       "      <th>10</th>\n",
       "      <td>0.211608</td>\n",
       "    </tr>\n",
       "    <tr>\n",
       "      <th>11</th>\n",
       "      <td>0.453446</td>\n",
       "    </tr>\n",
       "    <tr>\n",
       "      <th>12</th>\n",
       "      <td>0.483676</td>\n",
       "    </tr>\n",
       "    <tr>\n",
       "      <th>13</th>\n",
       "      <td>0.030230</td>\n",
       "    </tr>\n",
       "    <tr>\n",
       "      <th>15</th>\n",
       "      <td>0.030230</td>\n",
       "    </tr>\n",
       "    <tr>\n",
       "      <th>16</th>\n",
       "      <td>0.090689</td>\n",
       "    </tr>\n",
       "    <tr>\n",
       "      <th>17</th>\n",
       "      <td>0.090689</td>\n",
       "    </tr>\n",
       "    <tr>\n",
       "      <th>18</th>\n",
       "      <td>0.060459</td>\n",
       "    </tr>\n",
       "    <tr>\n",
       "      <th>19</th>\n",
       "      <td>0.060459</td>\n",
       "    </tr>\n",
       "    <tr>\n",
       "      <th>20</th>\n",
       "      <td>0.060459</td>\n",
       "    </tr>\n",
       "    <tr>\n",
       "      <th>21</th>\n",
       "      <td>0.060459</td>\n",
       "    </tr>\n",
       "    <tr>\n",
       "      <th>22</th>\n",
       "      <td>0.060459</td>\n",
       "    </tr>\n",
       "  </tbody>\n",
       "</table>\n",
       "</div>"
      ],
      "text/plain": [
       "                   Address\n",
       "No of Occupants           \n",
       "1                27.085852\n",
       "2                23.518742\n",
       "3                16.233374\n",
       "4                17.261185\n",
       "5                10.217654\n",
       "6                 2.871826\n",
       "7                 0.544135\n",
       "8                 0.272068\n",
       "9                 0.302297\n",
       "10                0.211608\n",
       "11                0.453446\n",
       "12                0.483676\n",
       "13                0.030230\n",
       "15                0.030230\n",
       "16                0.090689\n",
       "17                0.090689\n",
       "18                0.060459\n",
       "19                0.060459\n",
       "20                0.060459\n",
       "21                0.060459\n",
       "22                0.060459"
      ]
     },
     "execution_count": 183,
     "metadata": {},
     "output_type": "execute_result"
    }
   ],
   "source": [
    "per_household_df.groupby('No of Occupants').count()/len(per_household_df)*100"
   ]
  },
  {
   "cell_type": "code",
   "execution_count": 184,
   "id": "7fcedf20",
   "metadata": {},
   "outputs": [],
   "source": [
    "df = df.merge(per_household_df, on='Address')"
   ]
  },
  {
   "cell_type": "code",
   "execution_count": 185,
   "id": "4a445966",
   "metadata": {},
   "outputs": [
    {
     "data": {
      "text/html": [
       "<div>\n",
       "<style scoped>\n",
       "    .dataframe tbody tr th:only-of-type {\n",
       "        vertical-align: middle;\n",
       "    }\n",
       "\n",
       "    .dataframe tbody tr th {\n",
       "        vertical-align: top;\n",
       "    }\n",
       "\n",
       "    .dataframe thead th {\n",
       "        text-align: right;\n",
       "    }\n",
       "</style>\n",
       "<table border=\"1\" class=\"dataframe\">\n",
       "  <thead>\n",
       "    <tr style=\"text-align: right;\">\n",
       "      <th></th>\n",
       "      <th>House Number</th>\n",
       "      <th>Street</th>\n",
       "      <th>First Name</th>\n",
       "      <th>Last Name</th>\n",
       "      <th>Age</th>\n",
       "      <th>Relationship to Head of House</th>\n",
       "      <th>Marital Status</th>\n",
       "      <th>Gender</th>\n",
       "      <th>Occupation</th>\n",
       "      <th>Infirmity</th>\n",
       "      <th>Religion</th>\n",
       "      <th>Employment Status</th>\n",
       "      <th>Age Group</th>\n",
       "      <th>Address</th>\n",
       "      <th>No of Occupants</th>\n",
       "    </tr>\n",
       "  </thead>\n",
       "  <tbody>\n",
       "    <tr>\n",
       "      <th>0</th>\n",
       "      <td>1</td>\n",
       "      <td>Orryjar Lane</td>\n",
       "      <td>Kieran</td>\n",
       "      <td>Ward</td>\n",
       "      <td>56</td>\n",
       "      <td>Head</td>\n",
       "      <td>Single</td>\n",
       "      <td>Male</td>\n",
       "      <td>Careers adviser</td>\n",
       "      <td>No Disability</td>\n",
       "      <td>Catholic</td>\n",
       "      <td>Employed</td>\n",
       "      <td>56-60</td>\n",
       "      <td>1 Orryjar Lane</td>\n",
       "      <td>2</td>\n",
       "    </tr>\n",
       "    <tr>\n",
       "      <th>1</th>\n",
       "      <td>1</td>\n",
       "      <td>Orryjar Lane</td>\n",
       "      <td>Abdul</td>\n",
       "      <td>Pickering</td>\n",
       "      <td>43</td>\n",
       "      <td>None</td>\n",
       "      <td>Single</td>\n",
       "      <td>Male</td>\n",
       "      <td>Public relations account executive</td>\n",
       "      <td>No Disability</td>\n",
       "      <td>Christian</td>\n",
       "      <td>Employed</td>\n",
       "      <td>41-45</td>\n",
       "      <td>1 Orryjar Lane</td>\n",
       "      <td>2</td>\n",
       "    </tr>\n",
       "    <tr>\n",
       "      <th>2</th>\n",
       "      <td>2</td>\n",
       "      <td>Orryjar Lane</td>\n",
       "      <td>Rosemary</td>\n",
       "      <td>Steele</td>\n",
       "      <td>30</td>\n",
       "      <td>Head</td>\n",
       "      <td>Single</td>\n",
       "      <td>Female</td>\n",
       "      <td>Meteorologist</td>\n",
       "      <td>No Disability</td>\n",
       "      <td>Christian</td>\n",
       "      <td>Employed</td>\n",
       "      <td>26-30</td>\n",
       "      <td>2 Orryjar Lane</td>\n",
       "      <td>1</td>\n",
       "    </tr>\n",
       "    <tr>\n",
       "      <th>3</th>\n",
       "      <td>3</td>\n",
       "      <td>Orryjar Lane</td>\n",
       "      <td>Marilyn</td>\n",
       "      <td>Cooke</td>\n",
       "      <td>53</td>\n",
       "      <td>Head</td>\n",
       "      <td>Single</td>\n",
       "      <td>Female</td>\n",
       "      <td>Jewellery designer</td>\n",
       "      <td>No Disability</td>\n",
       "      <td>Christian</td>\n",
       "      <td>Employed</td>\n",
       "      <td>51-55</td>\n",
       "      <td>3 Orryjar Lane</td>\n",
       "      <td>1</td>\n",
       "    </tr>\n",
       "    <tr>\n",
       "      <th>4</th>\n",
       "      <td>4</td>\n",
       "      <td>Orryjar Lane</td>\n",
       "      <td>Samantha</td>\n",
       "      <td>Coates</td>\n",
       "      <td>63</td>\n",
       "      <td>Head</td>\n",
       "      <td>Single</td>\n",
       "      <td>Female</td>\n",
       "      <td>Trade mark attorney</td>\n",
       "      <td>No Disability</td>\n",
       "      <td>No Religion</td>\n",
       "      <td>Employed</td>\n",
       "      <td>61-65</td>\n",
       "      <td>4 Orryjar Lane</td>\n",
       "      <td>2</td>\n",
       "    </tr>\n",
       "    <tr>\n",
       "      <th>...</th>\n",
       "      <td>...</td>\n",
       "      <td>...</td>\n",
       "      <td>...</td>\n",
       "      <td>...</td>\n",
       "      <td>...</td>\n",
       "      <td>...</td>\n",
       "      <td>...</td>\n",
       "      <td>...</td>\n",
       "      <td>...</td>\n",
       "      <td>...</td>\n",
       "      <td>...</td>\n",
       "      <td>...</td>\n",
       "      <td>...</td>\n",
       "      <td>...</td>\n",
       "      <td>...</td>\n",
       "    </tr>\n",
       "    <tr>\n",
       "      <th>9644</th>\n",
       "      <td>1</td>\n",
       "      <td>Armagh Longhouse</td>\n",
       "      <td>Diana</td>\n",
       "      <td>Yates</td>\n",
       "      <td>39</td>\n",
       "      <td>Head</td>\n",
       "      <td>Divorced</td>\n",
       "      <td>Female</td>\n",
       "      <td>Unemployed</td>\n",
       "      <td>Physical Disability</td>\n",
       "      <td>Methodist</td>\n",
       "      <td>Employed</td>\n",
       "      <td>36-40</td>\n",
       "      <td>1 Armagh Longhouse</td>\n",
       "      <td>5</td>\n",
       "    </tr>\n",
       "    <tr>\n",
       "      <th>9645</th>\n",
       "      <td>1</td>\n",
       "      <td>Armagh Longhouse</td>\n",
       "      <td>Aaron</td>\n",
       "      <td>Yates</td>\n",
       "      <td>6</td>\n",
       "      <td>Son</td>\n",
       "      <td>Minor</td>\n",
       "      <td>Male</td>\n",
       "      <td>Student</td>\n",
       "      <td>No Disability</td>\n",
       "      <td>NA</td>\n",
       "      <td>Student</td>\n",
       "      <td>6-10</td>\n",
       "      <td>1 Armagh Longhouse</td>\n",
       "      <td>5</td>\n",
       "    </tr>\n",
       "    <tr>\n",
       "      <th>9646</th>\n",
       "      <td>1</td>\n",
       "      <td>Armagh Longhouse</td>\n",
       "      <td>Geraldine</td>\n",
       "      <td>Yates</td>\n",
       "      <td>3</td>\n",
       "      <td>Daughter</td>\n",
       "      <td>Minor</td>\n",
       "      <td>Female</td>\n",
       "      <td>Child</td>\n",
       "      <td>No Disability</td>\n",
       "      <td>NA</td>\n",
       "      <td>Child</td>\n",
       "      <td>0-5</td>\n",
       "      <td>1 Armagh Longhouse</td>\n",
       "      <td>5</td>\n",
       "    </tr>\n",
       "    <tr>\n",
       "      <th>9647</th>\n",
       "      <td>1</td>\n",
       "      <td>Armagh Longhouse</td>\n",
       "      <td>Daniel</td>\n",
       "      <td>Yates</td>\n",
       "      <td>1</td>\n",
       "      <td>Son</td>\n",
       "      <td>Minor</td>\n",
       "      <td>Male</td>\n",
       "      <td>Child</td>\n",
       "      <td>No Disability</td>\n",
       "      <td>NA</td>\n",
       "      <td>Child</td>\n",
       "      <td>0-5</td>\n",
       "      <td>1 Armagh Longhouse</td>\n",
       "      <td>5</td>\n",
       "    </tr>\n",
       "    <tr>\n",
       "      <th>9648</th>\n",
       "      <td>1</td>\n",
       "      <td>Armagh Longhouse</td>\n",
       "      <td>Gary</td>\n",
       "      <td>Thomas</td>\n",
       "      <td>64</td>\n",
       "      <td>Lodger</td>\n",
       "      <td>Single</td>\n",
       "      <td>Male</td>\n",
       "      <td>Health and safety inspector</td>\n",
       "      <td>No Disability</td>\n",
       "      <td>Christian</td>\n",
       "      <td>Employed</td>\n",
       "      <td>61-65</td>\n",
       "      <td>1 Armagh Longhouse</td>\n",
       "      <td>5</td>\n",
       "    </tr>\n",
       "  </tbody>\n",
       "</table>\n",
       "<p>9649 rows × 15 columns</p>\n",
       "</div>"
      ],
      "text/plain": [
       "      House Number            Street First Name  Last Name  Age  \\\n",
       "0                1      Orryjar Lane     Kieran       Ward   56   \n",
       "1                1      Orryjar Lane      Abdul  Pickering   43   \n",
       "2                2      Orryjar Lane   Rosemary     Steele   30   \n",
       "3                3      Orryjar Lane    Marilyn      Cooke   53   \n",
       "4                4      Orryjar Lane   Samantha     Coates   63   \n",
       "...            ...               ...        ...        ...  ...   \n",
       "9644             1  Armagh Longhouse      Diana      Yates   39   \n",
       "9645             1  Armagh Longhouse      Aaron      Yates    6   \n",
       "9646             1  Armagh Longhouse  Geraldine      Yates    3   \n",
       "9647             1  Armagh Longhouse     Daniel      Yates    1   \n",
       "9648             1  Armagh Longhouse       Gary     Thomas   64   \n",
       "\n",
       "     Relationship to Head of House Marital Status  Gender  \\\n",
       "0                             Head         Single    Male   \n",
       "1                             None         Single    Male   \n",
       "2                             Head         Single  Female   \n",
       "3                             Head         Single  Female   \n",
       "4                             Head         Single  Female   \n",
       "...                            ...            ...     ...   \n",
       "9644                          Head       Divorced  Female   \n",
       "9645                           Son          Minor    Male   \n",
       "9646                      Daughter          Minor  Female   \n",
       "9647                           Son          Minor    Male   \n",
       "9648                        Lodger         Single    Male   \n",
       "\n",
       "                              Occupation            Infirmity     Religion  \\\n",
       "0                        Careers adviser        No Disability     Catholic   \n",
       "1     Public relations account executive        No Disability    Christian   \n",
       "2                          Meteorologist        No Disability    Christian   \n",
       "3                     Jewellery designer        No Disability    Christian   \n",
       "4                    Trade mark attorney        No Disability  No Religion   \n",
       "...                                  ...                  ...          ...   \n",
       "9644                          Unemployed  Physical Disability    Methodist   \n",
       "9645                             Student        No Disability           NA   \n",
       "9646                               Child        No Disability           NA   \n",
       "9647                               Child        No Disability           NA   \n",
       "9648         Health and safety inspector        No Disability    Christian   \n",
       "\n",
       "     Employment Status Age Group             Address  No of Occupants  \n",
       "0             Employed     56-60      1 Orryjar Lane                2  \n",
       "1             Employed     41-45      1 Orryjar Lane                2  \n",
       "2             Employed     26-30      2 Orryjar Lane                1  \n",
       "3             Employed     51-55      3 Orryjar Lane                1  \n",
       "4             Employed     61-65      4 Orryjar Lane                2  \n",
       "...                ...       ...                 ...              ...  \n",
       "9644          Employed     36-40  1 Armagh Longhouse                5  \n",
       "9645           Student      6-10  1 Armagh Longhouse                5  \n",
       "9646             Child       0-5  1 Armagh Longhouse                5  \n",
       "9647             Child       0-5  1 Armagh Longhouse                5  \n",
       "9648          Employed     61-65  1 Armagh Longhouse                5  \n",
       "\n",
       "[9649 rows x 15 columns]"
      ]
     },
     "execution_count": 185,
     "metadata": {},
     "output_type": "execute_result"
    }
   ],
   "source": [
    "df"
   ]
  },
  {
   "cell_type": "markdown",
   "id": "668f26f8",
   "metadata": {},
   "source": [
    "So as to understand the housing situation and decide if there is a demand for more housing, we use the mode of occupants per street to compare the mean value. This should help us to determine the high and low occupancy level in the town.\n",
    "\n",
    "We are assuming that the town contains the same number of houses per street and that the houses have almost same sizes."
   ]
  },
  {
   "cell_type": "code",
   "execution_count": 186,
   "id": "4da81606",
   "metadata": {},
   "outputs": [],
   "source": [
    "#dataframe aggregation\n",
    "household_df = df.groupby('Street').agg(\n",
    "    ModeOccupant=pd.NamedAgg(column='No of Occupants', aggfunc=lambda x:x.value_counts().index[0]),\n",
    "    MeanOccupant=pd.NamedAgg(column='No of Occupants', aggfunc='mean')).reset_index()\n",
    "household_df['Occupancy Level'] = np.where(household_df[\"MeanOccupant\"]<=household_df[\"ModeOccupant\"], \"Low\", \"High\")"
   ]
  },
  {
   "cell_type": "markdown",
   "id": "fcffebf5",
   "metadata": {},
   "source": [
    "This grouping is done with reference to this [solution](https://stackoverflow.com/questions/15222754/groupby-pandas-dataframe-and-select-most-common-value) on stackoverflow."
   ]
  },
  {
   "cell_type": "code",
   "execution_count": 187,
   "id": "86132f75",
   "metadata": {},
   "outputs": [
    {
     "data": {
      "text/html": [
       "<div>\n",
       "<style scoped>\n",
       "    .dataframe tbody tr th:only-of-type {\n",
       "        vertical-align: middle;\n",
       "    }\n",
       "\n",
       "    .dataframe tbody tr th {\n",
       "        vertical-align: top;\n",
       "    }\n",
       "\n",
       "    .dataframe thead th {\n",
       "        text-align: right;\n",
       "    }\n",
       "</style>\n",
       "<table border=\"1\" class=\"dataframe\">\n",
       "  <thead>\n",
       "    <tr style=\"text-align: right;\">\n",
       "      <th></th>\n",
       "      <th>Street</th>\n",
       "      <th>ModeOccupant</th>\n",
       "      <th>MeanOccupant</th>\n",
       "      <th>Occupancy Level</th>\n",
       "    </tr>\n",
       "  </thead>\n",
       "  <tbody>\n",
       "    <tr>\n",
       "      <th>0</th>\n",
       "      <td>Ali Harbors</td>\n",
       "      <td>2</td>\n",
       "      <td>1.784810</td>\n",
       "      <td>Low</td>\n",
       "    </tr>\n",
       "    <tr>\n",
       "      <th>1</th>\n",
       "      <td>Armagh Longhouse</td>\n",
       "      <td>5</td>\n",
       "      <td>5.000000</td>\n",
       "      <td>Low</td>\n",
       "    </tr>\n",
       "    <tr>\n",
       "      <th>2</th>\n",
       "      <td>Ashton Corner</td>\n",
       "      <td>1</td>\n",
       "      <td>1.962963</td>\n",
       "      <td>High</td>\n",
       "    </tr>\n",
       "    <tr>\n",
       "      <th>3</th>\n",
       "      <td>Ball Rest</td>\n",
       "      <td>4</td>\n",
       "      <td>4.133333</td>\n",
       "      <td>High</td>\n",
       "    </tr>\n",
       "    <tr>\n",
       "      <th>4</th>\n",
       "      <td>Barrett Circles</td>\n",
       "      <td>5</td>\n",
       "      <td>9.455378</td>\n",
       "      <td>High</td>\n",
       "    </tr>\n",
       "    <tr>\n",
       "      <th>5</th>\n",
       "      <td>Barry Rectory</td>\n",
       "      <td>6</td>\n",
       "      <td>6.000000</td>\n",
       "      <td>Low</td>\n",
       "    </tr>\n",
       "    <tr>\n",
       "      <th>6</th>\n",
       "      <td>Bastille Keep</td>\n",
       "      <td>5</td>\n",
       "      <td>5.000000</td>\n",
       "      <td>Low</td>\n",
       "    </tr>\n",
       "    <tr>\n",
       "      <th>7</th>\n",
       "      <td>Bentley Forges</td>\n",
       "      <td>1</td>\n",
       "      <td>1.775510</td>\n",
       "      <td>High</td>\n",
       "    </tr>\n",
       "    <tr>\n",
       "      <th>8</th>\n",
       "      <td>Bishop Avenue</td>\n",
       "      <td>2</td>\n",
       "      <td>3.363636</td>\n",
       "      <td>High</td>\n",
       "    </tr>\n",
       "    <tr>\n",
       "      <th>9</th>\n",
       "      <td>Black Causeway</td>\n",
       "      <td>2</td>\n",
       "      <td>1.897959</td>\n",
       "      <td>Low</td>\n",
       "    </tr>\n",
       "    <tr>\n",
       "      <th>10</th>\n",
       "      <td>Bond Burg</td>\n",
       "      <td>5</td>\n",
       "      <td>9.569832</td>\n",
       "      <td>High</td>\n",
       "    </tr>\n",
       "    <tr>\n",
       "      <th>11</th>\n",
       "      <td>Brass Centers</td>\n",
       "      <td>2</td>\n",
       "      <td>1.924731</td>\n",
       "      <td>Low</td>\n",
       "    </tr>\n",
       "    <tr>\n",
       "      <th>12</th>\n",
       "      <td>Brass Pine</td>\n",
       "      <td>4</td>\n",
       "      <td>4.393939</td>\n",
       "      <td>High</td>\n",
       "    </tr>\n",
       "    <tr>\n",
       "      <th>13</th>\n",
       "      <td>Brickcharm Street</td>\n",
       "      <td>2</td>\n",
       "      <td>1.839506</td>\n",
       "      <td>Low</td>\n",
       "    </tr>\n",
       "    <tr>\n",
       "      <th>14</th>\n",
       "      <td>Brightwater Haven</td>\n",
       "      <td>5</td>\n",
       "      <td>5.000000</td>\n",
       "      <td>Low</td>\n",
       "    </tr>\n",
       "    <tr>\n",
       "      <th>15</th>\n",
       "      <td>Butler Road</td>\n",
       "      <td>2</td>\n",
       "      <td>3.329670</td>\n",
       "      <td>High</td>\n",
       "    </tr>\n",
       "    <tr>\n",
       "      <th>16</th>\n",
       "      <td>Canary Glen</td>\n",
       "      <td>4</td>\n",
       "      <td>3.938356</td>\n",
       "      <td>Low</td>\n",
       "    </tr>\n",
       "    <tr>\n",
       "      <th>17</th>\n",
       "      <td>Capricorn Common</td>\n",
       "      <td>4</td>\n",
       "      <td>4.186441</td>\n",
       "      <td>High</td>\n",
       "    </tr>\n",
       "    <tr>\n",
       "      <th>18</th>\n",
       "      <td>Charity Avenue</td>\n",
       "      <td>4</td>\n",
       "      <td>3.935961</td>\n",
       "      <td>Low</td>\n",
       "    </tr>\n",
       "    <tr>\n",
       "      <th>19</th>\n",
       "      <td>Clayton Lake</td>\n",
       "      <td>5</td>\n",
       "      <td>3.293333</td>\n",
       "      <td>Low</td>\n",
       "    </tr>\n",
       "  </tbody>\n",
       "</table>\n",
       "</div>"
      ],
      "text/plain": [
       "               Street  ModeOccupant  MeanOccupant Occupancy Level\n",
       "0         Ali Harbors             2      1.784810             Low\n",
       "1    Armagh Longhouse             5      5.000000             Low\n",
       "2       Ashton Corner             1      1.962963            High\n",
       "3           Ball Rest             4      4.133333            High\n",
       "4     Barrett Circles             5      9.455378            High\n",
       "5       Barry Rectory             6      6.000000             Low\n",
       "6       Bastille Keep             5      5.000000             Low\n",
       "7      Bentley Forges             1      1.775510            High\n",
       "8       Bishop Avenue             2      3.363636            High\n",
       "9      Black Causeway             2      1.897959             Low\n",
       "10          Bond Burg             5      9.569832            High\n",
       "11      Brass Centers             2      1.924731             Low\n",
       "12         Brass Pine             4      4.393939            High\n",
       "13  Brickcharm Street             2      1.839506             Low\n",
       "14  Brightwater Haven             5      5.000000             Low\n",
       "15        Butler Road             2      3.329670            High\n",
       "16        Canary Glen             4      3.938356             Low\n",
       "17   Capricorn Common             4      4.186441            High\n",
       "18     Charity Avenue             4      3.935961             Low\n",
       "19       Clayton Lake             5      3.293333             Low"
      ]
     },
     "execution_count": 187,
     "metadata": {},
     "output_type": "execute_result"
    }
   ],
   "source": [
    "household_df.head(20)"
   ]
  },
  {
   "cell_type": "code",
   "execution_count": 188,
   "id": "aa2ae9fa",
   "metadata": {},
   "outputs": [],
   "source": [
    "#merging occupancy level to original dataframe.\n",
    "df = df.merge(household_df, on='Street')"
   ]
  },
  {
   "cell_type": "code",
   "execution_count": 189,
   "id": "40b3f01b",
   "metadata": {},
   "outputs": [],
   "source": [
    "df = df.drop(columns=['MeanOccupant', 'ModeOccupant'])"
   ]
  },
  {
   "cell_type": "code",
   "execution_count": 190,
   "id": "17dbbdda",
   "metadata": {},
   "outputs": [
    {
     "data": {
      "image/png": "[encoded data removed]",
      "text/plain": [
       "<Figure size 2500x1200 with 2 Axes>"
      ]
     },
     "metadata": {},
     "output_type": "display_data"
    }
   ],
   "source": [
    "fig, axes = plt.subplots(figsize=(25,12), ncols=2, nrows=1)\n",
    "\n",
    "ax1 = sns.countplot(x='Occupancy Level', data=household_df, ax=axes[0])\n",
    "ax2 = sns.barplot(x=\"Occupancy Level\", y=\"No of Occupants\", data=df.groupby(\"Occupancy Level\", as_index=False).count(), ax=axes[1])\n",
    "\n",
    "ax1.set_ylabel(\"No. of Streets\")\n",
    "\n",
    "ax1.set_title(\"No. of Streets by Occupancy Level\")\n",
    "ax2.set_title(\"Total Population by Occupancy Level\")\n",
    "plt.savefig(\"./graphs/Occupancy Level\")\n",
    "plt.show()"
   ]
  },
  {
   "cell_type": "markdown",
   "id": "deb83eb4",
   "metadata": {},
   "source": [
    "### Infirmity"
   ]
  },
  {
   "cell_type": "code",
   "execution_count": 191,
   "id": "051bdaf3",
   "metadata": {},
   "outputs": [
    {
     "data": {
      "image/png": "[encoded data removed]",
      "text/plain": [
       "<Figure size 1000x800 with 1 Axes>"
      ]
     },
     "metadata": {},
     "output_type": "display_data"
    }
   ],
   "source": [
    "fig = plt.figure(figsize=(10,8))\n",
    "infirmity_status = sns.countplot(y=\"Infirmity\", data=df, orient=\"h\" )\n",
    "infirmity_status.set_ylabel(\"No. of People\")\n",
    "plt.title(\"Infirmity Distribution\")\n",
    "plt.savefig(\"./graphs/Infirmity Distribtion\")\n",
    "plt.show()"
   ]
  },
  {
   "cell_type": "code",
   "execution_count": 192,
   "id": "6d4a1d03",
   "metadata": {
    "scrolled": true
   },
   "outputs": [
    {
     "data": {
      "image/png": "[encoded data removed]",
      "text/plain": [
       "<Figure size 1379.25x800 with 1 Axes>"
      ]
     },
     "metadata": {},
     "output_type": "display_data"
    }
   ],
   "source": [
    "# Is Infirmity peculiar to an age range?\n",
    "sns.displot(x='Age', data=df.loc[df[\"Infirmity\"]!='No Disability'], hue=\"Infirmity\", multiple='stack', height=8, aspect=1.5)\n",
    "plt.savefig(\"./graphs/Infirmity by age Distribtion\")\n",
    "plt.show()\n"
   ]
  },
  {
   "cell_type": "code",
   "execution_count": 193,
   "id": "47c892b6",
   "metadata": {},
   "outputs": [
    {
     "data": {
      "text/plain": [
       "No Disability          99.212354\n",
       "Physical Disability     0.248730\n",
       "Disabled                0.145093\n",
       "Deaf                    0.124365\n",
       "Blind                   0.124365\n",
       "Unknown Infection       0.072546\n",
       "Mental Disability       0.072546\n",
       "Name: Infirmity, dtype: float64"
      ]
     },
     "execution_count": 193,
     "metadata": {},
     "output_type": "execute_result"
    }
   ],
   "source": [
    "df['Infirmity'].value_counts() / len(df) * 100"
   ]
  },
  {
   "cell_type": "code",
   "execution_count": 194,
   "id": "54f734f0",
   "metadata": {},
   "outputs": [
    {
     "name": "stdout",
     "output_type": "stream",
     "text": [
      "<class 'pandas.core.frame.DataFrame'>\n",
      "Int64Index: 9649 entries, 0 to 9648\n",
      "Data columns (total 16 columns):\n",
      " #   Column                         Non-Null Count  Dtype \n",
      "---  ------                         --------------  ----- \n",
      " 0   House Number                   9649 non-null   int32 \n",
      " 1   Street                         9649 non-null   object\n",
      " 2   First Name                     9649 non-null   object\n",
      " 3   Last Name                      9649 non-null   object\n",
      " 4   Age                            9649 non-null   int32 \n",
      " 5   Relationship to Head of House  9649 non-null   object\n",
      " 6   Marital Status                 9649 non-null   object\n",
      " 7   Gender                         9649 non-null   object\n",
      " 8   Occupation                     9649 non-null   object\n",
      " 9   Infirmity                      9649 non-null   object\n",
      " 10  Religion                       9649 non-null   object\n",
      " 11  Employment Status              9649 non-null   object\n",
      " 12  Age Group                      9649 non-null   object\n",
      " 13  Address                        9649 non-null   object\n",
      " 14  No of Occupants                9649 non-null   int64 \n",
      " 15  Occupancy Level                9649 non-null   object\n",
      "dtypes: int32(2), int64(1), object(13)\n",
      "memory usage: 1.2+ MB\n"
     ]
    }
   ],
   "source": [
    "df.info()\n"
   ]
  },
  {
   "cell_type": "code",
   "execution_count": 195,
   "id": "d322b04e",
   "metadata": {},
   "outputs": [
    {
     "data": {
      "text/html": [
       "<div>\n",
       "<style scoped>\n",
       "    .dataframe tbody tr th:only-of-type {\n",
       "        vertical-align: middle;\n",
       "    }\n",
       "\n",
       "    .dataframe tbody tr th {\n",
       "        vertical-align: top;\n",
       "    }\n",
       "\n",
       "    .dataframe thead th {\n",
       "        text-align: right;\n",
       "    }\n",
       "</style>\n",
       "<table border=\"1\" class=\"dataframe\">\n",
       "  <thead>\n",
       "    <tr style=\"text-align: right;\">\n",
       "      <th></th>\n",
       "      <th>House Number</th>\n",
       "      <th>Age</th>\n",
       "      <th>No of Occupants</th>\n",
       "    </tr>\n",
       "  </thead>\n",
       "  <tbody>\n",
       "    <tr>\n",
       "      <th>count</th>\n",
       "      <td>9649.000000</td>\n",
       "      <td>9649.000000</td>\n",
       "      <td>9649.000000</td>\n",
       "    </tr>\n",
       "    <tr>\n",
       "      <th>mean</th>\n",
       "      <td>37.123018</td>\n",
       "      <td>35.004767</td>\n",
       "      <td>4.454659</td>\n",
       "    </tr>\n",
       "    <tr>\n",
       "      <th>std</th>\n",
       "      <td>38.955750</td>\n",
       "      <td>21.416015</td>\n",
       "      <td>3.466590</td>\n",
       "    </tr>\n",
       "    <tr>\n",
       "      <th>min</th>\n",
       "      <td>1.000000</td>\n",
       "      <td>0.000000</td>\n",
       "      <td>1.000000</td>\n",
       "    </tr>\n",
       "    <tr>\n",
       "      <th>25%</th>\n",
       "      <td>10.000000</td>\n",
       "      <td>18.000000</td>\n",
       "      <td>2.000000</td>\n",
       "    </tr>\n",
       "    <tr>\n",
       "      <th>50%</th>\n",
       "      <td>23.000000</td>\n",
       "      <td>34.000000</td>\n",
       "      <td>4.000000</td>\n",
       "    </tr>\n",
       "    <tr>\n",
       "      <th>75%</th>\n",
       "      <td>48.000000</td>\n",
       "      <td>50.000000</td>\n",
       "      <td>5.000000</td>\n",
       "    </tr>\n",
       "    <tr>\n",
       "      <th>max</th>\n",
       "      <td>172.000000</td>\n",
       "      <td>103.000000</td>\n",
       "      <td>22.000000</td>\n",
       "    </tr>\n",
       "  </tbody>\n",
       "</table>\n",
       "</div>"
      ],
      "text/plain": [
       "       House Number          Age  No of Occupants\n",
       "count   9649.000000  9649.000000      9649.000000\n",
       "mean      37.123018    35.004767         4.454659\n",
       "std       38.955750    21.416015         3.466590\n",
       "min        1.000000     0.000000         1.000000\n",
       "25%       10.000000    18.000000         2.000000\n",
       "50%       23.000000    34.000000         4.000000\n",
       "75%       48.000000    50.000000         5.000000\n",
       "max      172.000000   103.000000        22.000000"
      ]
     },
     "execution_count": 195,
     "metadata": {},
     "output_type": "execute_result"
    }
   ],
   "source": [
    "df.describe()"
   ]
  },
  {
   "cell_type": "code",
   "execution_count": null,
   "id": "56e7bba2",
   "metadata": {},
   "outputs": [],
   "source": []
  }
 ],
 "metadata": {
  "kernelspec": {
   "display_name": "Python 3 (ipykernel)",
   "language": "python",
   "name": "python3"
  },
  "language_info": {
   "codemirror_mode": {
    "name": "ipython",
    "version": 3
   },
   "file_extension": ".py",
   "mimetype": "text/x-python",
   "name": "python",
   "nbconvert_exporter": "python",
   "pygments_lexer": "ipython3",
   "version": "3.10.7"
  }
 },
 "nbformat": 4,
 "nbformat_minor": 5
}
